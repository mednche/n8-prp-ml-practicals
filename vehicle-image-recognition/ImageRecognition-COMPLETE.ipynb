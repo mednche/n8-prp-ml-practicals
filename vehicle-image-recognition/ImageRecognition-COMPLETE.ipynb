{
 "cells": [
  {
   "cell_type": "markdown",
   "metadata": {},
   "source": [
    "# Image recognition of vehicle's make (and model) using TensorFlow\n",
    "\n",
    "**Credits**: This code was produced by [Natacha Chenevoy](https://github.com/mednche) and is available on [Github](https://github.com/mednche/Vehicle-Image-Recognition). I ([Nick Malleson](http://nickmalleson.co.uk/)) have adapted it slightly here, but have made only relatively minor changes so can't take any of the credit. For full details about the original project, the data, etc., refer to Natacha's page.\n",
    "\n",
    "## Introduction\n",
    "\n",
    "This script trains a convolutional neural network model to recognise a vehicle's make and model. This was done using Google's [Tensorflow](https://www.tensorflow.org/) and [TFlearn](http://tflearn.org/), a deep learning library built on top of Tensorflow. \n",
    "\n",
    "## Dataset\n",
    "\n",
    "The dataset, which is available as part of a machine learning competition on [Kaggle](https://www.kaggle.com/c/carvana-image-masking-challenge/data) contains a large number of photographs of cars. There is also a separate file that tells us the make and model of each car. The challenge is to create an algorithm that will automatically work out the make and model from new images. \n",
    "\n",
    "**IMPORTANT**: Together, the pictures files are very big. Therefore you have to _**download the images yourself**_ before the code below will work:\n",
    "\n",
    " 1. [This page](https://www.kaggle.com/c/carvana-image-masking-challenge/data) lists all of the data files that are available for the competition. You need to download `train.zip`, extract the images, and store them in the `CarImages` folder\n",
    " 2. If you want more images (which will make the model take longer to train, but might lead to better results) then also download `test.zip`. Again, extract those images and put them in the `CarImages` folder.\n",
    "\n",
    "## Training the network\n",
    "\n",
    "I have trained two models with the same architecture (see below). \n",
    "- Model 1 takes make, model and vehicle ID in input\n",
    "- Model 2 only takes make and model in input\n",
    "\n",
    "\n",
    "**Architecture of the neural network:**\n",
    "\n",
    "Input -> Conv -> Relu -> Pool -> Conv -> Relu -> Pool -> FullyConnected -> Regression\n",
    "\n",
    "This architecture is rather commonly used in deep learning.\n",
    "\n",
    "**Neural network terminology:**\n",
    "- *One epoch* = one forward pass and one backward pass of all the training images\n",
    "- *Batch size* = the number of training images in one forward/backward pass. The higher the batch size, the more memory space needed, but it will be faster.\n",
    "- *Number of iterations* = number of passes, each pass using [batch size] number of images. \n",
    "To be clear, one pass = one forward pass + one backward pass (the forward pass and backward pass are not counted as two different passes).\n",
    "\n"
   ]
  },
  {
   "cell_type": "markdown",
   "metadata": {},
   "source": [
    "## Import necessary libraries\n",
    "\n",
    "We are going to use a library called [Tensor Flow](https://www.tensorflow.org/). This is an \"an open source software library for numerical computation using data flow graphs\". It is commonly used to do image recognition tasks (among other things).\n",
    "\n",
    "You need to install the following libraries:\n",
    " - `conda install tensorflow scikit-learn pillow imageio`\n",
    " - `pip install tflearn`\n",
    " \n",
    " \n",
    "You also need `pandas` and `numpy` but may have these already as we installed them in the previous tutorial. Just in case not, you can install them both by installing `scipy`:\n",
    " - `conda install scipy`"
   ]
  },
  {
   "cell_type": "code",
   "execution_count": 1,
   "metadata": {},
   "outputs": [
    {
     "name": "stdout",
     "output_type": "stream",
     "text": [
      "hdf5 is not supported on this machine (please install/reinstall h5py for optimal experience)\n",
      "curses is not supported on this machine (please install/reinstall curses for an optimal experience)\n"
     ]
    }
   ],
   "source": [
    "import os\n",
    "import pandas as pd\n",
    "from os.path import splitext\n",
    "import numpy as np\n",
    "import random\n",
    "\n",
    "# tensorflow\n",
    "import tensorflow as tf\n",
    "\n",
    "# tflearn and some helpers\n",
    "import tflearn\n",
    "from tflearn.data_utils import shuffle\n",
    "from tflearn.layers.core import input_data, dropout, fully_connected\n",
    "from tflearn.layers.conv import conv_2d, max_pool_2d\n",
    "from tflearn.layers.estimator import regression\n",
    "from tflearn.data_preprocessing import ImagePreprocessing\n",
    "from tflearn.data_augmentation import ImageAugmentation\n",
    "\n",
    "# sklearn\n",
    "from sklearn.model_selection import train_test_split\n",
    "from sklearn.metrics import confusion_matrix, precision_score, recall_score, f1_score, cohen_kappa_score\n",
    "\n",
    "# for reading images\n",
    "import imageio\n",
    "from PIL import Image\n",
    "\n",
    "# Displaying things (graphs etc) \n",
    "import matplotlib.pyplot as plt\n",
    "\n"
   ]
  },
  {
   "cell_type": "markdown",
   "metadata": {},
   "source": [
    "## Data Preparation\n",
    "\n",
    "### Get name of all images in folder\n",
    "\n",
    "Open the folder with the images and get the name of every image."
   ]
  },
  {
   "cell_type": "code",
   "execution_count": 2,
   "metadata": {},
   "outputs": [
    {
     "name": "stdout",
     "output_type": "stream",
     "text": [
      "Working with 5088 images\n"
     ]
    }
   ],
   "source": [
    "# Get all files in merged folder\n",
    "folder = \"./CarImages\"\n",
    "onlyfiles = []\n",
    "for f in os.listdir(folder):\n",
    "    if os.path.isfile(os.path.join(folder, f)) and \\\n",
    "      os.path.join(folder, f)[-4:] == \".jpg\":\n",
    "        onlyfiles.append(f)\n",
    "print(\"Working with\",len(onlyfiles),\"images\")\n",
    "\n",
    "# due to low memory available, I restricted the dataset size\n",
    "#onlyfiles = onlyfiles[:5000]\n",
    "#print(\"Reduced to {0} images\".format(len(onlyfiles)))\n"
   ]
  },
  {
   "cell_type": "markdown",
   "metadata": {},
   "source": [
    "### Fetch the labels associated with each images\n",
    "\n",
    "There is a file called `metadata.csv` that stores the make and model of each car. The code below reads this file and cross-references it with the name of the image file to work out which car is in each image."
   ]
  },
  {
   "cell_type": "code",
   "execution_count": 3,
   "metadata": {
    "scrolled": false
   },
   "outputs": [
    {
     "name": "stdout",
     "output_type": "stream",
     "text": [
      "Files in train_files: 5088\n"
     ]
    }
   ],
   "source": [
    "train_files = []\n",
    "y_train =  pd.DataFrame()\n",
    "\n",
    "# import the metadata for the cars\n",
    "data =  pd.read_csv(\"./CarImages/metadata.csv\")\n",
    "\n",
    "for _file in onlyfiles:\n",
    "    # add file name to list of train_file\n",
    "    train_files.append(_file)\n",
    "    \n",
    "    # remove name extension \n",
    "    file = splitext(_file)[0]\n",
    "    \n",
    "    # get id of vehicle\n",
    "    car_id = file.split(\"_\")[0]\n",
    "    \n",
    "    # get corresponding make\n",
    "    make = data[data.id == car_id].make.tolist()[0]\n",
    "    model = data[data.id == car_id].model.tolist()[0]\n",
    "    name = car_id\n",
    "    \n",
    "    y_train = y_train.append({'name': name, 'make':make, 'model':model}, ignore_index=True)\n",
    "    \n",
    "print(\"Files in train_files: {}\".format(len(train_files)))"
   ]
  },
  {
   "cell_type": "markdown",
   "metadata": {},
   "source": [
    "### Check the data"
   ]
  },
  {
   "cell_type": "markdown",
   "metadata": {},
   "source": [
    "Lets have a look to see which cars we actually have in the data (just first and last few)"
   ]
  },
  {
   "cell_type": "code",
   "execution_count": 4,
   "metadata": {},
   "outputs": [
    {
     "data": {
      "text/html": [
       "<div>\n",
       "<style>\n",
       "    .dataframe thead tr:only-child th {\n",
       "        text-align: right;\n",
       "    }\n",
       "\n",
       "    .dataframe thead th {\n",
       "        text-align: left;\n",
       "    }\n",
       "\n",
       "    .dataframe tbody tr th {\n",
       "        vertical-align: top;\n",
       "    }\n",
       "</style>\n",
       "<table border=\"1\" class=\"dataframe\">\n",
       "  <thead>\n",
       "    <tr style=\"text-align: right;\">\n",
       "      <th></th>\n",
       "      <th>make</th>\n",
       "      <th>model</th>\n",
       "      <th>name</th>\n",
       "    </tr>\n",
       "  </thead>\n",
       "  <tbody>\n",
       "    <tr>\n",
       "      <th>0</th>\n",
       "      <td>Acura</td>\n",
       "      <td>RLX</td>\n",
       "      <td>00087a6bd4dc</td>\n",
       "    </tr>\n",
       "    <tr>\n",
       "      <th>1</th>\n",
       "      <td>Acura</td>\n",
       "      <td>RLX</td>\n",
       "      <td>00087a6bd4dc</td>\n",
       "    </tr>\n",
       "    <tr>\n",
       "      <th>2</th>\n",
       "      <td>Acura</td>\n",
       "      <td>RLX</td>\n",
       "      <td>00087a6bd4dc</td>\n",
       "    </tr>\n",
       "    <tr>\n",
       "      <th>3</th>\n",
       "      <td>Acura</td>\n",
       "      <td>RLX</td>\n",
       "      <td>00087a6bd4dc</td>\n",
       "    </tr>\n",
       "    <tr>\n",
       "      <th>4</th>\n",
       "      <td>Acura</td>\n",
       "      <td>RLX</td>\n",
       "      <td>00087a6bd4dc</td>\n",
       "    </tr>\n",
       "    <tr>\n",
       "      <th>5</th>\n",
       "      <td>Acura</td>\n",
       "      <td>RLX</td>\n",
       "      <td>00087a6bd4dc</td>\n",
       "    </tr>\n",
       "    <tr>\n",
       "      <th>6</th>\n",
       "      <td>Acura</td>\n",
       "      <td>RLX</td>\n",
       "      <td>00087a6bd4dc</td>\n",
       "    </tr>\n",
       "    <tr>\n",
       "      <th>7</th>\n",
       "      <td>Acura</td>\n",
       "      <td>RLX</td>\n",
       "      <td>00087a6bd4dc</td>\n",
       "    </tr>\n",
       "    <tr>\n",
       "      <th>8</th>\n",
       "      <td>Acura</td>\n",
       "      <td>RLX</td>\n",
       "      <td>00087a6bd4dc</td>\n",
       "    </tr>\n",
       "    <tr>\n",
       "      <th>9</th>\n",
       "      <td>Acura</td>\n",
       "      <td>RLX</td>\n",
       "      <td>00087a6bd4dc</td>\n",
       "    </tr>\n",
       "    <tr>\n",
       "      <th>10</th>\n",
       "      <td>Acura</td>\n",
       "      <td>RLX</td>\n",
       "      <td>00087a6bd4dc</td>\n",
       "    </tr>\n",
       "    <tr>\n",
       "      <th>11</th>\n",
       "      <td>Acura</td>\n",
       "      <td>RLX</td>\n",
       "      <td>00087a6bd4dc</td>\n",
       "    </tr>\n",
       "    <tr>\n",
       "      <th>12</th>\n",
       "      <td>Acura</td>\n",
       "      <td>RLX</td>\n",
       "      <td>00087a6bd4dc</td>\n",
       "    </tr>\n",
       "    <tr>\n",
       "      <th>13</th>\n",
       "      <td>Acura</td>\n",
       "      <td>RLX</td>\n",
       "      <td>00087a6bd4dc</td>\n",
       "    </tr>\n",
       "    <tr>\n",
       "      <th>14</th>\n",
       "      <td>Acura</td>\n",
       "      <td>RLX</td>\n",
       "      <td>00087a6bd4dc</td>\n",
       "    </tr>\n",
       "    <tr>\n",
       "      <th>15</th>\n",
       "      <td>Acura</td>\n",
       "      <td>RLX</td>\n",
       "      <td>00087a6bd4dc</td>\n",
       "    </tr>\n",
       "    <tr>\n",
       "      <th>16</th>\n",
       "      <td>Nissan</td>\n",
       "      <td>cube</td>\n",
       "      <td>02159e548029</td>\n",
       "    </tr>\n",
       "    <tr>\n",
       "      <th>17</th>\n",
       "      <td>Nissan</td>\n",
       "      <td>cube</td>\n",
       "      <td>02159e548029</td>\n",
       "    </tr>\n",
       "    <tr>\n",
       "      <th>18</th>\n",
       "      <td>Nissan</td>\n",
       "      <td>cube</td>\n",
       "      <td>02159e548029</td>\n",
       "    </tr>\n",
       "    <tr>\n",
       "      <th>19</th>\n",
       "      <td>Nissan</td>\n",
       "      <td>cube</td>\n",
       "      <td>02159e548029</td>\n",
       "    </tr>\n",
       "    <tr>\n",
       "      <th>20</th>\n",
       "      <td>Nissan</td>\n",
       "      <td>cube</td>\n",
       "      <td>02159e548029</td>\n",
       "    </tr>\n",
       "    <tr>\n",
       "      <th>21</th>\n",
       "      <td>Nissan</td>\n",
       "      <td>cube</td>\n",
       "      <td>02159e548029</td>\n",
       "    </tr>\n",
       "    <tr>\n",
       "      <th>22</th>\n",
       "      <td>Nissan</td>\n",
       "      <td>cube</td>\n",
       "      <td>02159e548029</td>\n",
       "    </tr>\n",
       "    <tr>\n",
       "      <th>23</th>\n",
       "      <td>Nissan</td>\n",
       "      <td>cube</td>\n",
       "      <td>02159e548029</td>\n",
       "    </tr>\n",
       "    <tr>\n",
       "      <th>24</th>\n",
       "      <td>Nissan</td>\n",
       "      <td>cube</td>\n",
       "      <td>02159e548029</td>\n",
       "    </tr>\n",
       "    <tr>\n",
       "      <th>25</th>\n",
       "      <td>Nissan</td>\n",
       "      <td>cube</td>\n",
       "      <td>02159e548029</td>\n",
       "    </tr>\n",
       "    <tr>\n",
       "      <th>26</th>\n",
       "      <td>Nissan</td>\n",
       "      <td>cube</td>\n",
       "      <td>02159e548029</td>\n",
       "    </tr>\n",
       "    <tr>\n",
       "      <th>27</th>\n",
       "      <td>Nissan</td>\n",
       "      <td>cube</td>\n",
       "      <td>02159e548029</td>\n",
       "    </tr>\n",
       "    <tr>\n",
       "      <th>28</th>\n",
       "      <td>Nissan</td>\n",
       "      <td>cube</td>\n",
       "      <td>02159e548029</td>\n",
       "    </tr>\n",
       "    <tr>\n",
       "      <th>29</th>\n",
       "      <td>Nissan</td>\n",
       "      <td>cube</td>\n",
       "      <td>02159e548029</td>\n",
       "    </tr>\n",
       "    <tr>\n",
       "      <th>...</th>\n",
       "      <td>...</td>\n",
       "      <td>...</td>\n",
       "      <td>...</td>\n",
       "    </tr>\n",
       "    <tr>\n",
       "      <th>5058</th>\n",
       "      <td>Chrysler</td>\n",
       "      <td>Town and Country</td>\n",
       "      <td>fecea3036c59</td>\n",
       "    </tr>\n",
       "    <tr>\n",
       "      <th>5059</th>\n",
       "      <td>Chrysler</td>\n",
       "      <td>Town and Country</td>\n",
       "      <td>fecea3036c59</td>\n",
       "    </tr>\n",
       "    <tr>\n",
       "      <th>5060</th>\n",
       "      <td>Chrysler</td>\n",
       "      <td>Town and Country</td>\n",
       "      <td>fecea3036c59</td>\n",
       "    </tr>\n",
       "    <tr>\n",
       "      <th>5061</th>\n",
       "      <td>Chrysler</td>\n",
       "      <td>Town and Country</td>\n",
       "      <td>fecea3036c59</td>\n",
       "    </tr>\n",
       "    <tr>\n",
       "      <th>5062</th>\n",
       "      <td>Chrysler</td>\n",
       "      <td>Town and Country</td>\n",
       "      <td>fecea3036c59</td>\n",
       "    </tr>\n",
       "    <tr>\n",
       "      <th>5063</th>\n",
       "      <td>Chrysler</td>\n",
       "      <td>Town and Country</td>\n",
       "      <td>fecea3036c59</td>\n",
       "    </tr>\n",
       "    <tr>\n",
       "      <th>5064</th>\n",
       "      <td>Chrysler</td>\n",
       "      <td>Town and Country</td>\n",
       "      <td>fecea3036c59</td>\n",
       "    </tr>\n",
       "    <tr>\n",
       "      <th>5065</th>\n",
       "      <td>Chrysler</td>\n",
       "      <td>Town and Country</td>\n",
       "      <td>fecea3036c59</td>\n",
       "    </tr>\n",
       "    <tr>\n",
       "      <th>5066</th>\n",
       "      <td>Chrysler</td>\n",
       "      <td>Town and Country</td>\n",
       "      <td>fecea3036c59</td>\n",
       "    </tr>\n",
       "    <tr>\n",
       "      <th>5067</th>\n",
       "      <td>Chrysler</td>\n",
       "      <td>Town and Country</td>\n",
       "      <td>fecea3036c59</td>\n",
       "    </tr>\n",
       "    <tr>\n",
       "      <th>5068</th>\n",
       "      <td>Chrysler</td>\n",
       "      <td>Town and Country</td>\n",
       "      <td>fecea3036c59</td>\n",
       "    </tr>\n",
       "    <tr>\n",
       "      <th>5069</th>\n",
       "      <td>Chrysler</td>\n",
       "      <td>Town and Country</td>\n",
       "      <td>fecea3036c59</td>\n",
       "    </tr>\n",
       "    <tr>\n",
       "      <th>5070</th>\n",
       "      <td>Chrysler</td>\n",
       "      <td>Town and Country</td>\n",
       "      <td>fecea3036c59</td>\n",
       "    </tr>\n",
       "    <tr>\n",
       "      <th>5071</th>\n",
       "      <td>Chrysler</td>\n",
       "      <td>Town and Country</td>\n",
       "      <td>fecea3036c59</td>\n",
       "    </tr>\n",
       "    <tr>\n",
       "      <th>5072</th>\n",
       "      <td>Land Rover</td>\n",
       "      <td>Range Rover</td>\n",
       "      <td>fff9b3a5373f</td>\n",
       "    </tr>\n",
       "    <tr>\n",
       "      <th>5073</th>\n",
       "      <td>Land Rover</td>\n",
       "      <td>Range Rover</td>\n",
       "      <td>fff9b3a5373f</td>\n",
       "    </tr>\n",
       "    <tr>\n",
       "      <th>5074</th>\n",
       "      <td>Land Rover</td>\n",
       "      <td>Range Rover</td>\n",
       "      <td>fff9b3a5373f</td>\n",
       "    </tr>\n",
       "    <tr>\n",
       "      <th>5075</th>\n",
       "      <td>Land Rover</td>\n",
       "      <td>Range Rover</td>\n",
       "      <td>fff9b3a5373f</td>\n",
       "    </tr>\n",
       "    <tr>\n",
       "      <th>5076</th>\n",
       "      <td>Land Rover</td>\n",
       "      <td>Range Rover</td>\n",
       "      <td>fff9b3a5373f</td>\n",
       "    </tr>\n",
       "    <tr>\n",
       "      <th>5077</th>\n",
       "      <td>Land Rover</td>\n",
       "      <td>Range Rover</td>\n",
       "      <td>fff9b3a5373f</td>\n",
       "    </tr>\n",
       "    <tr>\n",
       "      <th>5078</th>\n",
       "      <td>Land Rover</td>\n",
       "      <td>Range Rover</td>\n",
       "      <td>fff9b3a5373f</td>\n",
       "    </tr>\n",
       "    <tr>\n",
       "      <th>5079</th>\n",
       "      <td>Land Rover</td>\n",
       "      <td>Range Rover</td>\n",
       "      <td>fff9b3a5373f</td>\n",
       "    </tr>\n",
       "    <tr>\n",
       "      <th>5080</th>\n",
       "      <td>Land Rover</td>\n",
       "      <td>Range Rover</td>\n",
       "      <td>fff9b3a5373f</td>\n",
       "    </tr>\n",
       "    <tr>\n",
       "      <th>5081</th>\n",
       "      <td>Land Rover</td>\n",
       "      <td>Range Rover</td>\n",
       "      <td>fff9b3a5373f</td>\n",
       "    </tr>\n",
       "    <tr>\n",
       "      <th>5082</th>\n",
       "      <td>Land Rover</td>\n",
       "      <td>Range Rover</td>\n",
       "      <td>fff9b3a5373f</td>\n",
       "    </tr>\n",
       "    <tr>\n",
       "      <th>5083</th>\n",
       "      <td>Land Rover</td>\n",
       "      <td>Range Rover</td>\n",
       "      <td>fff9b3a5373f</td>\n",
       "    </tr>\n",
       "    <tr>\n",
       "      <th>5084</th>\n",
       "      <td>Land Rover</td>\n",
       "      <td>Range Rover</td>\n",
       "      <td>fff9b3a5373f</td>\n",
       "    </tr>\n",
       "    <tr>\n",
       "      <th>5085</th>\n",
       "      <td>Land Rover</td>\n",
       "      <td>Range Rover</td>\n",
       "      <td>fff9b3a5373f</td>\n",
       "    </tr>\n",
       "    <tr>\n",
       "      <th>5086</th>\n",
       "      <td>Land Rover</td>\n",
       "      <td>Range Rover</td>\n",
       "      <td>fff9b3a5373f</td>\n",
       "    </tr>\n",
       "    <tr>\n",
       "      <th>5087</th>\n",
       "      <td>Land Rover</td>\n",
       "      <td>Range Rover</td>\n",
       "      <td>fff9b3a5373f</td>\n",
       "    </tr>\n",
       "  </tbody>\n",
       "</table>\n",
       "<p>5088 rows × 3 columns</p>\n",
       "</div>"
      ],
      "text/plain": [
       "            make             model          name\n",
       "0          Acura               RLX  00087a6bd4dc\n",
       "1          Acura               RLX  00087a6bd4dc\n",
       "2          Acura               RLX  00087a6bd4dc\n",
       "3          Acura               RLX  00087a6bd4dc\n",
       "4          Acura               RLX  00087a6bd4dc\n",
       "5          Acura               RLX  00087a6bd4dc\n",
       "6          Acura               RLX  00087a6bd4dc\n",
       "7          Acura               RLX  00087a6bd4dc\n",
       "8          Acura               RLX  00087a6bd4dc\n",
       "9          Acura               RLX  00087a6bd4dc\n",
       "10         Acura               RLX  00087a6bd4dc\n",
       "11         Acura               RLX  00087a6bd4dc\n",
       "12         Acura               RLX  00087a6bd4dc\n",
       "13         Acura               RLX  00087a6bd4dc\n",
       "14         Acura               RLX  00087a6bd4dc\n",
       "15         Acura               RLX  00087a6bd4dc\n",
       "16        Nissan              cube  02159e548029\n",
       "17        Nissan              cube  02159e548029\n",
       "18        Nissan              cube  02159e548029\n",
       "19        Nissan              cube  02159e548029\n",
       "20        Nissan              cube  02159e548029\n",
       "21        Nissan              cube  02159e548029\n",
       "22        Nissan              cube  02159e548029\n",
       "23        Nissan              cube  02159e548029\n",
       "24        Nissan              cube  02159e548029\n",
       "25        Nissan              cube  02159e548029\n",
       "26        Nissan              cube  02159e548029\n",
       "27        Nissan              cube  02159e548029\n",
       "28        Nissan              cube  02159e548029\n",
       "29        Nissan              cube  02159e548029\n",
       "...          ...               ...           ...\n",
       "5058    Chrysler  Town and Country  fecea3036c59\n",
       "5059    Chrysler  Town and Country  fecea3036c59\n",
       "5060    Chrysler  Town and Country  fecea3036c59\n",
       "5061    Chrysler  Town and Country  fecea3036c59\n",
       "5062    Chrysler  Town and Country  fecea3036c59\n",
       "5063    Chrysler  Town and Country  fecea3036c59\n",
       "5064    Chrysler  Town and Country  fecea3036c59\n",
       "5065    Chrysler  Town and Country  fecea3036c59\n",
       "5066    Chrysler  Town and Country  fecea3036c59\n",
       "5067    Chrysler  Town and Country  fecea3036c59\n",
       "5068    Chrysler  Town and Country  fecea3036c59\n",
       "5069    Chrysler  Town and Country  fecea3036c59\n",
       "5070    Chrysler  Town and Country  fecea3036c59\n",
       "5071    Chrysler  Town and Country  fecea3036c59\n",
       "5072  Land Rover       Range Rover  fff9b3a5373f\n",
       "5073  Land Rover       Range Rover  fff9b3a5373f\n",
       "5074  Land Rover       Range Rover  fff9b3a5373f\n",
       "5075  Land Rover       Range Rover  fff9b3a5373f\n",
       "5076  Land Rover       Range Rover  fff9b3a5373f\n",
       "5077  Land Rover       Range Rover  fff9b3a5373f\n",
       "5078  Land Rover       Range Rover  fff9b3a5373f\n",
       "5079  Land Rover       Range Rover  fff9b3a5373f\n",
       "5080  Land Rover       Range Rover  fff9b3a5373f\n",
       "5081  Land Rover       Range Rover  fff9b3a5373f\n",
       "5082  Land Rover       Range Rover  fff9b3a5373f\n",
       "5083  Land Rover       Range Rover  fff9b3a5373f\n",
       "5084  Land Rover       Range Rover  fff9b3a5373f\n",
       "5085  Land Rover       Range Rover  fff9b3a5373f\n",
       "5086  Land Rover       Range Rover  fff9b3a5373f\n",
       "5087  Land Rover       Range Rover  fff9b3a5373f\n",
       "\n",
       "[5088 rows x 3 columns]"
      ]
     },
     "execution_count": 4,
     "metadata": {},
     "output_type": "execute_result"
    }
   ],
   "source": [
    "y_train"
   ]
  },
  {
   "cell_type": "markdown",
   "metadata": {},
   "source": [
    "Check all vehicles have 16 images each (from different angles)"
   ]
  },
  {
   "cell_type": "code",
   "execution_count": 5,
   "metadata": {},
   "outputs": [
    {
     "data": {
      "text/html": [
       "<div>\n",
       "<style>\n",
       "    .dataframe thead tr:only-child th {\n",
       "        text-align: right;\n",
       "    }\n",
       "\n",
       "    .dataframe thead th {\n",
       "        text-align: left;\n",
       "    }\n",
       "\n",
       "    .dataframe tbody tr th {\n",
       "        vertical-align: top;\n",
       "    }\n",
       "</style>\n",
       "<table border=\"1\" class=\"dataframe\">\n",
       "  <thead>\n",
       "    <tr style=\"text-align: right;\">\n",
       "      <th></th>\n",
       "      <th>make</th>\n",
       "      <th>model</th>\n",
       "    </tr>\n",
       "    <tr>\n",
       "      <th>name</th>\n",
       "      <th></th>\n",
       "      <th></th>\n",
       "    </tr>\n",
       "  </thead>\n",
       "  <tbody>\n",
       "  </tbody>\n",
       "</table>\n",
       "</div>"
      ],
      "text/plain": [
       "Empty DataFrame\n",
       "Columns: [make, model]\n",
       "Index: []"
      ]
     },
     "execution_count": 5,
     "metadata": {},
     "output_type": "execute_result"
    }
   ],
   "source": [
    "# number of images per vehicle\n",
    "df = y_train.groupby(y_train.name).count()\n",
    "df[df.make != 16]"
   ]
  },
  {
   "cell_type": "markdown",
   "metadata": {},
   "source": [
    "Good, the table above is empty which means that all cars have a label attached in \"metadata.csv\""
   ]
  },
  {
   "cell_type": "markdown",
   "metadata": {},
   "source": [
    "Check that all images have a label in 'metadata.csv'"
   ]
  },
  {
   "cell_type": "code",
   "execution_count": 6,
   "metadata": {},
   "outputs": [
    {
     "name": "stdout",
     "output_type": "stream",
     "text": [
      "The dataset has got 5088 images of 318 unique vehicles\n"
     ]
    }
   ],
   "source": [
    "# number of images and vehicles\n",
    "print(\"The dataset has got {} images of {} unique vehicles\".format(len(onlyfiles), len(y_train.name.unique())))"
   ]
  },
  {
   "cell_type": "markdown",
   "metadata": {},
   "source": [
    "An example of a randomly chosen image and its labels:"
   ]
  },
  {
   "cell_type": "code",
   "execution_count": 7,
   "metadata": {
    "scrolled": true
   },
   "outputs": [
    {
     "name": "stdout",
     "output_type": "stream",
     "text": [
      "AxesImage(54,36;334.8x217.44)\n"
     ]
    },
    {
     "data": {
      "text/plain": [
       "make              Kia\n",
       "model           Rondo\n",
       "name     c7145a80089e\n",
       "Name: 3929, dtype: object"
      ]
     },
     "execution_count": 7,
     "metadata": {},
     "output_type": "execute_result"
    }
   ],
   "source": [
    "image_num = random.randint(0,len(onlyfiles)-1)\n",
    "image = imageio.imread(os.path.join(folder, onlyfiles[image_num]))\n",
    "print(plt.imshow(image, cmap=plt.cm.gray))\n",
    "\n",
    "# ...And corresponding labels (make and model)\n",
    "y_train.iloc[image_num]"
   ]
  },
  {
   "cell_type": "markdown",
   "metadata": {},
   "source": [
    "### Crop the images\n",
    "\n",
    "To make things easier on the computer, we will reduce the resolution of the images."
   ]
  },
  {
   "cell_type": "code",
   "execution_count": 8,
   "metadata": {},
   "outputs": [
    {
     "name": "stdout",
     "output_type": "stream",
     "text": [
      "Downscaling from (1918, 1280) to (450, 450)\n"
     ]
    }
   ],
   "source": [
    "# Open the first image (all images have the same size)\n",
    "im = Image.open(os.path.join(folder, train_files[0]))\n",
    "\n",
    "# set size here\n",
    "size = 450, 450 \n",
    "#size = [x/3.0 for x in im.size] # Make the images one third of their original size\n",
    "print(\"Downscaling from {} to {}\".format(im.size, size))\n",
    "\n",
    "# resize\n",
    "im.thumbnail(size,Image.ANTIALIAS)\n",
    "\n",
    "# crop\n",
    "img = im.crop((0, 50, im.size[0], im.size[1]))\n",
    "\n",
    "# show cropped image\n",
    "plt.imshow(img, cmap=plt.cm.gray)\n",
    "\n",
    "# get final dimentions of all images\n",
    "image_width, image_height = img.size\n",
    "\n",
    "# set number of colour channels \n",
    "channels = 3"
   ]
  },
  {
   "cell_type": "markdown",
   "metadata": {},
   "source": [
    "### Add all images to an array\n",
    "\n",
    "Creat a large array that will store all of the (cropped) images, ready for analysis. This might take a few minutes"
   ]
  },
  {
   "cell_type": "code",
   "execution_count": 9,
   "metadata": {},
   "outputs": [
    {
     "name": "stdout",
     "output_type": "stream",
     "text": [
      "Have added 500 images to array\n",
      "Have added 1000 images to array\n",
      "Have added 1500 images to array\n",
      "Have added 2000 images to array\n",
      "Have added 2500 images to array\n",
      "Have added 3000 images to array\n",
      "Have added 3500 images to array\n",
      "Have added 4000 images to array\n",
      "Have added 4500 images to array\n",
      "Have added 5000 images to array\n",
      "All images to array!\n"
     ]
    }
   ],
   "source": [
    "# (for training on coloured images)\n",
    "dataset = np.ndarray(shape=(len(train_files), image_height, image_width, channels), dtype=np.float32)\n",
    "\n",
    "i = 0\n",
    "for _file in train_files:\n",
    "    img = Image.open(os.path.join(folder,_file))\n",
    "    # resize\n",
    "    img.thumbnail(size,Image.ANTIALIAS)\n",
    "    # crop top of image to reduce size             \n",
    "    img = img.crop((0, 50, im.size[0], im.size[1]))\n",
    "    \n",
    "    # Convert to Numpy Array\n",
    "    x = np.array(img)  \n",
    "   \n",
    "    # Normalize\n",
    "    dataset[i] = x\n",
    "    i += 1\n",
    "    if i % 500 == 0:\n",
    "        print(\"Have added {} images to array\".format(i))\n",
    "print(\"All images to array!\")\n",
    "\n",
    "#dataset[0]"
   ]
  },
  {
   "cell_type": "markdown",
   "metadata": {},
   "source": [
    "### Recode car labels (make, model, id) into numbers instead of strings\n",
    "\n",
    "This makes it easier for the computer to understand them - it is easier for computers to distinguish between numbers than it is between sequences of characters (which are also just nubers, but big and complicated ones!)."
   ]
  },
  {
   "cell_type": "code",
   "execution_count": 10,
   "metadata": {
    "scrolled": true
   },
   "outputs": [
    {
     "data": {
      "text/html": [
       "<div>\n",
       "<style>\n",
       "    .dataframe thead tr:only-child th {\n",
       "        text-align: right;\n",
       "    }\n",
       "\n",
       "    .dataframe thead th {\n",
       "        text-align: left;\n",
       "    }\n",
       "\n",
       "    .dataframe tbody tr th {\n",
       "        vertical-align: top;\n",
       "    }\n",
       "</style>\n",
       "<table border=\"1\" class=\"dataframe\">\n",
       "  <thead>\n",
       "    <tr style=\"text-align: right;\">\n",
       "      <th></th>\n",
       "      <th>make</th>\n",
       "      <th>model</th>\n",
       "    </tr>\n",
       "  </thead>\n",
       "  <tbody>\n",
       "    <tr>\n",
       "      <th>0</th>\n",
       "      <td>0</td>\n",
       "      <td>0</td>\n",
       "    </tr>\n",
       "    <tr>\n",
       "      <th>1</th>\n",
       "      <td>0</td>\n",
       "      <td>0</td>\n",
       "    </tr>\n",
       "    <tr>\n",
       "      <th>2</th>\n",
       "      <td>0</td>\n",
       "      <td>0</td>\n",
       "    </tr>\n",
       "    <tr>\n",
       "      <th>3</th>\n",
       "      <td>0</td>\n",
       "      <td>0</td>\n",
       "    </tr>\n",
       "    <tr>\n",
       "      <th>4</th>\n",
       "      <td>0</td>\n",
       "      <td>0</td>\n",
       "    </tr>\n",
       "    <tr>\n",
       "      <th>5</th>\n",
       "      <td>0</td>\n",
       "      <td>0</td>\n",
       "    </tr>\n",
       "    <tr>\n",
       "      <th>6</th>\n",
       "      <td>0</td>\n",
       "      <td>0</td>\n",
       "    </tr>\n",
       "    <tr>\n",
       "      <th>7</th>\n",
       "      <td>0</td>\n",
       "      <td>0</td>\n",
       "    </tr>\n",
       "    <tr>\n",
       "      <th>8</th>\n",
       "      <td>0</td>\n",
       "      <td>0</td>\n",
       "    </tr>\n",
       "    <tr>\n",
       "      <th>9</th>\n",
       "      <td>0</td>\n",
       "      <td>0</td>\n",
       "    </tr>\n",
       "    <tr>\n",
       "      <th>10</th>\n",
       "      <td>0</td>\n",
       "      <td>0</td>\n",
       "    </tr>\n",
       "    <tr>\n",
       "      <th>11</th>\n",
       "      <td>0</td>\n",
       "      <td>0</td>\n",
       "    </tr>\n",
       "    <tr>\n",
       "      <th>12</th>\n",
       "      <td>0</td>\n",
       "      <td>0</td>\n",
       "    </tr>\n",
       "    <tr>\n",
       "      <th>13</th>\n",
       "      <td>0</td>\n",
       "      <td>0</td>\n",
       "    </tr>\n",
       "    <tr>\n",
       "      <th>14</th>\n",
       "      <td>0</td>\n",
       "      <td>0</td>\n",
       "    </tr>\n",
       "    <tr>\n",
       "      <th>15</th>\n",
       "      <td>0</td>\n",
       "      <td>0</td>\n",
       "    </tr>\n",
       "    <tr>\n",
       "      <th>16</th>\n",
       "      <td>1</td>\n",
       "      <td>1</td>\n",
       "    </tr>\n",
       "    <tr>\n",
       "      <th>17</th>\n",
       "      <td>1</td>\n",
       "      <td>1</td>\n",
       "    </tr>\n",
       "    <tr>\n",
       "      <th>18</th>\n",
       "      <td>1</td>\n",
       "      <td>1</td>\n",
       "    </tr>\n",
       "    <tr>\n",
       "      <th>19</th>\n",
       "      <td>1</td>\n",
       "      <td>1</td>\n",
       "    </tr>\n",
       "  </tbody>\n",
       "</table>\n",
       "</div>"
      ],
      "text/plain": [
       "   make model\n",
       "0     0     0\n",
       "1     0     0\n",
       "2     0     0\n",
       "3     0     0\n",
       "4     0     0\n",
       "5     0     0\n",
       "6     0     0\n",
       "7     0     0\n",
       "8     0     0\n",
       "9     0     0\n",
       "10    0     0\n",
       "11    0     0\n",
       "12    0     0\n",
       "13    0     0\n",
       "14    0     0\n",
       "15    0     0\n",
       "16    1     1\n",
       "17    1     1\n",
       "18    1     1\n",
       "19    1     1"
      ]
     },
     "execution_count": 10,
     "metadata": {},
     "output_type": "execute_result"
    }
   ],
   "source": [
    "# Associate each unique make with a number\n",
    "maketonumberdict = {}\n",
    "unique_make = y_train.make.unique() \n",
    "for i in range(len(unique_make)):\n",
    "    maketonumberdict[unique_make[i]] = i \n",
    "\n",
    "# Associate each unique model with a number                  \n",
    "modeltonumberdict = {}\n",
    "unique_model = y_train.model.unique() \n",
    "for i in range(len(unique_model)):\n",
    "    modeltonumberdict[unique_model[i]] = i\n",
    "\n",
    "# Associate each unique id string with a number                  \n",
    "idtonumberdict = {}\n",
    "unique_id = y_train.name.unique() \n",
    "for i in range(len(unique_id)):\n",
    "    idtonumberdict[unique_id[i]] = i\n",
    "\n",
    "    \n",
    "def makeAndModelToNumber(mydata, makedict, modeldict, iddict):\n",
    "    mydata_copy = mydata.copy() # make a copy otherwise the changes are made in both df\n",
    "    for i in range(len(mydata_copy['make'])):\n",
    "        mydata_copy.loc[i,'make'] = makedict[mydata_copy.loc[i,'make']]\n",
    "        mydata_copy.loc[i,'model'] = modeldict[mydata_copy.loc[i,'model']]\n",
    "        #mydata_copy.loc[i,'name'] = iddict[mydata_copy.loc[i,'name']]\n",
    "    return mydata_copy\n",
    "\n",
    "clean_y_train = makeAndModelToNumber(y_train, maketonumberdict, modeltonumberdict, idtonumberdict)\n",
    "\n",
    "# Drop the 'name' field as we don't care about this\n",
    "# (it's a unique name for each make-model combination)\n",
    "clean_y_train = clean_y_train.drop(\"name\", axis = 1)\n",
    "clean_y_train.head(20)"
   ]
  },
  {
   "cell_type": "markdown",
   "metadata": {},
   "source": [
    "## Training the model\n",
    "\n",
    "**This is the main part of the program**. In the code below, the data are divided into 'test' and 'training' sets (recall that machine learning algorithms are usually trained on one set of data, but hten tested on another set). The Tensor Flow pipline is then created as there are a number of different operations that are applied to the images (discussing all of the elements in detail would could be a whole university module on its own!).\n",
    "\n",
    "This can take around 30 mins with 5000.\n",
    "\n",
    "Begin by resetting tensorflow graph data"
   ]
  },
  {
   "cell_type": "code",
   "execution_count": 11,
   "metadata": {},
   "outputs": [
    {
     "data": {
      "text/plain": [
       "[]"
      ]
     },
     "execution_count": 11,
     "metadata": {},
     "output_type": "execute_result"
    }
   ],
   "source": [
    "# reset underlying graph data\n",
    "tf.reset_default_graph()\n",
    "tf.get_default_graph().get_operations()"
   ]
  },
  {
   "cell_type": "markdown",
   "metadata": {},
   "source": [
    "Now prepare the model"
   ]
  },
  {
   "cell_type": "code",
   "execution_count": 12,
   "metadata": {
    "collapsed": true
   },
   "outputs": [],
   "source": [
    "#with tf.Graph().as_default():\n",
    "with tf.Session() as session:\n",
    "    \n",
    "    # split data into train and test sets\n",
    "    X_train, X_test, y_train, y_test = train_test_split(dataset, clean_y_train, test_size=0.2, random_state=33)\n",
    "    \n",
    "    # trainx and trainy should be numpy arrays\n",
    "    y_train = np.array(y_train)\n",
    "    y_test = np.array(y_test)\n",
    "    \n",
    "    # Make sure the data is normalized\n",
    "    img_prep = ImagePreprocessing()\n",
    "    img_prep.add_featurewise_zero_center()\n",
    "    img_prep.add_featurewise_stdnorm()\n",
    "\n",
    "\n",
    "    ### Define our network architecture:\n",
    "    \n",
    "    # Input is a tensor: height*width images with 3 color channels (red, green and blue) \n",
    "    \n",
    "    network = input_data(shape=[None, image_height, image_width, channels],\n",
    "                         data_preprocessing=img_prep)\n",
    "    \n",
    "    # Step 1: Convolution\n",
    "    # NB: low level recognises edges and curves, high level recognises wheel shapes and logos\n",
    "    network = conv_2d(network, 5, 7, activation='relu') # number of filters: 5, filter size 7 \n",
    "    \n",
    "    # Step 2: Max pooling\n",
    "    network = max_pool_2d(network, 2) # kernel size\n",
    "    \n",
    "    # Step 3\n",
    "    network = conv_2d(network, 5, 3, activation='relu') # number of filters: 5, filter size 3 \n",
    "    \n",
    "    # Step 4: Max pooling\n",
    "    network = max_pool_2d(network, 2) # kernel size\n",
    "                        \n",
    "    # Step 5: Fully-connected 2 node neural network\n",
    "    # Looks at all images for each class and identify the high level features in common\n",
    "    network = fully_connected(network, 2, activation='relu') # number of outputs = number of classes the model has to choose from\n",
    "    \n",
    "    # Step 6: Regression\n",
    "    network = tflearn.regression(network)\n",
    "                             \n",
    "    \n",
    "    # Wrap the network in a model object\n",
    "    model = tflearn.DNN(network, tensorboard_verbose=3, tensorboard_dir =\"./tmp/tflearn_logs\")\n",
    "    "
   ]
  },
  {
   "cell_type": "markdown",
   "metadata": {},
   "source": [
    "At this point, the tensor flow model has been created, but hasn't done anything yet.\n",
    "\n",
    "**Now pass the images through the model pipeline it to train it**. This is the part that can take some time. See if you can hear the computer fan start to speed up; it has a lot of work to do."
   ]
  },
  {
   "cell_type": "code",
   "execution_count": 13,
   "metadata": {},
   "outputs": [
    {
     "name": "stdout",
     "output_type": "stream",
     "text": [
      "---------------------------------\n",
      "Run id: MH1E25\n",
      "Log directory: ./tmp/tflearn_logs/\n",
      "---------------------------------\n",
      "Preprocessing... Calculating mean over all dataset (this may take long)...\n",
      "Mean: 164.738 (To avoid repetitive computation, add it to argument 'mean' of `add_featurewise_zero_center`)\n",
      "---------------------------------\n",
      "Preprocessing... Calculating std over all dataset (this may take long)...\n",
      "STD: 61.551 (To avoid repetitive computation, add it to argument 'std' of `add_featurewise_stdnorm`)\n",
      "INFO:tensorflow:Summary name Accuracy/ (raw) is illegal; using Accuracy/__raw_ instead.\n",
      "---------------------------------\n",
      "Training samples: 4070\n",
      "Validation samples: 1018\n",
      "--\n"
     ]
    },
    {
     "ename": "InvalidArgumentError",
     "evalue": "Nan in summary histogram for: Conv2D_1/W/Gradients\n\t [[Node: Conv2D_1/W/Gradients = HistogramSummary[T=DT_FLOAT, _device=\"/job:localhost/replica:0/task:0/cpu:0\"](Conv2D_1/W/Gradients/tag, Adam/clip_by_global_norm/Adam/clip_by_global_norm/_2)]]\n\nCaused by op 'Conv2D_1/W/Gradients', defined at:\n  File \"C:\\Users\\geonsm\\AppData\\Local\\conda\\conda\\envs\\PRP\\lib\\runpy.py\", line 193, in _run_module_as_main\n    \"__main__\", mod_spec)\n  File \"C:\\Users\\geonsm\\AppData\\Local\\conda\\conda\\envs\\PRP\\lib\\runpy.py\", line 85, in _run_code\n    exec(code, run_globals)\n  File \"C:\\Users\\geonsm\\AppData\\Local\\conda\\conda\\envs\\PRP\\lib\\site-packages\\ipykernel_launcher.py\", line 16, in <module>\n    app.launch_new_instance()\n  File \"C:\\Users\\geonsm\\AppData\\Local\\conda\\conda\\envs\\PRP\\lib\\site-packages\\traitlets\\config\\application.py\", line 658, in launch_instance\n    app.start()\n  File \"C:\\Users\\geonsm\\AppData\\Local\\conda\\conda\\envs\\PRP\\lib\\site-packages\\ipykernel\\kernelapp.py\", line 477, in start\n    ioloop.IOLoop.instance().start()\n  File \"C:\\Users\\geonsm\\AppData\\Local\\conda\\conda\\envs\\PRP\\lib\\site-packages\\zmq\\eventloop\\ioloop.py\", line 177, in start\n    super(ZMQIOLoop, self).start()\n  File \"C:\\Users\\geonsm\\AppData\\Local\\conda\\conda\\envs\\PRP\\lib\\site-packages\\tornado\\ioloop.py\", line 888, in start\n    handler_func(fd_obj, events)\n  File \"C:\\Users\\geonsm\\AppData\\Local\\conda\\conda\\envs\\PRP\\lib\\site-packages\\tornado\\stack_context.py\", line 277, in null_wrapper\n    return fn(*args, **kwargs)\n  File \"C:\\Users\\geonsm\\AppData\\Local\\conda\\conda\\envs\\PRP\\lib\\site-packages\\zmq\\eventloop\\zmqstream.py\", line 440, in _handle_events\n    self._handle_recv()\n  File \"C:\\Users\\geonsm\\AppData\\Local\\conda\\conda\\envs\\PRP\\lib\\site-packages\\zmq\\eventloop\\zmqstream.py\", line 472, in _handle_recv\n    self._run_callback(callback, msg)\n  File \"C:\\Users\\geonsm\\AppData\\Local\\conda\\conda\\envs\\PRP\\lib\\site-packages\\zmq\\eventloop\\zmqstream.py\", line 414, in _run_callback\n    callback(*args, **kwargs)\n  File \"C:\\Users\\geonsm\\AppData\\Local\\conda\\conda\\envs\\PRP\\lib\\site-packages\\tornado\\stack_context.py\", line 277, in null_wrapper\n    return fn(*args, **kwargs)\n  File \"C:\\Users\\geonsm\\AppData\\Local\\conda\\conda\\envs\\PRP\\lib\\site-packages\\ipykernel\\kernelbase.py\", line 283, in dispatcher\n    return self.dispatch_shell(stream, msg)\n  File \"C:\\Users\\geonsm\\AppData\\Local\\conda\\conda\\envs\\PRP\\lib\\site-packages\\ipykernel\\kernelbase.py\", line 235, in dispatch_shell\n    handler(stream, idents, msg)\n  File \"C:\\Users\\geonsm\\AppData\\Local\\conda\\conda\\envs\\PRP\\lib\\site-packages\\ipykernel\\kernelbase.py\", line 399, in execute_request\n    user_expressions, allow_stdin)\n  File \"C:\\Users\\geonsm\\AppData\\Local\\conda\\conda\\envs\\PRP\\lib\\site-packages\\ipykernel\\ipkernel.py\", line 196, in do_execute\n    res = shell.run_cell(code, store_history=store_history, silent=silent)\n  File \"C:\\Users\\geonsm\\AppData\\Local\\conda\\conda\\envs\\PRP\\lib\\site-packages\\ipykernel\\zmqshell.py\", line 533, in run_cell\n    return super(ZMQInteractiveShell, self).run_cell(*args, **kwargs)\n  File \"C:\\Users\\geonsm\\AppData\\Local\\conda\\conda\\envs\\PRP\\lib\\site-packages\\IPython\\core\\interactiveshell.py\", line 2698, in run_cell\n    interactivity=interactivity, compiler=compiler, result=result)\n  File \"C:\\Users\\geonsm\\AppData\\Local\\conda\\conda\\envs\\PRP\\lib\\site-packages\\IPython\\core\\interactiveshell.py\", line 2802, in run_ast_nodes\n    if self.run_code(code, result):\n  File \"C:\\Users\\geonsm\\AppData\\Local\\conda\\conda\\envs\\PRP\\lib\\site-packages\\IPython\\core\\interactiveshell.py\", line 2862, in run_code\n    exec(code_obj, self.user_global_ns, self.user_ns)\n  File \"<ipython-input-12-0d5a18b3cfb9>\", line 46, in <module>\n    model = tflearn.DNN(network, tensorboard_verbose=3, tensorboard_dir =\"./tmp/tflearn_logs\")\n  File \"C:\\Users\\geonsm\\AppData\\Local\\conda\\conda\\envs\\PRP\\lib\\site-packages\\tflearn\\models\\dnn.py\", line 65, in __init__\n    best_val_accuracy=best_val_accuracy)\n  File \"C:\\Users\\geonsm\\AppData\\Local\\conda\\conda\\envs\\PRP\\lib\\site-packages\\tflearn\\helpers\\trainer.py\", line 131, in __init__\n    clip_gradients)\n  File \"C:\\Users\\geonsm\\AppData\\Local\\conda\\conda\\envs\\PRP\\lib\\site-packages\\tflearn\\helpers\\trainer.py\", line 710, in initialize_training_ops\n    self.create_summaries(tensorboard_verbose)\n  File \"C:\\Users\\geonsm\\AppData\\Local\\conda\\conda\\envs\\PRP\\lib\\site-packages\\tflearn\\helpers\\trainer.py\", line 921, in create_summaries\n    summarize_gradients(self.grad, summ_collection)\n  File \"C:\\Users\\geonsm\\AppData\\Local\\conda\\conda\\envs\\PRP\\lib\\site-packages\\tflearn\\helpers\\summarizer.py\", line 75, in summarize_gradients\n    summaries.add_gradients_summary(grads, \"\", \"\", summary_collection)\n  File \"C:\\Users\\geonsm\\AppData\\Local\\conda\\conda\\envs\\PRP\\lib\\site-packages\\tflearn\\summaries.py\", line 132, in add_gradients_summary\n    collection_key))\n  File \"C:\\Users\\geonsm\\AppData\\Local\\conda\\conda\\envs\\PRP\\lib\\site-packages\\tflearn\\summaries.py\", line 44, in get_summary\n    summ = tf.summary.histogram(tag, value)\n  File \"C:\\Users\\geonsm\\AppData\\Local\\conda\\conda\\envs\\PRP\\lib\\site-packages\\tensorflow\\python\\summary\\summary.py\", line 221, in histogram\n    tag=scope.rstrip('/'), values=values, name=scope)\n  File \"C:\\Users\\geonsm\\AppData\\Local\\conda\\conda\\envs\\PRP\\lib\\site-packages\\tensorflow\\python\\ops\\gen_logging_ops.py\", line 131, in _histogram_summary\n    name=name)\n  File \"C:\\Users\\geonsm\\AppData\\Local\\conda\\conda\\envs\\PRP\\lib\\site-packages\\tensorflow\\python\\framework\\op_def_library.py\", line 767, in apply_op\n    op_def=op_def)\n  File \"C:\\Users\\geonsm\\AppData\\Local\\conda\\conda\\envs\\PRP\\lib\\site-packages\\tensorflow\\python\\framework\\ops.py\", line 2506, in create_op\n    original_op=self._default_original_op, op_def=op_def)\n  File \"C:\\Users\\geonsm\\AppData\\Local\\conda\\conda\\envs\\PRP\\lib\\site-packages\\tensorflow\\python\\framework\\ops.py\", line 1269, in __init__\n    self._traceback = _extract_stack()\n\nInvalidArgumentError (see above for traceback): Nan in summary histogram for: Conv2D_1/W/Gradients\n\t [[Node: Conv2D_1/W/Gradients = HistogramSummary[T=DT_FLOAT, _device=\"/job:localhost/replica:0/task:0/cpu:0\"](Conv2D_1/W/Gradients/tag, Adam/clip_by_global_norm/Adam/clip_by_global_norm/_2)]]\n",
     "output_type": "error",
     "traceback": [
      "\u001b[1;31m---------------------------------------------------------------------------\u001b[0m",
      "\u001b[1;31mInvalidArgumentError\u001b[0m                      Traceback (most recent call last)",
      "\u001b[1;32m~\\AppData\\Local\\conda\\conda\\envs\\PRP\\lib\\site-packages\\tensorflow\\python\\client\\session.py\u001b[0m in \u001b[0;36m_do_call\u001b[1;34m(self, fn, *args)\u001b[0m\n\u001b[0;32m   1138\u001b[0m     \u001b[1;32mtry\u001b[0m\u001b[1;33m:\u001b[0m\u001b[1;33m\u001b[0m\u001b[0m\n\u001b[1;32m-> 1139\u001b[1;33m       \u001b[1;32mreturn\u001b[0m \u001b[0mfn\u001b[0m\u001b[1;33m(\u001b[0m\u001b[1;33m*\u001b[0m\u001b[0margs\u001b[0m\u001b[1;33m)\u001b[0m\u001b[1;33m\u001b[0m\u001b[0m\n\u001b[0m\u001b[0;32m   1140\u001b[0m     \u001b[1;32mexcept\u001b[0m \u001b[0merrors\u001b[0m\u001b[1;33m.\u001b[0m\u001b[0mOpError\u001b[0m \u001b[1;32mas\u001b[0m \u001b[0me\u001b[0m\u001b[1;33m:\u001b[0m\u001b[1;33m\u001b[0m\u001b[0m\n",
      "\u001b[1;32m~\\AppData\\Local\\conda\\conda\\envs\\PRP\\lib\\site-packages\\tensorflow\\python\\client\\session.py\u001b[0m in \u001b[0;36m_run_fn\u001b[1;34m(session, feed_dict, fetch_list, target_list, options, run_metadata)\u001b[0m\n\u001b[0;32m   1120\u001b[0m                                  \u001b[0mfeed_dict\u001b[0m\u001b[1;33m,\u001b[0m \u001b[0mfetch_list\u001b[0m\u001b[1;33m,\u001b[0m \u001b[0mtarget_list\u001b[0m\u001b[1;33m,\u001b[0m\u001b[1;33m\u001b[0m\u001b[0m\n\u001b[1;32m-> 1121\u001b[1;33m                                  status, run_metadata)\n\u001b[0m\u001b[0;32m   1122\u001b[0m \u001b[1;33m\u001b[0m\u001b[0m\n",
      "\u001b[1;32m~\\AppData\\Local\\conda\\conda\\envs\\PRP\\lib\\contextlib.py\u001b[0m in \u001b[0;36m__exit__\u001b[1;34m(self, type, value, traceback)\u001b[0m\n\u001b[0;32m     87\u001b[0m             \u001b[1;32mtry\u001b[0m\u001b[1;33m:\u001b[0m\u001b[1;33m\u001b[0m\u001b[0m\n\u001b[1;32m---> 88\u001b[1;33m                 \u001b[0mnext\u001b[0m\u001b[1;33m(\u001b[0m\u001b[0mself\u001b[0m\u001b[1;33m.\u001b[0m\u001b[0mgen\u001b[0m\u001b[1;33m)\u001b[0m\u001b[1;33m\u001b[0m\u001b[0m\n\u001b[0m\u001b[0;32m     89\u001b[0m             \u001b[1;32mexcept\u001b[0m \u001b[0mStopIteration\u001b[0m\u001b[1;33m:\u001b[0m\u001b[1;33m\u001b[0m\u001b[0m\n",
      "\u001b[1;32m~\\AppData\\Local\\conda\\conda\\envs\\PRP\\lib\\site-packages\\tensorflow\\python\\framework\\errors_impl.py\u001b[0m in \u001b[0;36mraise_exception_on_not_ok_status\u001b[1;34m()\u001b[0m\n\u001b[0;32m    465\u001b[0m           \u001b[0mcompat\u001b[0m\u001b[1;33m.\u001b[0m\u001b[0mas_text\u001b[0m\u001b[1;33m(\u001b[0m\u001b[0mpywrap_tensorflow\u001b[0m\u001b[1;33m.\u001b[0m\u001b[0mTF_Message\u001b[0m\u001b[1;33m(\u001b[0m\u001b[0mstatus\u001b[0m\u001b[1;33m)\u001b[0m\u001b[1;33m)\u001b[0m\u001b[1;33m,\u001b[0m\u001b[1;33m\u001b[0m\u001b[0m\n\u001b[1;32m--> 466\u001b[1;33m           pywrap_tensorflow.TF_GetCode(status))\n\u001b[0m\u001b[0;32m    467\u001b[0m   \u001b[1;32mfinally\u001b[0m\u001b[1;33m:\u001b[0m\u001b[1;33m\u001b[0m\u001b[0m\n",
      "\u001b[1;31mInvalidArgumentError\u001b[0m: Nan in summary histogram for: Conv2D_1/W/Gradients\n\t [[Node: Conv2D_1/W/Gradients = HistogramSummary[T=DT_FLOAT, _device=\"/job:localhost/replica:0/task:0/cpu:0\"](Conv2D_1/W/Gradients/tag, Adam/clip_by_global_norm/Adam/clip_by_global_norm/_2)]]",
      "\nDuring handling of the above exception, another exception occurred:\n",
      "\u001b[1;31mInvalidArgumentError\u001b[0m                      Traceback (most recent call last)",
      "\u001b[1;32m<timed eval>\u001b[0m in \u001b[0;36m<module>\u001b[1;34m()\u001b[0m\n",
      "\u001b[1;32m~\\AppData\\Local\\conda\\conda\\envs\\PRP\\lib\\site-packages\\tflearn\\models\\dnn.py\u001b[0m in \u001b[0;36mfit\u001b[1;34m(self, X_inputs, Y_targets, n_epoch, validation_set, show_metric, batch_size, shuffle, snapshot_epoch, snapshot_step, excl_trainops, validation_batch_size, run_id, callbacks)\u001b[0m\n\u001b[0;32m    214\u001b[0m                          \u001b[0mexcl_trainops\u001b[0m\u001b[1;33m=\u001b[0m\u001b[0mexcl_trainops\u001b[0m\u001b[1;33m,\u001b[0m\u001b[1;33m\u001b[0m\u001b[0m\n\u001b[0;32m    215\u001b[0m                          \u001b[0mrun_id\u001b[0m\u001b[1;33m=\u001b[0m\u001b[0mrun_id\u001b[0m\u001b[1;33m,\u001b[0m\u001b[1;33m\u001b[0m\u001b[0m\n\u001b[1;32m--> 216\u001b[1;33m                          callbacks=callbacks)\n\u001b[0m\u001b[0;32m    217\u001b[0m \u001b[1;33m\u001b[0m\u001b[0m\n\u001b[0;32m    218\u001b[0m     \u001b[1;32mdef\u001b[0m \u001b[0mfit_batch\u001b[0m\u001b[1;33m(\u001b[0m\u001b[0mself\u001b[0m\u001b[1;33m,\u001b[0m \u001b[0mX_inputs\u001b[0m\u001b[1;33m,\u001b[0m \u001b[0mY_targets\u001b[0m\u001b[1;33m)\u001b[0m\u001b[1;33m:\u001b[0m\u001b[1;33m\u001b[0m\u001b[0m\n",
      "\u001b[1;32m~\\AppData\\Local\\conda\\conda\\envs\\PRP\\lib\\site-packages\\tflearn\\helpers\\trainer.py\u001b[0m in \u001b[0;36mfit\u001b[1;34m(self, feed_dicts, n_epoch, val_feed_dicts, show_metric, snapshot_step, snapshot_epoch, shuffle_all, dprep_dict, daug_dict, excl_trainops, run_id, callbacks)\u001b[0m\n\u001b[0;32m    337\u001b[0m                                                        \u001b[1;33m(\u001b[0m\u001b[0mbool\u001b[0m\u001b[1;33m(\u001b[0m\u001b[0mself\u001b[0m\u001b[1;33m.\u001b[0m\u001b[0mbest_checkpoint_path\u001b[0m\u001b[1;33m)\u001b[0m \u001b[1;33m|\u001b[0m \u001b[0msnapshot_epoch\u001b[0m\u001b[1;33m)\u001b[0m\u001b[1;33m,\u001b[0m\u001b[1;33m\u001b[0m\u001b[0m\n\u001b[0;32m    338\u001b[0m                                                        \u001b[0msnapshot_step\u001b[0m\u001b[1;33m,\u001b[0m\u001b[1;33m\u001b[0m\u001b[0m\n\u001b[1;32m--> 339\u001b[1;33m                                                        show_metric)\n\u001b[0m\u001b[0;32m    340\u001b[0m \u001b[1;33m\u001b[0m\u001b[0m\n\u001b[0;32m    341\u001b[0m                             \u001b[1;31m# Update training state\u001b[0m\u001b[1;33m\u001b[0m\u001b[1;33m\u001b[0m\u001b[0m\n",
      "\u001b[1;32m~\\AppData\\Local\\conda\\conda\\envs\\PRP\\lib\\site-packages\\tflearn\\helpers\\trainer.py\u001b[0m in \u001b[0;36m_train\u001b[1;34m(self, training_step, snapshot_epoch, snapshot_step, show_metric)\u001b[0m\n\u001b[0;32m    816\u001b[0m         \u001b[0mtflearn\u001b[0m\u001b[1;33m.\u001b[0m\u001b[0mis_training\u001b[0m\u001b[1;33m(\u001b[0m\u001b[1;32mTrue\u001b[0m\u001b[1;33m,\u001b[0m \u001b[0msession\u001b[0m\u001b[1;33m=\u001b[0m\u001b[0mself\u001b[0m\u001b[1;33m.\u001b[0m\u001b[0msession\u001b[0m\u001b[1;33m)\u001b[0m\u001b[1;33m\u001b[0m\u001b[0m\n\u001b[0;32m    817\u001b[0m         _, train_summ_str = self.session.run([self.train, self.summ_op],\n\u001b[1;32m--> 818\u001b[1;33m                                              feed_batch)\n\u001b[0m\u001b[0;32m    819\u001b[0m \u001b[1;33m\u001b[0m\u001b[0m\n\u001b[0;32m    820\u001b[0m         \u001b[1;31m# Retrieve loss value from summary string\u001b[0m\u001b[1;33m\u001b[0m\u001b[1;33m\u001b[0m\u001b[0m\n",
      "\u001b[1;32m~\\AppData\\Local\\conda\\conda\\envs\\PRP\\lib\\site-packages\\tensorflow\\python\\client\\session.py\u001b[0m in \u001b[0;36mrun\u001b[1;34m(self, fetches, feed_dict, options, run_metadata)\u001b[0m\n\u001b[0;32m    787\u001b[0m     \u001b[1;32mtry\u001b[0m\u001b[1;33m:\u001b[0m\u001b[1;33m\u001b[0m\u001b[0m\n\u001b[0;32m    788\u001b[0m       result = self._run(None, fetches, feed_dict, options_ptr,\n\u001b[1;32m--> 789\u001b[1;33m                          run_metadata_ptr)\n\u001b[0m\u001b[0;32m    790\u001b[0m       \u001b[1;32mif\u001b[0m \u001b[0mrun_metadata\u001b[0m\u001b[1;33m:\u001b[0m\u001b[1;33m\u001b[0m\u001b[0m\n\u001b[0;32m    791\u001b[0m         \u001b[0mproto_data\u001b[0m \u001b[1;33m=\u001b[0m \u001b[0mtf_session\u001b[0m\u001b[1;33m.\u001b[0m\u001b[0mTF_GetBuffer\u001b[0m\u001b[1;33m(\u001b[0m\u001b[0mrun_metadata_ptr\u001b[0m\u001b[1;33m)\u001b[0m\u001b[1;33m\u001b[0m\u001b[0m\n",
      "\u001b[1;32m~\\AppData\\Local\\conda\\conda\\envs\\PRP\\lib\\site-packages\\tensorflow\\python\\client\\session.py\u001b[0m in \u001b[0;36m_run\u001b[1;34m(self, handle, fetches, feed_dict, options, run_metadata)\u001b[0m\n\u001b[0;32m    995\u001b[0m     \u001b[1;32mif\u001b[0m \u001b[0mfinal_fetches\u001b[0m \u001b[1;32mor\u001b[0m \u001b[0mfinal_targets\u001b[0m\u001b[1;33m:\u001b[0m\u001b[1;33m\u001b[0m\u001b[0m\n\u001b[0;32m    996\u001b[0m       results = self._do_run(handle, final_targets, final_fetches,\n\u001b[1;32m--> 997\u001b[1;33m                              feed_dict_string, options, run_metadata)\n\u001b[0m\u001b[0;32m    998\u001b[0m     \u001b[1;32melse\u001b[0m\u001b[1;33m:\u001b[0m\u001b[1;33m\u001b[0m\u001b[0m\n\u001b[0;32m    999\u001b[0m       \u001b[0mresults\u001b[0m \u001b[1;33m=\u001b[0m \u001b[1;33m[\u001b[0m\u001b[1;33m]\u001b[0m\u001b[1;33m\u001b[0m\u001b[0m\n",
      "\u001b[1;32m~\\AppData\\Local\\conda\\conda\\envs\\PRP\\lib\\site-packages\\tensorflow\\python\\client\\session.py\u001b[0m in \u001b[0;36m_do_run\u001b[1;34m(self, handle, target_list, fetch_list, feed_dict, options, run_metadata)\u001b[0m\n\u001b[0;32m   1130\u001b[0m     \u001b[1;32mif\u001b[0m \u001b[0mhandle\u001b[0m \u001b[1;32mis\u001b[0m \u001b[1;32mNone\u001b[0m\u001b[1;33m:\u001b[0m\u001b[1;33m\u001b[0m\u001b[0m\n\u001b[0;32m   1131\u001b[0m       return self._do_call(_run_fn, self._session, feed_dict, fetch_list,\n\u001b[1;32m-> 1132\u001b[1;33m                            target_list, options, run_metadata)\n\u001b[0m\u001b[0;32m   1133\u001b[0m     \u001b[1;32melse\u001b[0m\u001b[1;33m:\u001b[0m\u001b[1;33m\u001b[0m\u001b[0m\n\u001b[0;32m   1134\u001b[0m       return self._do_call(_prun_fn, self._session, handle, feed_dict,\n",
      "\u001b[1;32m~\\AppData\\Local\\conda\\conda\\envs\\PRP\\lib\\site-packages\\tensorflow\\python\\client\\session.py\u001b[0m in \u001b[0;36m_do_call\u001b[1;34m(self, fn, *args)\u001b[0m\n\u001b[0;32m   1150\u001b[0m         \u001b[1;32mexcept\u001b[0m \u001b[0mKeyError\u001b[0m\u001b[1;33m:\u001b[0m\u001b[1;33m\u001b[0m\u001b[0m\n\u001b[0;32m   1151\u001b[0m           \u001b[1;32mpass\u001b[0m\u001b[1;33m\u001b[0m\u001b[0m\n\u001b[1;32m-> 1152\u001b[1;33m       \u001b[1;32mraise\u001b[0m \u001b[0mtype\u001b[0m\u001b[1;33m(\u001b[0m\u001b[0me\u001b[0m\u001b[1;33m)\u001b[0m\u001b[1;33m(\u001b[0m\u001b[0mnode_def\u001b[0m\u001b[1;33m,\u001b[0m \u001b[0mop\u001b[0m\u001b[1;33m,\u001b[0m \u001b[0mmessage\u001b[0m\u001b[1;33m)\u001b[0m\u001b[1;33m\u001b[0m\u001b[0m\n\u001b[0m\u001b[0;32m   1153\u001b[0m \u001b[1;33m\u001b[0m\u001b[0m\n\u001b[0;32m   1154\u001b[0m   \u001b[1;32mdef\u001b[0m \u001b[0m_extend_graph\u001b[0m\u001b[1;33m(\u001b[0m\u001b[0mself\u001b[0m\u001b[1;33m)\u001b[0m\u001b[1;33m:\u001b[0m\u001b[1;33m\u001b[0m\u001b[0m\n",
      "\u001b[1;31mInvalidArgumentError\u001b[0m: Nan in summary histogram for: Conv2D_1/W/Gradients\n\t [[Node: Conv2D_1/W/Gradients = HistogramSummary[T=DT_FLOAT, _device=\"/job:localhost/replica:0/task:0/cpu:0\"](Conv2D_1/W/Gradients/tag, Adam/clip_by_global_norm/Adam/clip_by_global_norm/_2)]]\n\nCaused by op 'Conv2D_1/W/Gradients', defined at:\n  File \"C:\\Users\\geonsm\\AppData\\Local\\conda\\conda\\envs\\PRP\\lib\\runpy.py\", line 193, in _run_module_as_main\n    \"__main__\", mod_spec)\n  File \"C:\\Users\\geonsm\\AppData\\Local\\conda\\conda\\envs\\PRP\\lib\\runpy.py\", line 85, in _run_code\n    exec(code, run_globals)\n  File \"C:\\Users\\geonsm\\AppData\\Local\\conda\\conda\\envs\\PRP\\lib\\site-packages\\ipykernel_launcher.py\", line 16, in <module>\n    app.launch_new_instance()\n  File \"C:\\Users\\geonsm\\AppData\\Local\\conda\\conda\\envs\\PRP\\lib\\site-packages\\traitlets\\config\\application.py\", line 658, in launch_instance\n    app.start()\n  File \"C:\\Users\\geonsm\\AppData\\Local\\conda\\conda\\envs\\PRP\\lib\\site-packages\\ipykernel\\kernelapp.py\", line 477, in start\n    ioloop.IOLoop.instance().start()\n  File \"C:\\Users\\geonsm\\AppData\\Local\\conda\\conda\\envs\\PRP\\lib\\site-packages\\zmq\\eventloop\\ioloop.py\", line 177, in start\n    super(ZMQIOLoop, self).start()\n  File \"C:\\Users\\geonsm\\AppData\\Local\\conda\\conda\\envs\\PRP\\lib\\site-packages\\tornado\\ioloop.py\", line 888, in start\n    handler_func(fd_obj, events)\n  File \"C:\\Users\\geonsm\\AppData\\Local\\conda\\conda\\envs\\PRP\\lib\\site-packages\\tornado\\stack_context.py\", line 277, in null_wrapper\n    return fn(*args, **kwargs)\n  File \"C:\\Users\\geonsm\\AppData\\Local\\conda\\conda\\envs\\PRP\\lib\\site-packages\\zmq\\eventloop\\zmqstream.py\", line 440, in _handle_events\n    self._handle_recv()\n  File \"C:\\Users\\geonsm\\AppData\\Local\\conda\\conda\\envs\\PRP\\lib\\site-packages\\zmq\\eventloop\\zmqstream.py\", line 472, in _handle_recv\n    self._run_callback(callback, msg)\n  File \"C:\\Users\\geonsm\\AppData\\Local\\conda\\conda\\envs\\PRP\\lib\\site-packages\\zmq\\eventloop\\zmqstream.py\", line 414, in _run_callback\n    callback(*args, **kwargs)\n  File \"C:\\Users\\geonsm\\AppData\\Local\\conda\\conda\\envs\\PRP\\lib\\site-packages\\tornado\\stack_context.py\", line 277, in null_wrapper\n    return fn(*args, **kwargs)\n  File \"C:\\Users\\geonsm\\AppData\\Local\\conda\\conda\\envs\\PRP\\lib\\site-packages\\ipykernel\\kernelbase.py\", line 283, in dispatcher\n    return self.dispatch_shell(stream, msg)\n  File \"C:\\Users\\geonsm\\AppData\\Local\\conda\\conda\\envs\\PRP\\lib\\site-packages\\ipykernel\\kernelbase.py\", line 235, in dispatch_shell\n    handler(stream, idents, msg)\n  File \"C:\\Users\\geonsm\\AppData\\Local\\conda\\conda\\envs\\PRP\\lib\\site-packages\\ipykernel\\kernelbase.py\", line 399, in execute_request\n    user_expressions, allow_stdin)\n  File \"C:\\Users\\geonsm\\AppData\\Local\\conda\\conda\\envs\\PRP\\lib\\site-packages\\ipykernel\\ipkernel.py\", line 196, in do_execute\n    res = shell.run_cell(code, store_history=store_history, silent=silent)\n  File \"C:\\Users\\geonsm\\AppData\\Local\\conda\\conda\\envs\\PRP\\lib\\site-packages\\ipykernel\\zmqshell.py\", line 533, in run_cell\n    return super(ZMQInteractiveShell, self).run_cell(*args, **kwargs)\n  File \"C:\\Users\\geonsm\\AppData\\Local\\conda\\conda\\envs\\PRP\\lib\\site-packages\\IPython\\core\\interactiveshell.py\", line 2698, in run_cell\n    interactivity=interactivity, compiler=compiler, result=result)\n  File \"C:\\Users\\geonsm\\AppData\\Local\\conda\\conda\\envs\\PRP\\lib\\site-packages\\IPython\\core\\interactiveshell.py\", line 2802, in run_ast_nodes\n    if self.run_code(code, result):\n  File \"C:\\Users\\geonsm\\AppData\\Local\\conda\\conda\\envs\\PRP\\lib\\site-packages\\IPython\\core\\interactiveshell.py\", line 2862, in run_code\n    exec(code_obj, self.user_global_ns, self.user_ns)\n  File \"<ipython-input-12-0d5a18b3cfb9>\", line 46, in <module>\n    model = tflearn.DNN(network, tensorboard_verbose=3, tensorboard_dir =\"./tmp/tflearn_logs\")\n  File \"C:\\Users\\geonsm\\AppData\\Local\\conda\\conda\\envs\\PRP\\lib\\site-packages\\tflearn\\models\\dnn.py\", line 65, in __init__\n    best_val_accuracy=best_val_accuracy)\n  File \"C:\\Users\\geonsm\\AppData\\Local\\conda\\conda\\envs\\PRP\\lib\\site-packages\\tflearn\\helpers\\trainer.py\", line 131, in __init__\n    clip_gradients)\n  File \"C:\\Users\\geonsm\\AppData\\Local\\conda\\conda\\envs\\PRP\\lib\\site-packages\\tflearn\\helpers\\trainer.py\", line 710, in initialize_training_ops\n    self.create_summaries(tensorboard_verbose)\n  File \"C:\\Users\\geonsm\\AppData\\Local\\conda\\conda\\envs\\PRP\\lib\\site-packages\\tflearn\\helpers\\trainer.py\", line 921, in create_summaries\n    summarize_gradients(self.grad, summ_collection)\n  File \"C:\\Users\\geonsm\\AppData\\Local\\conda\\conda\\envs\\PRP\\lib\\site-packages\\tflearn\\helpers\\summarizer.py\", line 75, in summarize_gradients\n    summaries.add_gradients_summary(grads, \"\", \"\", summary_collection)\n  File \"C:\\Users\\geonsm\\AppData\\Local\\conda\\conda\\envs\\PRP\\lib\\site-packages\\tflearn\\summaries.py\", line 132, in add_gradients_summary\n    collection_key))\n  File \"C:\\Users\\geonsm\\AppData\\Local\\conda\\conda\\envs\\PRP\\lib\\site-packages\\tflearn\\summaries.py\", line 44, in get_summary\n    summ = tf.summary.histogram(tag, value)\n  File \"C:\\Users\\geonsm\\AppData\\Local\\conda\\conda\\envs\\PRP\\lib\\site-packages\\tensorflow\\python\\summary\\summary.py\", line 221, in histogram\n    tag=scope.rstrip('/'), values=values, name=scope)\n  File \"C:\\Users\\geonsm\\AppData\\Local\\conda\\conda\\envs\\PRP\\lib\\site-packages\\tensorflow\\python\\ops\\gen_logging_ops.py\", line 131, in _histogram_summary\n    name=name)\n  File \"C:\\Users\\geonsm\\AppData\\Local\\conda\\conda\\envs\\PRP\\lib\\site-packages\\tensorflow\\python\\framework\\op_def_library.py\", line 767, in apply_op\n    op_def=op_def)\n  File \"C:\\Users\\geonsm\\AppData\\Local\\conda\\conda\\envs\\PRP\\lib\\site-packages\\tensorflow\\python\\framework\\ops.py\", line 2506, in create_op\n    original_op=self._default_original_op, op_def=op_def)\n  File \"C:\\Users\\geonsm\\AppData\\Local\\conda\\conda\\envs\\PRP\\lib\\site-packages\\tensorflow\\python\\framework\\ops.py\", line 1269, in __init__\n    self._traceback = _extract_stack()\n\nInvalidArgumentError (see above for traceback): Nan in summary histogram for: Conv2D_1/W/Gradients\n\t [[Node: Conv2D_1/W/Gradients = HistogramSummary[T=DT_FLOAT, _device=\"/job:localhost/replica:0/task:0/cpu:0\"](Conv2D_1/W/Gradients/tag, Adam/clip_by_global_norm/Adam/clip_by_global_norm/_2)]]\n"
     ]
    },
    {
     "name": "stdout",
     "output_type": "stream",
     "text": [
      "INFO:tensorflow:C:\\Users\\geonsm\\Downloads\\machine-learning\\machine-learning\\practicals\\vehicle-image-recognition\\carclassifier.tfl is not in all_model_checkpoint_paths. Manually adding it.\n",
      "Network trained and saved as carclassifier.tfl!\n",
      "Accuracy of the model: [0.049115914273238602]\n"
     ]
    }
   ],
   "source": [
    "with session:\n",
    "    # Train the model\n",
    "    %time model.fit(X_train, y_train, validation_set= (X_test, y_test), show_metric=True, batch_size=10)\n",
    "    \n",
    "    # Save model when training is complete to a file\n",
    "    model.save(\"carclassifier.tfl\")\n",
    "    \n",
    "    print(\"Network trained and saved as carclassifier.tfl!\")\n",
    "    \n",
    "    score = model.evaluate(X_test, y_test, batch_size=10)\n",
    "    # accuracy: 0.99899999976158138\n",
    "    # loss: 210.93408\n",
    "    \n",
    "    print(\"Accuracy of the model: {}\".format(score))"
   ]
  },
  {
   "cell_type": "markdown",
   "metadata": {},
   "source": [
    "It looks like the model has not performed very well, which was to be predicted considering we only provided 5000 images."
   ]
  },
  {
   "cell_type": "markdown",
   "metadata": {},
   "source": [
    "### Test on a single image"
   ]
  },
  {
   "cell_type": "code",
   "execution_count": 14,
   "metadata": {},
   "outputs": [
    {
     "data": {
      "image/png": "[encoded data removed]",
      "text/plain": [
       "<PIL.Image.Image image mode=RGB size=450x250 at 0xE6C4E10>"
      ]
     },
     "execution_count": 14,
     "metadata": {},
     "output_type": "execute_result"
    }
   ],
   "source": [
    "# choose a number between 0 and 1000 (size of the test set)\n",
    "i = random.randint(0,999)\n",
    "# revert type to uint8 to see image\n",
    "Image.fromarray(X_test[i].astype(np.uint8), 'RGB') "
   ]
  },
  {
   "cell_type": "code",
   "execution_count": 15,
   "metadata": {
    "scrolled": true
   },
   "outputs": [
    {
     "name": "stdout",
     "output_type": "stream",
     "text": [
      "Make: Nissan\n",
      "Model: RLX\n",
      "The actual answer is: Ford Escape\n"
     ]
    }
   ],
   "source": [
    "# A copy is made here in case something goes wrong and we lose X_test.\n",
    "X_test_copy = X_test.copy()\n",
    "\n",
    "# revert the dictionnary for fast query\n",
    "numbertomakedict = {v: k for k, v in maketonumberdict.items()}\n",
    "numbertomodeldict = {v: k for k, v in modeltonumberdict.items()}\n",
    "\n",
    "# Model prediciton\n",
    "y_pred = model.predict_label(X_test_copy[i:i+1])\n",
    "print(\"Make: {}\".format(numbertomakedict[y_pred[0][0]]))\n",
    "print(\"Model: {}\".format(numbertomodeldict[y_pred[0][1]]))\n",
    "\n",
    "# Actual answer\n",
    "print(\"The actual answer is: {} {}\".format(numbertomakedict[y_test[i][0]], numbertomodeldict[y_test[i][1]]))"
   ]
  },
  {
   "cell_type": "markdown",
   "metadata": {},
   "source": [
    "### Evaluate performance of model for car make"
   ]
  },
  {
   "cell_type": "markdown",
   "metadata": {},
   "source": [
    "We could do with more powerful computers to test all of the images. Just do 75."
   ]
  },
  {
   "cell_type": "code",
   "execution_count": 16,
   "metadata": {
    "collapsed": true
   },
   "outputs": [],
   "source": [
    "# make a prediction for the first 75 vehicles\n",
    "y_pred = model.predict_label(X_test_copy[:75])\n",
    "#y_pred = model.predict_label(X_test_copy)"
   ]
  },
  {
   "cell_type": "code",
   "execution_count": 17,
   "metadata": {
    "collapsed": true
   },
   "outputs": [],
   "source": [
    "# get only the make\n",
    "make_true = [i[0] for i in y_test[:75]]\n",
    "make_pred = [i[0] for i in y_pred]"
   ]
  },
  {
   "cell_type": "code",
   "execution_count": 18,
   "metadata": {
    "scrolled": true
   },
   "outputs": [
    {
     "data": {
      "text/plain": [
       "array([[0, 4, 0, 0, 0, 0, 0, 0, 0, 0, 0, 0, 0, 0, 0, 0, 0, 0, 0, 0, 0, 0],\n",
       "       [0, 0, 0, 0, 0, 0, 0, 0, 0, 0, 0, 0, 0, 0, 0, 0, 0, 0, 0, 0, 0, 0],\n",
       "       [0, 6, 0, 0, 0, 0, 0, 0, 0, 0, 0, 0, 0, 0, 0, 0, 0, 0, 0, 0, 0, 0],\n",
       "       [0, 6, 0, 0, 0, 0, 0, 0, 0, 0, 0, 0, 0, 0, 0, 0, 0, 0, 0, 0, 0, 0],\n",
       "       [0, 4, 0, 0, 0, 0, 0, 0, 0, 0, 0, 0, 0, 0, 0, 0, 0, 0, 0, 0, 0, 0],\n",
       "       [0, 6, 0, 0, 0, 0, 0, 0, 0, 0, 0, 0, 0, 0, 0, 0, 0, 0, 0, 0, 0, 0],\n",
       "       [0, 3, 0, 0, 0, 0, 0, 0, 0, 0, 0, 0, 0, 0, 0, 0, 0, 0, 0, 0, 0, 0],\n",
       "       [0, 7, 0, 0, 0, 0, 0, 0, 0, 0, 0, 0, 0, 0, 0, 0, 0, 0, 0, 0, 0, 0],\n",
       "       [0, 3, 0, 0, 0, 0, 0, 0, 0, 0, 0, 0, 0, 0, 0, 0, 0, 0, 0, 0, 0, 0],\n",
       "       [0, 4, 0, 0, 0, 0, 0, 0, 0, 0, 0, 0, 0, 0, 0, 0, 0, 0, 0, 0, 0, 0],\n",
       "       [0, 3, 0, 0, 0, 0, 0, 0, 0, 0, 0, 0, 0, 0, 0, 0, 0, 0, 0, 0, 0, 0],\n",
       "       [0, 7, 0, 0, 0, 0, 0, 0, 0, 0, 0, 0, 0, 0, 0, 0, 0, 0, 0, 0, 0, 0],\n",
       "       [0, 5, 0, 0, 0, 0, 0, 0, 0, 0, 0, 0, 0, 0, 0, 0, 0, 0, 0, 0, 0, 0],\n",
       "       [0, 4, 0, 0, 0, 0, 0, 0, 0, 0, 0, 0, 0, 0, 0, 0, 0, 0, 0, 0, 0, 0],\n",
       "       [0, 1, 0, 0, 0, 0, 0, 0, 0, 0, 0, 0, 0, 0, 0, 0, 0, 0, 0, 0, 0, 0],\n",
       "       [0, 2, 0, 0, 0, 0, 0, 0, 0, 0, 0, 0, 0, 0, 0, 0, 0, 0, 0, 0, 0, 0],\n",
       "       [0, 1, 0, 0, 0, 0, 0, 0, 0, 0, 0, 0, 0, 0, 0, 0, 0, 0, 0, 0, 0, 0],\n",
       "       [0, 2, 0, 0, 0, 0, 0, 0, 0, 0, 0, 0, 0, 0, 0, 0, 0, 0, 0, 0, 0, 0],\n",
       "       [0, 1, 0, 0, 0, 0, 0, 0, 0, 0, 0, 0, 0, 0, 0, 0, 0, 0, 0, 0, 0, 0],\n",
       "       [0, 1, 0, 0, 0, 0, 0, 0, 0, 0, 0, 0, 0, 0, 0, 0, 0, 0, 0, 0, 0, 0],\n",
       "       [0, 3, 0, 0, 0, 0, 0, 0, 0, 0, 0, 0, 0, 0, 0, 0, 0, 0, 0, 0, 0, 0],\n",
       "       [0, 2, 0, 0, 0, 0, 0, 0, 0, 0, 0, 0, 0, 0, 0, 0, 0, 0, 0, 0, 0, 0]], dtype=int64)"
      ]
     },
     "execution_count": 18,
     "metadata": {},
     "output_type": "execute_result"
    }
   ],
   "source": [
    "# Confusion matrix\n",
    "confusion_matrix(make_true, make_pred)"
   ]
  },
  {
   "cell_type": "code",
   "execution_count": 19,
   "metadata": {
    "scrolled": false
   },
   "outputs": [
    {
     "data": {
      "text/plain": [
       "0.0"
      ]
     },
     "execution_count": 19,
     "metadata": {},
     "output_type": "execute_result"
    }
   ],
   "source": [
    "# Precision (total ratio of tp/(tp + fp))\n",
    "precision_score(make_true, make_pred, average='micro')"
   ]
  },
  {
   "cell_type": "code",
   "execution_count": 20,
   "metadata": {},
   "outputs": [
    {
     "data": {
      "text/plain": [
       "0.0"
      ]
     },
     "execution_count": 20,
     "metadata": {},
     "output_type": "execute_result"
    }
   ],
   "source": [
    "# Recall\n",
    "recall_score(make_true, make_pred, average='micro')"
   ]
  },
  {
   "cell_type": "code",
   "execution_count": 21,
   "metadata": {},
   "outputs": [
    {
     "data": {
      "text/plain": [
       "0.0"
      ]
     },
     "execution_count": 21,
     "metadata": {},
     "output_type": "execute_result"
    }
   ],
   "source": [
    "# F1 score\n",
    "f1_score(make_true, make_pred, average='micro')"
   ]
  },
  {
   "cell_type": "code",
   "execution_count": 22,
   "metadata": {},
   "outputs": [
    {
     "data": {
      "text/plain": [
       "0.0"
      ]
     },
     "execution_count": 22,
     "metadata": {},
     "output_type": "execute_result"
    }
   ],
   "source": [
    "# Cohen's kappa\n",
    "cohen_kappa_score(make_true, make_pred)"
   ]
  },
  {
   "cell_type": "code",
   "execution_count": null,
   "metadata": {
    "collapsed": true
   },
   "outputs": [],
   "source": []
  }
 ],
 "metadata": {
  "kernelspec": {
   "display_name": "Python 3",
   "language": "python",
   "name": "python3"
  },
  "language_info": {
   "codemirror_mode": {
    "name": "ipython",
    "version": 3
   },
   "file_extension": ".py",
   "mimetype": "text/x-python",
   "name": "python",
   "nbconvert_exporter": "python",
   "pygments_lexer": "ipython3",
   "version": "3.6.5"
  }
 },
 "nbformat": 4,
 "nbformat_minor": 2
}
