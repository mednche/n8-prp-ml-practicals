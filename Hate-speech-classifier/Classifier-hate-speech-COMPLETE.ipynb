{
 "cells": [
  {
   "cell_type": "markdown",
   "metadata": {},
   "source": [
    "# Hate speech classifier"
   ]
  },
  {
   "cell_type": "markdown",
   "metadata": {},
   "source": [
    "### Training a classifier to recognise hate speech on Twitter"
   ]
  },
  {
   "cell_type": "markdown",
   "metadata": {},
   "source": [
    "In this notebook, we are going to train a 'classifier' (a supervised machine learning algorithm) to recognise hate speech in a tweet. This is a technique of **Natural Language Processing (NLP)** similar to Sentiment Analysis.\n",
    "\n",
    "This requires two phases:\n",
    "- 1. **Train the classifier** (show the algorithm examples of both hateful and non-hateful tweets)\n",
    "- 2. **Test the accuracy of the classifier**\n",
    "\n"
   ]
  },
  {
   "cell_type": "markdown",
   "metadata": {},
   "source": [
    "First let's import the libraries we are going to need"
   ]
  },
  {
   "cell_type": "code",
   "execution_count": 1,
   "metadata": {},
   "outputs": [
    {
     "name": "stdout",
     "output_type": "stream",
     "text": [
      "The nltk version is 3.4.5.\n"
     ]
    },
    {
     "name": "stderr",
     "output_type": "stream",
     "text": [
      "[nltk_data] Downloading package stopwords to /Users/nick/nltk_data...\n",
      "[nltk_data]   Package stopwords is already up-to-date!\n",
      "[nltk_data] Downloading package punkt to /Users/nick/nltk_data...\n",
      "[nltk_data]   Package punkt is already up-to-date!\n"
     ]
    }
   ],
   "source": [
    "import os\n",
    "import pandas as pd\n",
    "import re\n",
    "import string\n",
    "import numpy as np\n",
    "import matplotlib\n",
    "import operator \n",
    "import pickle\n",
    "\n",
    "import nltk # nltk 3.4\n",
    "print('The nltk version is {}.'.format(nltk.__version__))\n",
    "nltk.download('stopwords')\n",
    "nltk.download('punkt')\n",
    "from nltk.corpus import stopwords\n",
    "from nltk.stem import PorterStemmer \n",
    "from nltk import ngrams\n",
    "\n",
    "from sklearn.utils import shuffle"
   ]
  },
  {
   "cell_type": "markdown",
   "metadata": {},
   "source": [
    "Tell python where it can find the data files (they're in a `data` sub-directory of the current folder)"
   ]
  },
  {
   "cell_type": "code",
   "execution_count": 2,
   "metadata": {},
   "outputs": [
    {
     "data": {
      "text/plain": [
       "'/Users/nick/gp/n8-prp-ml-practicals/Hate-speech-classifier/data'"
      ]
     },
     "execution_count": 2,
     "metadata": {},
     "output_type": "execute_result"
    }
   ],
   "source": [
    "#os.chdir(\"C:/Users/mednche/Desktop/Hate-speech-twitter-NLP/\")\n",
    "os.chdir(os.getcwd()+\"/data/\")\n",
    "os.getcwd()"
   ]
  },
  {
   "cell_type": "markdown",
   "metadata": {},
   "source": [
    "## Import pre-labeled Twitter dataset"
   ]
  },
  {
   "cell_type": "markdown",
   "metadata": {},
   "source": [
    "Let's import the dataset used to train and test the classifier"
   ]
  },
  {
   "cell_type": "code",
   "execution_count": 3,
   "metadata": {},
   "outputs": [
    {
     "data": {
      "text/plain": [
       "(310, 2)"
      ]
     },
     "execution_count": 3,
     "metadata": {},
     "output_type": "execute_result"
    }
   ],
   "source": [
    "data = pd.read_csv('TrainingTweets.csv', encoding='ISO-8859-1')\n",
    "data.shape"
   ]
  },
  {
   "cell_type": "markdown",
   "metadata": {},
   "source": [
    "'data' a Pandas dataframe. Let's see what it looks like. "
   ]
  },
  {
   "cell_type": "code",
   "execution_count": 4,
   "metadata": {},
   "outputs": [
    {
     "data": {
      "text/html": [
       "<div>\n",
       "<style scoped>\n",
       "    .dataframe tbody tr th:only-of-type {\n",
       "        vertical-align: middle;\n",
       "    }\n",
       "\n",
       "    .dataframe tbody tr th {\n",
       "        vertical-align: top;\n",
       "    }\n",
       "\n",
       "    .dataframe thead th {\n",
       "        text-align: right;\n",
       "    }\n",
       "</style>\n",
       "<table border=\"1\" class=\"dataframe\">\n",
       "  <thead>\n",
       "    <tr style=\"text-align: right;\">\n",
       "      <th></th>\n",
       "      <th>tweet</th>\n",
       "      <th>class</th>\n",
       "    </tr>\n",
       "  </thead>\n",
       "  <tbody>\n",
       "    <tr>\n",
       "      <th>305</th>\n",
       "      <td>well yes i mean you started off saying third l...</td>\n",
       "      <td>0</td>\n",
       "    </tr>\n",
       "    <tr>\n",
       "      <th>306</th>\n",
       "      <td>so my neighbours complained about my shed in t...</td>\n",
       "      <td>1</td>\n",
       "    </tr>\n",
       "    <tr>\n",
       "      <th>307</th>\n",
       "      <td>fucking fascist fucking liberal fucking racist...</td>\n",
       "      <td>1</td>\n",
       "    </tr>\n",
       "    <tr>\n",
       "      <th>308</th>\n",
       "      <td>fucking annoying when meat dairy and eggs are ...</td>\n",
       "      <td>0</td>\n",
       "    </tr>\n",
       "    <tr>\n",
       "      <th>309</th>\n",
       "      <td>i hate people i was wrong when i said 97.5 of ...</td>\n",
       "      <td>1</td>\n",
       "    </tr>\n",
       "  </tbody>\n",
       "</table>\n",
       "</div>"
      ],
      "text/plain": [
       "                                                 tweet  class\n",
       "305  well yes i mean you started off saying third l...      0\n",
       "306  so my neighbours complained about my shed in t...      1\n",
       "307  fucking fascist fucking liberal fucking racist...      1\n",
       "308  fucking annoying when meat dairy and eggs are ...      0\n",
       "309  i hate people i was wrong when i said 97.5 of ...      1"
      ]
     },
     "execution_count": 4,
     "metadata": {},
     "output_type": "execute_result"
    }
   ],
   "source": [
    "# Display the last 5 rows of the dataframe\n",
    "data.tail()"
   ]
  },
  {
   "cell_type": "markdown",
   "metadata": {},
   "source": [
    "Note: you can see that each tweet has already been manually labeled in the column 'class'.\n",
    "- 1 means hateful\n",
    "- 0 means non-hateful\n",
    "\n",
    "This label is essential for what we are going to do (supervised machine learning)."
   ]
  },
  {
   "cell_type": "markdown",
   "metadata": {},
   "source": [
    "##   Ensure balance in dataset"
   ]
  },
  {
   "cell_type": "markdown",
   "metadata": {},
   "source": [
    "Let's see how many hateful vs non-hateful tweets there are in the dataset"
   ]
  },
  {
   "cell_type": "code",
   "execution_count": 5,
   "metadata": {},
   "outputs": [
    {
     "name": "stdout",
     "output_type": "stream",
     "text": [
      "101 hateful tweets\n",
      "209 non-hateful tweets\n"
     ]
    }
   ],
   "source": [
    "hate_tweets = data[data[\"class\"] == 1]\n",
    "print(\"{} hateful tweets\".format(len(hate_tweets)))\n",
    "\n",
    "nonhate_tweets = data[data[\"class\"] == 0]\n",
    "print(\"{} non-hateful tweets\".format(len(nonhate_tweets)))"
   ]
  },
  {
   "cell_type": "code",
   "execution_count": 6,
   "metadata": {},
   "outputs": [
    {
     "data": {
      "text/html": [
       "<div>\n",
       "<style scoped>\n",
       "    .dataframe tbody tr th:only-of-type {\n",
       "        vertical-align: middle;\n",
       "    }\n",
       "\n",
       "    .dataframe tbody tr th {\n",
       "        vertical-align: top;\n",
       "    }\n",
       "\n",
       "    .dataframe thead th {\n",
       "        text-align: right;\n",
       "    }\n",
       "</style>\n",
       "<table border=\"1\" class=\"dataframe\">\n",
       "  <thead>\n",
       "    <tr style=\"text-align: right;\">\n",
       "      <th></th>\n",
       "      <th>tweet</th>\n",
       "      <th>class</th>\n",
       "    </tr>\n",
       "  </thead>\n",
       "  <tbody>\n",
       "    <tr>\n",
       "      <th>0</th>\n",
       "      <td>Muslims go to fucking home bye bye #brexit'</td>\n",
       "      <td>1</td>\n",
       "    </tr>\n",
       "    <tr>\n",
       "      <th>1</th>\n",
       "      <td>'Muslim scum terrorists'</td>\n",
       "      <td>1</td>\n",
       "    </tr>\n",
       "    <tr>\n",
       "      <th>2</th>\n",
       "      <td>'Go home you immigrant'</td>\n",
       "      <td>1</td>\n",
       "    </tr>\n",
       "    <tr>\n",
       "      <th>3</th>\n",
       "      <td>'Polish vermin'</td>\n",
       "      <td>1</td>\n",
       "    </tr>\n",
       "    <tr>\n",
       "      <th>4</th>\n",
       "      <td>'Polish bastard'</td>\n",
       "      <td>1</td>\n",
       "    </tr>\n",
       "  </tbody>\n",
       "</table>\n",
       "</div>"
      ],
      "text/plain": [
       "                                         tweet  class\n",
       "0  Muslims go to fucking home bye bye #brexit'      1\n",
       "1                     'Muslim scum terrorists'      1\n",
       "2                      'Go home you immigrant'      1\n",
       "3                              'Polish vermin'      1\n",
       "4                             'Polish bastard'      1"
      ]
     },
     "execution_count": 6,
     "metadata": {},
     "output_type": "execute_result"
    }
   ],
   "source": [
    "hate_tweets.head()"
   ]
  },
  {
   "cell_type": "code",
   "execution_count": 7,
   "metadata": {},
   "outputs": [
    {
     "data": {
      "text/html": [
       "<div>\n",
       "<style scoped>\n",
       "    .dataframe tbody tr th:only-of-type {\n",
       "        vertical-align: middle;\n",
       "    }\n",
       "\n",
       "    .dataframe tbody tr th {\n",
       "        vertical-align: top;\n",
       "    }\n",
       "\n",
       "    .dataframe thead th {\n",
       "        text-align: right;\n",
       "    }\n",
       "</style>\n",
       "<table border=\"1\" class=\"dataframe\">\n",
       "  <thead>\n",
       "    <tr style=\"text-align: right;\">\n",
       "      <th></th>\n",
       "      <th>tweet</th>\n",
       "      <th>class</th>\n",
       "    </tr>\n",
       "  </thead>\n",
       "  <tbody>\n",
       "    <tr>\n",
       "      <th>59</th>\n",
       "      <td>'@16po @realDonaldTrump I don\\'t_ terrorism is...</td>\n",
       "      <td>0</td>\n",
       "    </tr>\n",
       "    <tr>\n",
       "      <th>60</th>\n",
       "      <td>'I am absolutely dreading tomorrow. I hate it ...</td>\n",
       "      <td>0</td>\n",
       "    </tr>\n",
       "    <tr>\n",
       "      <th>61</th>\n",
       "      <td>'RT @washingtonpost: The Rev. William Barber d...</td>\n",
       "      <td>0</td>\n",
       "    </tr>\n",
       "    <tr>\n",
       "      <th>62</th>\n",
       "      <td>'RT @RedP1llReport: David Icke_ Political Corr...</td>\n",
       "      <td>0</td>\n",
       "    </tr>\n",
       "    <tr>\n",
       "      <th>63</th>\n",
       "      <td>'My best RTs this week came from: @SkimmySkinn...</td>\n",
       "      <td>0</td>\n",
       "    </tr>\n",
       "  </tbody>\n",
       "</table>\n",
       "</div>"
      ],
      "text/plain": [
       "                                                tweet  class\n",
       "59  '@16po @realDonaldTrump I don\\'t_ terrorism is...      0\n",
       "60  'I am absolutely dreading tomorrow. I hate it ...      0\n",
       "61  'RT @washingtonpost: The Rev. William Barber d...      0\n",
       "62  'RT @RedP1llReport: David Icke_ Political Corr...      0\n",
       "63  'My best RTs this week came from: @SkimmySkinn...      0"
      ]
     },
     "execution_count": 7,
     "metadata": {},
     "output_type": "execute_result"
    }
   ],
   "source": [
    "nonhate_tweets.head()"
   ]
  },
  {
   "cell_type": "markdown",
   "metadata": {},
   "source": [
    "There seems to be twice as many non-hateful tweets. This might affect the way the algorithm learns. We need to make the dataset balanced."
   ]
  },
  {
   "cell_type": "markdown",
   "metadata": {},
   "source": [
    "####  Select as many hateful as non-hateful tweets for an equal dataset"
   ]
  },
  {
   "cell_type": "code",
   "execution_count": 8,
   "metadata": {},
   "outputs": [
    {
     "name": "stdout",
     "output_type": "stream",
     "text": [
      "Number of tweets in balanced dataset: 202\n"
     ]
    }
   ],
   "source": [
    "num = min(len(hate_tweets), len(nonhate_tweets))\n",
    "\n",
    "# shuffle the table of hateful and non hateful tweets\n",
    "hate_tweets = shuffle(hate_tweets)\n",
    "nonhate_tweets = shuffle(nonhate_tweets)\n",
    "\n",
    "data_balanced = hate_tweets[0:num].append(nonhate_tweets[0:num], ignore_index=True)\n",
    "\n",
    "print('Number of tweets in balanced dataset: {}'.format(len(data_balanced)))"
   ]
  },
  {
   "cell_type": "code",
   "execution_count": 9,
   "metadata": {},
   "outputs": [
    {
     "data": {
      "text/html": [
       "<div>\n",
       "<style scoped>\n",
       "    .dataframe tbody tr th:only-of-type {\n",
       "        vertical-align: middle;\n",
       "    }\n",
       "\n",
       "    .dataframe tbody tr th {\n",
       "        vertical-align: top;\n",
       "    }\n",
       "\n",
       "    .dataframe thead th {\n",
       "        text-align: right;\n",
       "    }\n",
       "</style>\n",
       "<table border=\"1\" class=\"dataframe\">\n",
       "  <thead>\n",
       "    <tr style=\"text-align: right;\">\n",
       "      <th></th>\n",
       "      <th>tweet</th>\n",
       "      <th>class</th>\n",
       "    </tr>\n",
       "  </thead>\n",
       "  <tbody>\n",
       "    <tr>\n",
       "      <th>0</th>\n",
       "      <td>what a stupid bitch</td>\n",
       "      <td>1</td>\n",
       "    </tr>\n",
       "    <tr>\n",
       "      <th>1</th>\n",
       "      <td>\"fucking faggot sitting in the cinema next to...</td>\n",
       "      <td>1</td>\n",
       "    </tr>\n",
       "    <tr>\n",
       "      <th>2</th>\n",
       "      <td>'my neighbour just called me a paki! some peop...</td>\n",
       "      <td>1</td>\n",
       "    </tr>\n",
       "    <tr>\n",
       "      <th>3</th>\n",
       "      <td>you fucking irish cow</td>\n",
       "      <td>1</td>\n",
       "    </tr>\n",
       "    <tr>\n",
       "      <th>4</th>\n",
       "      <td>'RT @nigel come out you black bastard'</td>\n",
       "      <td>1</td>\n",
       "    </tr>\n",
       "  </tbody>\n",
       "</table>\n",
       "</div>"
      ],
      "text/plain": [
       "                                               tweet  class\n",
       "0                               what a stupid bitch       1\n",
       "1   \"fucking faggot sitting in the cinema next to...      1\n",
       "2  'my neighbour just called me a paki! some peop...      1\n",
       "3                              you fucking irish cow      1\n",
       "4             'RT @nigel come out you black bastard'      1"
      ]
     },
     "execution_count": 9,
     "metadata": {},
     "output_type": "execute_result"
    }
   ],
   "source": [
    "data_balanced.head()"
   ]
  },
  {
   "cell_type": "markdown",
   "metadata": {},
   "source": [
    "## Part I. Preprocessing"
   ]
  },
  {
   "cell_type": "markdown",
   "metadata": {},
   "source": [
    "In this part we'll perform some preprocessing on the column 'tweet'. It will do things like turn the text all into lowercase, get rid of urls, remove usernames, etc. Have a look at the comments in the code below to see precisely what it's doing."
   ]
  },
  {
   "cell_type": "markdown",
   "metadata": {},
   "source": [
    "### Clean tweets"
   ]
  },
  {
   "cell_type": "code",
   "execution_count": 10,
   "metadata": {},
   "outputs": [],
   "source": [
    "def cleanTweet(tweet):\n",
    "    #Convert to lower case\n",
    "    tweet = tweet.lower()\n",
    "    #Convert www.* or https?://* to ''\n",
    "    tweet = re.sub('((www\\.[^\\s]+)|(https?://[^\\s]+))','',tweet)\n",
    "    #Remove the RT before the @user \n",
    "    tweet = re.sub('rt','',tweet) \n",
    "    #Replace #word with word\n",
    "    tweet = re.sub(r'#([^\\s]+)', r'\\1', tweet)\n",
    "    #Remove @username\n",
    "    tweet = re.sub('@[^\\s]+','',tweet) \n",
    "    #Remove additional white spaces\n",
    "    tweet = re.sub('[\\s]+', ' ', tweet)\n",
    "    #Remove non ASCII characters (emojies)\n",
    "    tweet= re.sub(r'[^\\x00-\\x7F]+','', tweet)\n",
    "    #Remove punctuation \n",
    "    tweet = \"\".join(l for l in tweet if l not in string.punctuation)\n",
    "    #Trim\n",
    "    tweet = tweet.strip('\\'\"')\n",
    "    #Remove beginning and end space\n",
    "    tweet = tweet.strip()\n",
    "\n",
    "    \n",
    "    return tweet\n",
    "\n",
    "#  apply cleaning function to each tweet of the pandas dataframe\n",
    "data_balanced['tweet'] = data_balanced['tweet'].apply(cleanTweet)"
   ]
  },
  {
   "cell_type": "code",
   "execution_count": 11,
   "metadata": {},
   "outputs": [
    {
     "data": {
      "text/html": [
       "<div>\n",
       "<style scoped>\n",
       "    .dataframe tbody tr th:only-of-type {\n",
       "        vertical-align: middle;\n",
       "    }\n",
       "\n",
       "    .dataframe tbody tr th {\n",
       "        vertical-align: top;\n",
       "    }\n",
       "\n",
       "    .dataframe thead th {\n",
       "        text-align: right;\n",
       "    }\n",
       "</style>\n",
       "<table border=\"1\" class=\"dataframe\">\n",
       "  <thead>\n",
       "    <tr style=\"text-align: right;\">\n",
       "      <th></th>\n",
       "      <th>tweet</th>\n",
       "      <th>class</th>\n",
       "    </tr>\n",
       "  </thead>\n",
       "  <tbody>\n",
       "    <tr>\n",
       "      <th>0</th>\n",
       "      <td>what a stupid bitch</td>\n",
       "      <td>1</td>\n",
       "    </tr>\n",
       "    <tr>\n",
       "      <th>1</th>\n",
       "      <td>fucking faggot sitting in the cinema next to me</td>\n",
       "      <td>1</td>\n",
       "    </tr>\n",
       "    <tr>\n",
       "      <th>2</th>\n",
       "      <td>my neighbour just called me a paki some people...</td>\n",
       "      <td>1</td>\n",
       "    </tr>\n",
       "    <tr>\n",
       "      <th>3</th>\n",
       "      <td>you fucking irish cow</td>\n",
       "      <td>1</td>\n",
       "    </tr>\n",
       "    <tr>\n",
       "      <th>4</th>\n",
       "      <td>come out you black bastard</td>\n",
       "      <td>1</td>\n",
       "    </tr>\n",
       "  </tbody>\n",
       "</table>\n",
       "</div>"
      ],
      "text/plain": [
       "                                               tweet  class\n",
       "0                                what a stupid bitch      1\n",
       "1    fucking faggot sitting in the cinema next to me      1\n",
       "2  my neighbour just called me a paki some people...      1\n",
       "3                              you fucking irish cow      1\n",
       "4                         come out you black bastard      1"
      ]
     },
     "execution_count": 11,
     "metadata": {},
     "output_type": "execute_result"
    }
   ],
   "source": [
    "data_balanced.head()"
   ]
  },
  {
   "cell_type": "markdown",
   "metadata": {},
   "source": [
    "### Delete empty tweets"
   ]
  },
  {
   "cell_type": "code",
   "execution_count": 12,
   "metadata": {},
   "outputs": [],
   "source": [
    "# replace empty tweets ('') by NA\n",
    "data_balanced['tweet'].replace('', np.nan, inplace=True)\n",
    "# Delete all NA rows\n",
    "data_balanced.dropna(subset=['tweet'], inplace=True)"
   ]
  },
  {
   "cell_type": "markdown",
   "metadata": {},
   "source": [
    "Note: How many empty tweets were removed in the process? (Hint: use the shape attribute of the pandas dataframe)"
   ]
  },
  {
   "cell_type": "markdown",
   "metadata": {},
   "source": [
    "###  Tokenise"
   ]
  },
  {
   "cell_type": "markdown",
   "metadata": {},
   "source": [
    "At the moment, the text of each tweet is a string. We would like to separate each word in that string so the model can 'read' them separately. \n",
    "\n",
    "In NLP, this is called 'tokenising': each tweet (intially a string of text) is chopped into a list of tokens (i.e. a list of words)"
   ]
  },
  {
   "cell_type": "code",
   "execution_count": 13,
   "metadata": {},
   "outputs": [],
   "source": [
    "data_tokenised = data_balanced.copy()\n",
    "\n",
    "data_tokenised['tweet'] = data_tokenised['tweet'].apply(nltk.word_tokenize)"
   ]
  },
  {
   "cell_type": "code",
   "execution_count": 14,
   "metadata": {},
   "outputs": [
    {
     "data": {
      "text/html": [
       "<div>\n",
       "<style scoped>\n",
       "    .dataframe tbody tr th:only-of-type {\n",
       "        vertical-align: middle;\n",
       "    }\n",
       "\n",
       "    .dataframe tbody tr th {\n",
       "        vertical-align: top;\n",
       "    }\n",
       "\n",
       "    .dataframe thead th {\n",
       "        text-align: right;\n",
       "    }\n",
       "</style>\n",
       "<table border=\"1\" class=\"dataframe\">\n",
       "  <thead>\n",
       "    <tr style=\"text-align: right;\">\n",
       "      <th></th>\n",
       "      <th>tweet</th>\n",
       "      <th>class</th>\n",
       "    </tr>\n",
       "  </thead>\n",
       "  <tbody>\n",
       "    <tr>\n",
       "      <th>0</th>\n",
       "      <td>[what, a, stupid, bitch]</td>\n",
       "      <td>1</td>\n",
       "    </tr>\n",
       "    <tr>\n",
       "      <th>1</th>\n",
       "      <td>[fucking, faggot, sitting, in, the, cinema, ne...</td>\n",
       "      <td>1</td>\n",
       "    </tr>\n",
       "    <tr>\n",
       "      <th>2</th>\n",
       "      <td>[my, neighbour, just, called, me, a, paki, som...</td>\n",
       "      <td>1</td>\n",
       "    </tr>\n",
       "    <tr>\n",
       "      <th>3</th>\n",
       "      <td>[you, fucking, irish, cow]</td>\n",
       "      <td>1</td>\n",
       "    </tr>\n",
       "    <tr>\n",
       "      <th>4</th>\n",
       "      <td>[come, out, you, black, bastard]</td>\n",
       "      <td>1</td>\n",
       "    </tr>\n",
       "  </tbody>\n",
       "</table>\n",
       "</div>"
      ],
      "text/plain": [
       "                                               tweet  class\n",
       "0                           [what, a, stupid, bitch]      1\n",
       "1  [fucking, faggot, sitting, in, the, cinema, ne...      1\n",
       "2  [my, neighbour, just, called, me, a, paki, som...      1\n",
       "3                         [you, fucking, irish, cow]      1\n",
       "4                   [come, out, you, black, bastard]      1"
      ]
     },
     "execution_count": 14,
     "metadata": {},
     "output_type": "execute_result"
    }
   ],
   "source": [
    "data_tokenised.head()"
   ]
  },
  {
   "cell_type": "markdown",
   "metadata": {},
   "source": [
    "Note: you can see that there are many words in the tweets that don't bring any meaning such as 'it', 'i', 'of' 'to' etc. These are called stopwords and need to be removed so that the classifier can focus on words that matter when telling the difference between hate and non-hate."
   ]
  },
  {
   "cell_type": "markdown",
   "metadata": {},
   "source": [
    "### Remove stopwords"
   ]
  },
  {
   "cell_type": "markdown",
   "metadata": {},
   "source": [
    "####  Import English stopwords"
   ]
  },
  {
   "cell_type": "code",
   "execution_count": 15,
   "metadata": {},
   "outputs": [
    {
     "name": "stdout",
     "output_type": "stream",
     "text": [
      "{'against', 'other', 'your', 'this', 'by', 'being', 't', 'at', 'and', 'does', 'some', 'has', 'on', 'of', 'be', 'mustn', 'both', 'do', 'the', 'yourself', 'that', 'our', 'than', 'up', 'ourselves', 'themselves', 'd', 'most', \"mustn't\", 'who', 'doing', 'for', \"it's\", 'what', 'then', 've', 'same', 'hadn', 'she', 'you', 'but', 'myself', 'o', 'herself', 'an', \"she's\", 'them', 'yours', 'just', \"don't\", 're', 'y', \"isn't\", 'to', 'll', \"needn't\", 'ma', 'were', 'isn', 'is', 'there', 'as', 'nor', 'doesn', \"hadn't\", 'aren', \"shan't\", \"doesn't\", 'where', 'weren', \"wasn't\", \"wouldn't\", 'all', 'shan', \"that'll\", 'hasn', 'its', \"you're\", 'because', 'ours', 'didn', 'about', 'each', 'will', 'mightn', 'below', \"mightn't\", 'between', 'too', 'through', 'which', 'can', 'ain', 'these', 'into', \"couldn't\", 'own', 'very', 'couldn', 'their', 'here', 'from', 'wasn', 'more', \"hasn't\", 'won', 'out', 'such', 'her', 'so', \"should've\", 'don', \"aren't\", 'if', 'how', \"didn't\", \"won't\", 'before', 'been', 'in', 'shouldn', 'again', 'during', \"shouldn't\", 'any', 'itself', 's', 'am', 'was', 'they', 'theirs', 'did', 'not', 'why', 'it', 'had', 'he', 'those', 'my', 'under', 'whom', 'until', 'haven', 'above', 'needn', \"weren't\", 'his', 'after', \"you'll\", 'while', 'once', 'few', \"haven't\", 'having', 'we', 'with', 'wouldn', \"you've\", 'himself', 'when', 'are', 'down', 'or', 'should', 'further', 'off', 'him', 'i', \"you'd\", 'm', 'hers', 'a', 'over', 'no', 'have', 'now', 'yourselves', 'only', 'me'}\n"
     ]
    }
   ],
   "source": [
    "stops = set(stopwords.words('english'))\n",
    "print(stops)"
   ]
  },
  {
   "cell_type": "markdown",
   "metadata": {},
   "source": [
    "Some of these generic English stopwords could actually be useful in our context of hatespeech. For example 'them', 'out', 'off' could all be part of sentences like 'f**k off'. We will take these out of the list of stopwords. Also, we'll add some words to the stopword list based on some common spelling errors we observed in the tweets ('youre', 'dont', 'us')."
   ]
  },
  {
   "cell_type": "code",
   "execution_count": 16,
   "metadata": {},
   "outputs": [
    {
     "name": "stdout",
     "output_type": "stream",
     "text": [
      "['a', 'about', 'above', 'after', 'again', 'against', 'ain', 'aint', 'all', 'am', 'amp', 'an', 'and', 'any', 'are', 'aren', \"aren't\", 'as', 'at', 'be', 'because', 'been', 'before', 'being', 'below', 'between', 'both', 'but', 'by', 'can', 'cant', 'couldn', \"couldn't\", 'd', 'did', 'didn', \"didn't\", 'do', 'does', 'doesn', \"doesn't\", 'doesnt', 'doing', 'don', \"don't\", 'dont', 'down', 'during', 'each', 'few', 'for', 'further', 'gonna', 'had', 'hadn', \"hadn't\", 'has', 'hasn', \"hasn't\", 'have', 'haven', \"haven't\", 'having', 'he', 'her', 'here', 'hers', 'herself', 'hes', 'him', 'himself', 'his', 'how', 'https', 'i', 'if', 'im', 'in', 'into', 'is', 'isn', \"isn't\", 'it', \"it's\", 'its', 'itself', 'just', 'll', 'm', 'ma', 'me', 'mightn', \"mightn't\", 'more', 'most', 'mustn', \"mustn't\", 'my', 'myself', 'needn', \"needn't\", 'no', 'nor', 'not', 'now', 'o', 'of', 'on', 'once', 'only', 'or', 'other', 'our', 'ours', 'ourselves', 'over', 'own', 'r', 're', 's', 'shan', \"shan't\", 'she', \"she's\", 'should', \"should've\", 'shouldn', \"shouldn't\", 'shouldnt', 'so', 'some', 'such', 't', 'than', 'that', \"that'll\", 'thats', 'the', 'their', 'theirs', 'then', 'there', 'theres', 'these', 'they', 'this', 'those', 'through', 'to', 'too', 'u', 'under', 'until', 'up', 'ur', 'us', 've', 'very', 'was', 'wasn', \"wasn't\", 'we', 'were', 'weren', \"weren't\", 'what', 'when', 'where', 'which', 'while', 'who', 'whom', 'why', 'will', 'with', 'won', \"won't\", 'wouldn', \"wouldn't\", 'wudnt', 'ww', 'y', 'ya', \"you'd\", \"you'll\", \"you're\", \"you're\", \"you've\", 'your', 'youre', 'yours', 'yourselves']\n"
     ]
    }
   ],
   "source": [
    "# Remove these from stopwords\n",
    "item_to_delete = ['you', 'out', 'off', 'them', 'themselves', 'yourself', 'from', 'same']\n",
    "stopWords = [e for e in stops if e not in item_to_delete]\n",
    "\n",
    "# Add these to stopwords\n",
    "item_to_add = [\"youre\", \"r\", \"you're\", \"us\", \"doesnt\", \"im\", \"hes\", \"u\", \"ya\", \"ww\", \n",
    "               \"dont\", \"https\", \"aint\", \"theres\", \"shouldnt\", \"thats\", \"amp\", \"wudnt\", \n",
    "               \"gonna\", \"ur\", \"cant\"]\n",
    "for e in item_to_add:\n",
    "    stopWords.append(e)\n",
    "\n",
    "print(sorted(stopWords))"
   ]
  },
  {
   "cell_type": "markdown",
   "metadata": {},
   "source": [
    "#### Remove stopwords from tweets"
   ]
  },
  {
   "cell_type": "markdown",
   "metadata": {},
   "source": [
    "Now it's time to remove these stopwords from the tweets of our dataset"
   ]
  },
  {
   "cell_type": "code",
   "execution_count": 17,
   "metadata": {},
   "outputs": [],
   "source": [
    "# make a copy of the processed data so far\n",
    "data_tokenised_stpwd = data_tokenised.copy()\n",
    "\n",
    "# Apply function that removes stopwords.\n",
    "data_tokenised_stpwd['tweet'] = data_tokenised_stpwd['tweet'].apply(\n",
    "    lambda x: [item for item in x if item not in stopWords])"
   ]
  },
  {
   "cell_type": "code",
   "execution_count": 18,
   "metadata": {},
   "outputs": [
    {
     "data": {
      "text/html": [
       "<div>\n",
       "<style scoped>\n",
       "    .dataframe tbody tr th:only-of-type {\n",
       "        vertical-align: middle;\n",
       "    }\n",
       "\n",
       "    .dataframe tbody tr th {\n",
       "        vertical-align: top;\n",
       "    }\n",
       "\n",
       "    .dataframe thead th {\n",
       "        text-align: right;\n",
       "    }\n",
       "</style>\n",
       "<table border=\"1\" class=\"dataframe\">\n",
       "  <thead>\n",
       "    <tr style=\"text-align: right;\">\n",
       "      <th></th>\n",
       "      <th>tweet</th>\n",
       "      <th>class</th>\n",
       "    </tr>\n",
       "  </thead>\n",
       "  <tbody>\n",
       "    <tr>\n",
       "      <th>0</th>\n",
       "      <td>[stupid, bitch]</td>\n",
       "      <td>1</td>\n",
       "    </tr>\n",
       "    <tr>\n",
       "      <th>1</th>\n",
       "      <td>[fucking, faggot, sitting, cinema, next]</td>\n",
       "      <td>1</td>\n",
       "    </tr>\n",
       "    <tr>\n",
       "      <th>2</th>\n",
       "      <td>[neighbour, called, paki, people, respect]</td>\n",
       "      <td>1</td>\n",
       "    </tr>\n",
       "    <tr>\n",
       "      <th>3</th>\n",
       "      <td>[you, fucking, irish, cow]</td>\n",
       "      <td>1</td>\n",
       "    </tr>\n",
       "    <tr>\n",
       "      <th>4</th>\n",
       "      <td>[come, out, you, black, bastard]</td>\n",
       "      <td>1</td>\n",
       "    </tr>\n",
       "  </tbody>\n",
       "</table>\n",
       "</div>"
      ],
      "text/plain": [
       "                                        tweet  class\n",
       "0                             [stupid, bitch]      1\n",
       "1    [fucking, faggot, sitting, cinema, next]      1\n",
       "2  [neighbour, called, paki, people, respect]      1\n",
       "3                  [you, fucking, irish, cow]      1\n",
       "4            [come, out, you, black, bastard]      1"
      ]
     },
     "execution_count": 18,
     "metadata": {},
     "output_type": "execute_result"
    }
   ],
   "source": [
    "data_tokenised_stpwd.head()"
   ]
  },
  {
   "cell_type": "markdown",
   "metadata": {},
   "source": [
    "Compare this list of tokens to the one we had prior to removing the stopwords."
   ]
  },
  {
   "cell_type": "markdown",
   "metadata": {},
   "source": [
    "### Stemming"
   ]
  },
  {
   "cell_type": "markdown",
   "metadata": {},
   "source": [
    "In NLP, stemming is the process of turning words back into their stem, base or root form.\n",
    "\n",
    "Examples:\n",
    "- 'cats' --> 'cat'\n",
    "- 'fishing', 'fished' --> 'fish'\n",
    "\n",
    "This step is important so the classifier understands that the singular and the plural form of a noun carry a similar meaning."
   ]
  },
  {
   "cell_type": "code",
   "execution_count": 19,
   "metadata": {},
   "outputs": [],
   "source": [
    "# make a copy of the processed data so far\n",
    "pre_processed_data = data_tokenised_stpwd.copy()\n",
    "\n",
    "ps = PorterStemmer() \n",
    "pre_processed_data['tweet'] = pre_processed_data['tweet'].apply(\n",
    "    lambda x: [ps.stem(word) for word in x])"
   ]
  },
  {
   "cell_type": "code",
   "execution_count": 20,
   "metadata": {},
   "outputs": [
    {
     "data": {
      "text/plain": [
       "0                            [stupid, bitch]\n",
       "1          [fuck, faggot, sit, cinema, next]\n",
       "2    [neighbour, call, paki, peopl, respect]\n",
       "3                    [you, fuck, irish, cow]\n",
       "4           [come, out, you, black, bastard]\n",
       "Name: tweet, dtype: object"
      ]
     },
     "execution_count": 20,
     "metadata": {},
     "output_type": "execute_result"
    }
   ],
   "source": [
    "pre_processed_data['tweet'].head()"
   ]
  },
  {
   "cell_type": "markdown",
   "metadata": {},
   "source": [
    "This is the end of the pre-processing of the 'tweet' column of the dataset. We now have tweets that have been cleaned, stemmed and tokenised."
   ]
  },
  {
   "cell_type": "markdown",
   "metadata": {},
   "source": [
    "For the model to learn anything, we need to give it a set of criteria to use in deciding whether a tweet is hateful or not. This kind of criteria is known as **feature**. We can define one or more feature(s) to train our classifier.\n",
    "\n",
    "In Part 2., we'll see how to convert the words into features so that we can feed it to a classifier for training or inference."
   ]
  },
  {
   "cell_type": "markdown",
   "metadata": {},
   "source": [
    "____________________________________________________________"
   ]
  },
  {
   "cell_type": "markdown",
   "metadata": {},
   "source": [
    "## Part 2. Prepare the data to train the classifier"
   ]
  },
  {
   "cell_type": "markdown",
   "metadata": {},
   "source": [
    "###### What feature shall we give to the model?\n",
    "\n",
    "We could give it a list of key words but text cannot be used by machine learning models. They expect their input to be numeric. So we need to transform words into numeric features in a meaningful way. \n",
    "\n",
    "To do so, we are going to set a list of words/features (called vocabulary) and provide the classifier with boolean values indicating whether each feature of the vocabulary is present or not.\n",
    "\n",
    "It will look something like this:\n",
    "- 'bastard' : True (present)\n",
    "- 'road' : False (absent)\n",
    "- etc..."
   ]
  },
  {
   "cell_type": "markdown",
   "metadata": {},
   "source": [
    "### Vocabulary of features"
   ]
  },
  {
   "cell_type": "markdown",
   "metadata": {},
   "source": [
    "Let's begin by creating a vocabulary of features: a set of all words in the dataset"
   ]
  },
  {
   "cell_type": "code",
   "execution_count": 21,
   "metadata": {},
   "outputs": [
    {
     "name": "stdout",
     "output_type": "stream",
     "text": [
      "Vocabulary size: 1286\n"
     ]
    }
   ],
   "source": [
    "vocab = [word for tweet in pre_processed_data['tweet'] for word in tweet]\n",
    "print('Vocabulary size: {}'.format(len(vocab)))"
   ]
  },
  {
   "cell_type": "code",
   "execution_count": 22,
   "metadata": {
    "scrolled": true
   },
   "outputs": [
    {
     "name": "stdout",
     "output_type": "stream",
     "text": [
      "['stupid', 'bitch', 'fuck', 'faggot', 'sit', 'cinema', 'next', 'neighbour', 'call', 'paki', 'peopl', 'respect', 'you', 'fuck', 'irish', 'cow', 'come', 'out', 'you', 'black', 'bastard', 'brexit', 'time', 'fuck', 'off', 'you', 'polish', 'alien', 'fuck', 'nigger', 'fuck', 'off', 'back', 'europ', 'you', 'job', 'steal', 'immigr', 'you', 'muslim', 'prick', 'bastard', 'wog', 'road', 'annoy', 'fat', 'littl', 'wanker', 'you', 'problem', 'say', 'face', 'behind', 'back', 'faggot', 'fuck', 'paki', 'nigger', 'road', 'better', 'stop', 'shout', 'go', 'round', 'shut', 'them', 'least', 'nigger', 'lmfao', 'fuck', 'off', 'myriah', 'chavcentr', 'chav', 'central', 'hate', 'peopl', 'wrong', 'said', '975', 'peopl', 'cunt', 'much', 'much', 'higher', 'fuck', 'off', 'you', 'cunt', 'colour', 'fucker', 'leav', 'countri', 'shut', 'fuck', 'shut', 'nigger', 'whore', 'hope', 'get', 'rape', 'one', 'anim', 'might', 'chang', 'tune', 'kill', 'you', 'you', 'paki', 'bastard', 'enough', 'fuck', 'paki', 'man', 'time', 'leav', 'europ', 'you', 'ass', 'prick', 'fuck', 'off', 'back', 'poland', 'black', 'nigger', 'sli', 'bitch', 'hate', 'nigger', 'hate', 'faggot', 'hate', 'spicskkk', 'ralli', 'fuck', 'you', 'nigger', 'sheboon', 'hope', 'you', 'strung', 'like', 'nigger', 'whitepow', '1488', 'attent', 'seek', 'bitch', 'smelli', 'paki', 'go', 'burn', 'hell', 'bitch', 'muslim', 'go', 'fuck', 'home', 'bye', 'bye', 'brexit', 'local', 'mosqu', 'let', 'terrorist', 'out', 'hate', 'immigr', 'fuck', 'anyon', 'british', 'fuck', 'polish', 'alien', 'come', 'take', 'job', 'unaccept', 'muslim', 'scum', 'terrorist', 'diy', 'terrorist', 'religion', 'fuck', 'joke', 'you', 'go', 'around', 'scream', 'allah', 'akbar', 'terrorist', 'shit', 'diy', 'faggot', 'fuck', 'bitch', 'depo', 'bastard', 'immigr', 'keep', 'britain', 'british', 'black', 'bitch', 'next', 'shut', 'scottish', 'bastard', 'get', 'rid', 'them', 'along', 'europ', 'good', 'night', 'fag', 'fagett', 'femal', 'version', 'fag', 'like', 'fagett', 'make', 'femal', 'hate', 'you', 'fuck', 'chink', 'diy', 'paki', 'fuck', 'hate', 'you', 'nigger', 'bruh', 'fuck', 'off', 'you', 'back', 'paki', 'bastard', 'fuck', 'off', 'immigr', 'brexit', 'cheat', 'fuck', 'stupid', 'ass', 'prick', 'go', 'home', 'you', 'immigr', 'fuck', 'hate', 'allah', 'lover', 'muslim', 'terrorist', 'same', 'nigger', 'polish', 'bitch', 'local', 'paki', 'shop', 'disgust', 'even', 'allow', 'countri', 'fuck', 'dyke', 'get', 'out', 'countri', 'you', 'fuck', 'foreign', 'saw', 'graffiti', 'train', 'today', 'said', 'fuck', 'off', 'home', 'you', 'black', 'slagfound', 'pretti', 'funni', 'racist', 'sexist', 'perv', 'clearli', 'want', 'fuck', 'daughter', 'disgust', 'paki', 'cunt', 'wear', 'veil', 'fuck', 'sand', 'monkey', 'polish', 'bastard', 'go', 'fuck', 'yourself', 'you', 'cunt', 'bastard', 'muslim', 'terrorist', 'fuck', 'white', 'bitch', 'road', 'need', 'out', 'immigr', 'fuck', 'terrorist', 'mani', 'chink', 'london', 'hate', 'yellow', 'fucker', 'neighbour', 'complain', 'shed', 'front', 'garden', 'who', 'neighbour', 'church', 'england', 'bunch', 'god', 'bother', 'cunt', 'paki', 'cunt', 'cunt', 'fuck', 'off', 'nigger', 'everywher', 'day', 'make', 'britain', 'great', 'fuck', 'jezani', 'cunt', 'cbb', 'hate', 'bitch', 'hate', 'immigr', 'fuck', 'immigr', 'leav', 'fuck', 'countri', 'you', 'white', 'bunch', 'paki', 'perv', 'bitch', 'fuck', 'fascist', 'fuck', 'liber', 'fuck', 'racist', 'fuck', 'traitor', 'fuck', 'petrolhead', 'fuck', 'treehugg', 'steve', 'you', 'steph', 'mate', 'mani', 'wog', 'leav', 'countri', 'brexit', 'fuck', 'off', 'you', 'cunt', 'polish', 'vermin', 'hate', 'immigr', 'fuck', 'off', 'you', 'scum', 'fuck', 'off', 'home', 'you', 'foreign', 'bastard', 'fuck', 'off', 'you', 'fuck', 'paki', 'bastard', 'least', 'look', 'like', 'jefre', 'starr', 'faggot', 'use', 'tie', 'end', 'nigger', 'leg', '2', 'differ', 'hors', 'beat', 'hors', 'spread', 'leg', 'break', 'smh', 'you', 'even', 'countri', 'you', 'paki', 'thick', 'scottish', 'bastard', 'fuck', 'terrorist', 'everywher', 'get', 'rid', 'them', 'bastard', 'muslim', 'fuck', 'paki', 'cunt', 'bastard', 'muslim', 'dog', 'paki', 'fuck', 'off', 'pleas', 'tire', 'polish', 'bitch', 'fuck', 'off', 'polish', 'scum', 'benjamin', 'fuck', 'faggot', 'you', 'fuck', 'faggot', 'man', 'call', 'black', 'bastard', 'go', 'back', 'countri', 'rude', 'hate', 'faggot', 'like', 'you', 'last', 'time', 'preston', 'anymor', 'inconsider', 'twat', 'm6m61', 'way', 'home', 'gon', 'na', 'cut', 'bitch', 'decid', 'get', 'client', 'leav', 'comment', 'white', 'board', 'much', 'love', 'battl', 'rope', 'wld', 'like', '2', 'meet', 'j', 'bloer', 'cafe', 'clevli', 'you', 'understand', 'you', 'deserv', 'everyth', 'you', 'get', 'bomb', 'holi', 'fuck', 'men', 'sale', 'drop', 'dramat', 'sinc', 'simon', 'decid', 'go', 'au', 'natur', 'xfactor', 'crazi', 'car', 'crash', 'compil', 'pa', '321', '10', 'off', 'dog', 'collar', 'lead', 'toy', 'weekend', 'pleasant', 'pet', 'dickson', 'road', 'blackpool', 'baek', 'you', 'omg', 'scare', 'father', 'christma', 'even', 'though', 'want', 'go', 'hous', 'xxxx', 'refer', 'sourc', 'you', 'crop', 'pass', 'off', 'hate', 'behaviour', 'antiauster', 'toryscum', 'countri', 'girl', 'johnni', 'oti', 'show', 'nowplay', 'sun', 'lancast', 'download', 'tire', 'oop', 'freudian', 'slit', 'one', 'hour', 'go', 'lectur', 'end', 'januari', 'go', 'drag', 'freedom', 'want', 'work', 'citi', 'hire', 'jacksonvil', 'fl', 'click', 'detail', 'job', 'citicar', 'job', 'careerarc', 'welcom', 'back', 'manila', 'bangtan', 'btsinmanila', 'updat', 'databas', 'respect', 'uncoupl', 'record', 'onlin', 'emxzf', 'rev', 'william', 'barber', 'drop', 'mic', 'ex', 'broke', 'vs', 'fuck', 'qualiti', 'big', 'man', 'excit', 'travel', 'back', 'home', 'daysprob', 'wont', 'look', 'like', 'though', '6', 'lesson', 'learn', 'from', 'rais', '2', 'million', 'entrepreneur', 'littl', 'rhose', 'word', 'end', 'you', 'think', 'wrong', 'get', 'you', 'out', 'hand', 'nuala', 'nowplay', 'sun', 'lancast', 'look', 'video', 'fuck', 'long', 'yoooooo', 'greatest', 'thing', 'grace', 'internet', 'like', 'realiz', 'immigr', 'fact', 'bodi', '10', 'make', 'okay', 'justwond', 'well', 'ye', 'mean', 'you', 'sta', 'off', 'say', 'third', 'leg', 'discov', 'truth', 'behind', 'littl', 'lie', 'hard', 'way', 'you', 'expect', 'employ', 'photograph', 'awkward', 'moment', 'you', 'arriv', 'town', 'five', 'hour', 'kill', 'kick', 'off', 'avfc', 'preston', 'nod', 'confirm', 'boy', 'true', 'realli', 'ask', 'eye', 'twinkl', 'said', 'would', 'accompani', 'take', 'immigr', 'poignantli', 'point', 'out', 'disgrac', 'moral', 'pygmi', 'paul', 'ryan', 'mitch', 'mcconnel', 'back', 'shithol', 'go', 'x', 'thankyou', 'you', 'sock', 'give', 'extra', 'ankl', 'suppo', 'off', 'road', 'run', 'white', 'hat', 'seo', 'vs', 'black', 'hat', 'seo', 'less', '100', 'word', 'coupon', 'go', 'fuck', 'woeful', 'pic', 'preview', 'park', 'bo', 'gum', 'kim', 'yoo', 'jung', 'jinyoung', 'b1a4', 'di', 'drama', 'kb', 'moonlight', 'drawn', 'cloud', 'kwi', 'off', 'bed', 'big', 'day', 'tomorrow', 'villa', 'home', 'dublin', 'away', 'pnefc', 'mayo4sam', 'hate', 'leav', 'guy', 'home', 'get', 'distanc', 'two', 'address', 'devseo', 'blog', 'write', 'margat', 'aug', '56', 'sponsor', 'funni', 'hold', 'shi', 'chest', 'seen', 'strip', 'second', 'ago', 'looool', 'morn', 'alarm', 'went', 'off', '0230', 'didnt', 'know', 'fuck', 'go', 'x', 'offer', 'oppoun', 'pay', 'you', '50', 'get', 'back', 'featur', 'lost', 'well', 'done', 'go', 'love', 'you', 'soooooooooooooooooooooooooooooooooooooooooooooooooooooooooooooooooooooo', 'much', 'today', 'tame', 'bearwasnt', 'hard', 'you', 'polish', 'ego', 'bit', 'girl', 'like', 'think', 'ok', 'point', 'moron', 'trump', 'say', 'hell', 'put', 'american', 'work', 'yet', 'get', 'visa', 'immigr', 'work', 'golf', 'cours', 'fl', 'bigger', 'ever', 'shoe', 'sale', '75', 'off', 'mani', 'shoe', 'gorgeou', 'unlucki', 'peopl', 'total', 'forgot', 'reflect', 'exist', 'photo', 'go', 'home', 'oreo', 'drunk', 'aim', 'messag', 'wafc', 'fan', 'happi', 'anoth', 'footbal', 'club', 'may', 'go', 'ie', 'bolton', 'remind', 'prospect', 'arent', 'woh', 'nearli', 'much', 'you', 'think', 'rohith', 'vemula', 'awaken', 'let', 'sacrific', 'go', 'vain', 'dalitsnotcow', 'muslimsnotcow', 'dalitmusl', 'cba', 'polish', 'custom', 'work', 'like', 'peopl', 'get', 'enough', 'level1', 'level', 'one', 'darwen', 'realli', 'gerald', 'life', 'kondobyjaymoni', '20', 'brazil', 'beauti', 'place', 'anticip', 'breaktim', 'peopl', 'uncivil', 'peerfest15', 'learn', 'fantast', 'peer', 'suppo', 'project', 'around', 'countri', 'passion', 'build', 'you', 'love', 'someon', 'tell', 'them', 'thing', 'right', 'time', 'right', 'place', 'long', 'live', 'webcam', 'lyft', 'coupon', 'free', '50', 'ride', 'credit', 'lyft', 'exp', '222', 'coupon', 'thank', 'you', 'post', 'fine', 'exampl', 'braveri', 'inspir', 'ive', 'switch', 'off', 'still', 'work', 'peopl', 'allow', 'post', 'facebook', '15', 'reason', 'weedl', 'pidgey', 'scum', 'eah', 'accid', 'repo', 'i90', 'eb', 'w', '25th', 'st', 'shoulder', 'block', 'here', 'pictur', 'area', 'wordno', 'maniq', 'gel', 'polish', 'natur', 'nail', 'champagn', '10', 'off', 'nail', 'servic', 'januari', 'thing', 'get', 'better', 'howard', 'jone', 'nowplay', 'sun', 'lancast', 'download', 'googl', 'adsens', 'mobil', 'text', 'ad', 'get', 'new', 'look', 'fresh', 'out', 'pack', 'bed', 'fuck', 'yeah', 'men', 'hate', 'women', 'worldwid', 'south', 'korea', 'contend', 'gamerg', 'tshi', 'npr', 'love', '70', 'polyest', 'suit', 'profil', 'you', 'go', 'far', 'noh', 'pier', 'exampl', 'specialist', 'intim', 'wax', 'guidenot', 'sure', 'much', 'take', 'off', 'mayb', 'much', 'leav', 'mani', 'lad', 'you', 'fight', 'off', 'suitabl', 'impress', 'number', 'may', 'convinc', 'lend', 'suppo', 'job', 'might', 'great', 'fit', 'you', 'senior', 'engin', 'engin', 'westgreenwich', 'ri', 'hire', 'careerarc', 'good', 'news', 'tell', 'god', 'make', 'right', 'sight', 'accomplish', 'from', 'sta', 'finish', 'roman', '117', 'would', 'hate', 'see', 'countri', 'run', 'tori', 'brake', 'off', 'due', 'leav', 'eu', 'would', 'dictatorship', 'feel', 'mani', 'today', 'set', 'off', 'go', 'holiday', '15', 'day', 'like', 'even', 'readi', 'callin', 'daddi', 'daddi', 'need', 'daddi', 'wont', 'you', 'daddi', 'daddi', 'come', 'make', 'rain', 'you', 'fan', 'even', 'like', 'respect', 'famili', 'prayforhay', 'cake', 'sale', 'kick', 'off', 'mani', 'delici', 'treat', 'lol', 'fear', 'polic', 'die', 'tess2016', 'you', 'need', 'prove', 'consist', 'time', 'one', 'ok', 'rock', 'pope', 'franci', 'visit', 'former', 'german', 'nazi', 'concentr', 'camp', 'auschwitzbirkenau', 'today', 'realiti', 'follow', 'topstori', 'spain', 'economi', 'expand', '07', 'despit', 'polit', 'deadlock', 'forb', 'cool', 'off', 'amaz', 'product', 'from', 'leav', 'condition', 'yet', 'oh', 'god', 'board', 'thank', 'got', 'given', 'bonu', 'day', 'off', 'way', 'leav', 'book', 'work', 'out', 'well', 'right', 'bear', 'arm', 'kill', 'mani', 'peopl', 'you', 'usconstitut', 'saw', 'crow', 'gallop', 'across', 'road', 'mmkay', 'wut', '128514', 'spend', 'live', 'live', 'gangsta', 'paradis', 'iphon', 'need', 'featur', 'incom', 'call', 'take', 'whole', 'screen', 'thing', 'ignor', 'phon', 'probabl', 'gon', 'na', 'recolorshad', 'head', 'crep', 'fact', 'work', 'out', 'chanyeol', 'achiev', 'give', 'chill', 'get', 'chelsea', 'ye']\n"
     ]
    }
   ],
   "source": [
    "print(vocab)"
   ]
  },
  {
   "cell_type": "markdown",
   "metadata": {},
   "source": [
    "This vocabulary contains a list of all unique words in our pre-processed tweets. You'll notice some of the words don't look very english. It's because they are the stem of the initial word (recall the stemming process)."
   ]
  },
  {
   "cell_type": "markdown",
   "metadata": {},
   "source": [
    "The notion of hate in the English language is more complex than just the presence of a word. Sometimes it's the combination of 2 or more words that becomes hateful. For example 'shut up', 'f**k off' or 'send them home'. \n",
    "\n",
    "In NLP, these combinations of 2 or more words are called ngrams:\n",
    "- bigram: ('back', 'off')\n",
    "- trigram: ('send', 'them', 'home')\n",
    "\n",
    "We need to add bigrams and trigrams to our vocabulary of features alongside single words/features."
   ]
  },
  {
   "cell_type": "code",
   "execution_count": 23,
   "metadata": {},
   "outputs": [
    {
     "name": "stdout",
     "output_type": "stream",
     "text": [
      "Vocabulary size: 3261\n"
     ]
    }
   ],
   "source": [
    "def get_vocabulary(tweets):\n",
    "    all_words = []\n",
    "    for word_list in tweets:\n",
    "        # unigrams\n",
    "        all_words.extend(word_list)\n",
    "        \n",
    "        # bigrams\n",
    "        bigrams = list(ngrams(word_list, 2))\n",
    "        \n",
    "        #trigrams \n",
    "        trigrams = list(ngrams(word_list, 3))\n",
    "        \n",
    "        all_words.extend(bigrams)\n",
    "        all_words.extend(trigrams)\n",
    "    \n",
    "    return all_words\n",
    "\n",
    "vocab = get_vocabulary(pre_processed_data['tweet'])\n",
    "print('Vocabulary size: {}'.format(len(vocab)))"
   ]
  },
  {
   "cell_type": "code",
   "execution_count": 24,
   "metadata": {
    "scrolled": true
   },
   "outputs": [
    {
     "name": "stdout",
     "output_type": "stream",
     "text": [
      "['stupid', 'bitch', ('stupid', 'bitch'), 'fuck', 'faggot', 'sit', 'cinema', 'next', ('fuck', 'faggot'), ('faggot', 'sit'), ('sit', 'cinema'), ('cinema', 'next'), ('fuck', 'faggot', 'sit'), ('faggot', 'sit', 'cinema'), ('sit', 'cinema', 'next'), 'neighbour', 'call', 'paki', 'peopl', 'respect', ('neighbour', 'call'), ('call', 'paki'), ('paki', 'peopl'), ('peopl', 'respect'), ('neighbour', 'call', 'paki'), ('call', 'paki', 'peopl'), ('paki', 'peopl', 'respect'), 'you', 'fuck', 'irish', 'cow', ('you', 'fuck'), ('fuck', 'irish'), ('irish', 'cow'), ('you', 'fuck', 'irish'), ('fuck', 'irish', 'cow'), 'come', 'out', 'you', 'black', 'bastard', ('come', 'out'), ('out', 'you'), ('you', 'black'), ('black', 'bastard'), ('come', 'out', 'you'), ('out', 'you', 'black'), ('you', 'black', 'bastard'), 'brexit', 'time', 'fuck', 'off', 'you', 'polish', 'alien', ('brexit', 'time'), ('time', 'fuck'), ('fuck', 'off'), ('off', 'you'), ('you', 'polish'), ('polish', 'alien'), ('brexit', 'time', 'fuck'), ('time', 'fuck', 'off'), ('fuck', 'off', 'you'), ('off', 'you', 'polish'), ('you', 'polish', 'alien'), 'fuck', 'nigger', ('fuck', 'nigger'), 'fuck', 'off', 'back', 'europ', 'you', 'job', 'steal', 'immigr', ('fuck', 'off'), ('off', 'back'), ('back', 'europ'), ('europ', 'you'), ('you', 'job'), ('job', 'steal'), ('steal', 'immigr'), ('fuck', 'off', 'back'), ('off', 'back', 'europ'), ('back', 'europ', 'you'), ('europ', 'you', 'job'), ('you', 'job', 'steal'), ('job', 'steal', 'immigr'), 'you', 'muslim', 'prick', ('you', 'muslim'), ('muslim', 'prick'), ('you', 'muslim', 'prick'), 'bastard', 'wog', 'road', 'annoy', ('bastard', 'wog'), ('wog', 'road'), ('road', 'annoy'), ('bastard', 'wog', 'road'), ('wog', 'road', 'annoy'), 'fat', 'littl', 'wanker', 'you', 'problem', 'say', 'face', 'behind', 'back', 'faggot', ('fat', 'littl'), ('littl', 'wanker'), ('wanker', 'you'), ('you', 'problem'), ('problem', 'say'), ('say', 'face'), ('face', 'behind'), ('behind', 'back'), ('back', 'faggot'), ('fat', 'littl', 'wanker'), ('littl', 'wanker', 'you'), ('wanker', 'you', 'problem'), ('you', 'problem', 'say'), ('problem', 'say', 'face'), ('say', 'face', 'behind'), ('face', 'behind', 'back'), ('behind', 'back', 'faggot'), 'fuck', 'paki', ('fuck', 'paki'), 'nigger', 'road', 'better', 'stop', 'shout', 'go', 'round', 'shut', 'them', ('nigger', 'road'), ('road', 'better'), ('better', 'stop'), ('stop', 'shout'), ('shout', 'go'), ('go', 'round'), ('round', 'shut'), ('shut', 'them'), ('nigger', 'road', 'better'), ('road', 'better', 'stop'), ('better', 'stop', 'shout'), ('stop', 'shout', 'go'), ('shout', 'go', 'round'), ('go', 'round', 'shut'), ('round', 'shut', 'them'), 'least', 'nigger', 'lmfao', ('least', 'nigger'), ('nigger', 'lmfao'), ('least', 'nigger', 'lmfao'), 'fuck', 'off', 'myriah', 'chavcentr', 'chav', 'central', ('fuck', 'off'), ('off', 'myriah'), ('myriah', 'chavcentr'), ('chavcentr', 'chav'), ('chav', 'central'), ('fuck', 'off', 'myriah'), ('off', 'myriah', 'chavcentr'), ('myriah', 'chavcentr', 'chav'), ('chavcentr', 'chav', 'central'), 'hate', 'peopl', 'wrong', 'said', '975', 'peopl', 'cunt', 'much', 'much', 'higher', ('hate', 'peopl'), ('peopl', 'wrong'), ('wrong', 'said'), ('said', '975'), ('975', 'peopl'), ('peopl', 'cunt'), ('cunt', 'much'), ('much', 'much'), ('much', 'higher'), ('hate', 'peopl', 'wrong'), ('peopl', 'wrong', 'said'), ('wrong', 'said', '975'), ('said', '975', 'peopl'), ('975', 'peopl', 'cunt'), ('peopl', 'cunt', 'much'), ('cunt', 'much', 'much'), ('much', 'much', 'higher'), 'fuck', 'off', 'you', 'cunt', ('fuck', 'off'), ('off', 'you'), ('you', 'cunt'), ('fuck', 'off', 'you'), ('off', 'you', 'cunt'), 'colour', 'fucker', 'leav', 'countri', ('colour', 'fucker'), ('fucker', 'leav'), ('leav', 'countri'), ('colour', 'fucker', 'leav'), ('fucker', 'leav', 'countri'), 'shut', 'fuck', ('shut', 'fuck'), 'shut', 'nigger', 'whore', 'hope', 'get', 'rape', 'one', 'anim', 'might', 'chang', 'tune', ('shut', 'nigger'), ('nigger', 'whore'), ('whore', 'hope'), ('hope', 'get'), ('get', 'rape'), ('rape', 'one'), ('one', 'anim'), ('anim', 'might'), ('might', 'chang'), ('chang', 'tune'), ('shut', 'nigger', 'whore'), ('nigger', 'whore', 'hope'), ('whore', 'hope', 'get'), ('hope', 'get', 'rape'), ('get', 'rape', 'one'), ('rape', 'one', 'anim'), ('one', 'anim', 'might'), ('anim', 'might', 'chang'), ('might', 'chang', 'tune'), 'kill', 'you', 'you', 'paki', 'bastard', ('kill', 'you'), ('you', 'you'), ('you', 'paki'), ('paki', 'bastard'), ('kill', 'you', 'you'), ('you', 'you', 'paki'), ('you', 'paki', 'bastard'), 'enough', 'fuck', 'paki', 'man', 'time', 'leav', 'europ', ('enough', 'fuck'), ('fuck', 'paki'), ('paki', 'man'), ('man', 'time'), ('time', 'leav'), ('leav', 'europ'), ('enough', 'fuck', 'paki'), ('fuck', 'paki', 'man'), ('paki', 'man', 'time'), ('man', 'time', 'leav'), ('time', 'leav', 'europ'), 'you', 'ass', 'prick', ('you', 'ass'), ('ass', 'prick'), ('you', 'ass', 'prick'), 'fuck', 'off', 'back', 'poland', ('fuck', 'off'), ('off', 'back'), ('back', 'poland'), ('fuck', 'off', 'back'), ('off', 'back', 'poland'), 'black', 'nigger', ('black', 'nigger'), 'sli', 'bitch', ('sli', 'bitch'), 'hate', 'nigger', 'hate', 'faggot', 'hate', 'spicskkk', 'ralli', ('hate', 'nigger'), ('nigger', 'hate'), ('hate', 'faggot'), ('faggot', 'hate'), ('hate', 'spicskkk'), ('spicskkk', 'ralli'), ('hate', 'nigger', 'hate'), ('nigger', 'hate', 'faggot'), ('hate', 'faggot', 'hate'), ('faggot', 'hate', 'spicskkk'), ('hate', 'spicskkk', 'ralli'), 'fuck', 'you', 'nigger', 'sheboon', 'hope', 'you', 'strung', 'like', 'nigger', 'whitepow', '1488', ('fuck', 'you'), ('you', 'nigger'), ('nigger', 'sheboon'), ('sheboon', 'hope'), ('hope', 'you'), ('you', 'strung'), ('strung', 'like'), ('like', 'nigger'), ('nigger', 'whitepow'), ('whitepow', '1488'), ('fuck', 'you', 'nigger'), ('you', 'nigger', 'sheboon'), ('nigger', 'sheboon', 'hope'), ('sheboon', 'hope', 'you'), ('hope', 'you', 'strung'), ('you', 'strung', 'like'), ('strung', 'like', 'nigger'), ('like', 'nigger', 'whitepow'), ('nigger', 'whitepow', '1488'), 'attent', 'seek', 'bitch', ('attent', 'seek'), ('seek', 'bitch'), ('attent', 'seek', 'bitch'), 'smelli', 'paki', ('smelli', 'paki'), 'go', 'burn', 'hell', 'bitch', ('go', 'burn'), ('burn', 'hell'), ('hell', 'bitch'), ('go', 'burn', 'hell'), ('burn', 'hell', 'bitch'), 'muslim', 'go', 'fuck', 'home', 'bye', 'bye', 'brexit', ('muslim', 'go'), ('go', 'fuck'), ('fuck', 'home'), ('home', 'bye'), ('bye', 'bye'), ('bye', 'brexit'), ('muslim', 'go', 'fuck'), ('go', 'fuck', 'home'), ('fuck', 'home', 'bye'), ('home', 'bye', 'bye'), ('bye', 'bye', 'brexit'), 'local', 'mosqu', 'let', 'terrorist', 'out', ('local', 'mosqu'), ('mosqu', 'let'), ('let', 'terrorist'), ('terrorist', 'out'), ('local', 'mosqu', 'let'), ('mosqu', 'let', 'terrorist'), ('let', 'terrorist', 'out'), 'hate', 'immigr', 'fuck', 'anyon', 'british', ('hate', 'immigr'), ('immigr', 'fuck'), ('fuck', 'anyon'), ('anyon', 'british'), ('hate', 'immigr', 'fuck'), ('immigr', 'fuck', 'anyon'), ('fuck', 'anyon', 'british'), 'fuck', 'polish', 'alien', 'come', 'take', 'job', 'unaccept', ('fuck', 'polish'), ('polish', 'alien'), ('alien', 'come'), ('come', 'take'), ('take', 'job'), ('job', 'unaccept'), ('fuck', 'polish', 'alien'), ('polish', 'alien', 'come'), ('alien', 'come', 'take'), ('come', 'take', 'job'), ('take', 'job', 'unaccept'), 'muslim', 'scum', 'terrorist', ('muslim', 'scum'), ('scum', 'terrorist'), ('muslim', 'scum', 'terrorist'), 'diy', 'terrorist', 'religion', 'fuck', 'joke', 'you', 'go', 'around', 'scream', 'allah', 'akbar', 'terrorist', 'shit', 'diy', 'faggot', ('diy', 'terrorist'), ('terrorist', 'religion'), ('religion', 'fuck'), ('fuck', 'joke'), ('joke', 'you'), ('you', 'go'), ('go', 'around'), ('around', 'scream'), ('scream', 'allah'), ('allah', 'akbar'), ('akbar', 'terrorist'), ('terrorist', 'shit'), ('shit', 'diy'), ('diy', 'faggot'), ('diy', 'terrorist', 'religion'), ('terrorist', 'religion', 'fuck'), ('religion', 'fuck', 'joke'), ('fuck', 'joke', 'you'), ('joke', 'you', 'go'), ('you', 'go', 'around'), ('go', 'around', 'scream'), ('around', 'scream', 'allah'), ('scream', 'allah', 'akbar'), ('allah', 'akbar', 'terrorist'), ('akbar', 'terrorist', 'shit'), ('terrorist', 'shit', 'diy'), ('shit', 'diy', 'faggot'), 'fuck', 'bitch', ('fuck', 'bitch'), 'depo', 'bastard', 'immigr', 'keep', 'britain', 'british', ('depo', 'bastard'), ('bastard', 'immigr'), ('immigr', 'keep'), ('keep', 'britain'), ('britain', 'british'), ('depo', 'bastard', 'immigr'), ('bastard', 'immigr', 'keep'), ('immigr', 'keep', 'britain'), ('keep', 'britain', 'british'), 'black', 'bitch', 'next', 'shut', ('black', 'bitch'), ('bitch', 'next'), ('next', 'shut'), ('black', 'bitch', 'next'), ('bitch', 'next', 'shut'), 'scottish', 'bastard', 'get', 'rid', 'them', 'along', 'europ', ('scottish', 'bastard'), ('bastard', 'get'), ('get', 'rid'), ('rid', 'them'), ('them', 'along'), ('along', 'europ'), ('scottish', 'bastard', 'get'), ('bastard', 'get', 'rid'), ('get', 'rid', 'them'), ('rid', 'them', 'along'), ('them', 'along', 'europ'), 'good', 'night', 'fag', 'fagett', 'femal', 'version', 'fag', 'like', 'fagett', 'make', 'femal', 'hate', 'you', ('good', 'night'), ('night', 'fag'), ('fag', 'fagett'), ('fagett', 'femal'), ('femal', 'version'), ('version', 'fag'), ('fag', 'like'), ('like', 'fagett'), ('fagett', 'make'), ('make', 'femal'), ('femal', 'hate'), ('hate', 'you'), ('good', 'night', 'fag'), ('night', 'fag', 'fagett'), ('fag', 'fagett', 'femal'), ('fagett', 'femal', 'version'), ('femal', 'version', 'fag'), ('version', 'fag', 'like'), ('fag', 'like', 'fagett'), ('like', 'fagett', 'make'), ('fagett', 'make', 'femal'), ('make', 'femal', 'hate'), ('femal', 'hate', 'you'), 'fuck', 'chink', ('fuck', 'chink'), 'diy', 'paki', ('diy', 'paki'), 'fuck', 'hate', 'you', 'nigger', 'bruh', ('fuck', 'hate'), ('hate', 'you'), ('you', 'nigger'), ('nigger', 'bruh'), ('fuck', 'hate', 'you'), ('hate', 'you', 'nigger'), ('you', 'nigger', 'bruh'), 'fuck', 'off', 'you', 'back', 'paki', 'bastard', ('fuck', 'off'), ('off', 'you'), ('you', 'back'), ('back', 'paki'), ('paki', 'bastard'), ('fuck', 'off', 'you'), ('off', 'you', 'back'), ('you', 'back', 'paki'), ('back', 'paki', 'bastard'), 'fuck', 'off', 'immigr', 'brexit', ('fuck', 'off'), ('off', 'immigr'), ('immigr', 'brexit'), ('fuck', 'off', 'immigr'), ('off', 'immigr', 'brexit'), 'cheat', 'fuck', 'stupid', 'ass', 'prick', ('cheat', 'fuck'), ('fuck', 'stupid'), ('stupid', 'ass'), ('ass', 'prick'), ('cheat', 'fuck', 'stupid'), ('fuck', 'stupid', 'ass'), ('stupid', 'ass', 'prick'), 'go', 'home', 'you', 'immigr', ('go', 'home'), ('home', 'you'), ('you', 'immigr'), ('go', 'home', 'you'), ('home', 'you', 'immigr'), 'fuck', 'hate', 'allah', 'lover', ('fuck', 'hate'), ('hate', 'allah'), ('allah', 'lover'), ('fuck', 'hate', 'allah'), ('hate', 'allah', 'lover'), 'muslim', 'terrorist', 'same', ('muslim', 'terrorist'), ('terrorist', 'same'), ('muslim', 'terrorist', 'same'), 'nigger', 'polish', 'bitch', ('polish', 'bitch'), 'local', 'paki', 'shop', 'disgust', 'even', 'allow', 'countri', ('local', 'paki'), ('paki', 'shop'), ('shop', 'disgust'), ('disgust', 'even'), ('even', 'allow'), ('allow', 'countri'), ('local', 'paki', 'shop'), ('paki', 'shop', 'disgust'), ('shop', 'disgust', 'even'), ('disgust', 'even', 'allow'), ('even', 'allow', 'countri'), 'fuck', 'dyke', ('fuck', 'dyke'), 'get', 'out', 'countri', 'you', 'fuck', 'foreign', ('get', 'out'), ('out', 'countri'), ('countri', 'you'), ('you', 'fuck'), ('fuck', 'foreign'), ('get', 'out', 'countri'), ('out', 'countri', 'you'), ('countri', 'you', 'fuck'), ('you', 'fuck', 'foreign'), 'saw', 'graffiti', 'train', 'today', 'said', 'fuck', 'off', 'home', 'you', 'black', 'slagfound', 'pretti', 'funni', ('saw', 'graffiti'), ('graffiti', 'train'), ('train', 'today'), ('today', 'said'), ('said', 'fuck'), ('fuck', 'off'), ('off', 'home'), ('home', 'you'), ('you', 'black'), ('black', 'slagfound'), ('slagfound', 'pretti'), ('pretti', 'funni'), ('saw', 'graffiti', 'train'), ('graffiti', 'train', 'today'), ('train', 'today', 'said'), ('today', 'said', 'fuck'), ('said', 'fuck', 'off'), ('fuck', 'off', 'home'), ('off', 'home', 'you'), ('home', 'you', 'black'), ('you', 'black', 'slagfound'), ('black', 'slagfound', 'pretti'), ('slagfound', 'pretti', 'funni'), 'racist', 'sexist', 'perv', 'clearli', 'want', 'fuck', 'daughter', 'disgust', ('racist', 'sexist'), ('sexist', 'perv'), ('perv', 'clearli'), ('clearli', 'want'), ('want', 'fuck'), ('fuck', 'daughter'), ('daughter', 'disgust'), ('racist', 'sexist', 'perv'), ('sexist', 'perv', 'clearli'), ('perv', 'clearli', 'want'), ('clearli', 'want', 'fuck'), ('want', 'fuck', 'daughter'), ('fuck', 'daughter', 'disgust'), 'paki', 'cunt', 'wear', 'veil', ('paki', 'cunt'), ('cunt', 'wear'), ('wear', 'veil'), ('paki', 'cunt', 'wear'), ('cunt', 'wear', 'veil'), 'fuck', 'sand', 'monkey', ('fuck', 'sand'), ('sand', 'monkey'), ('fuck', 'sand', 'monkey'), 'polish', 'bastard', ('polish', 'bastard'), 'go', 'fuck', 'yourself', 'you', 'cunt', ('go', 'fuck'), ('fuck', 'yourself'), ('yourself', 'you'), ('you', 'cunt'), ('go', 'fuck', 'yourself'), ('fuck', 'yourself', 'you'), ('yourself', 'you', 'cunt'), 'bastard', 'muslim', 'terrorist', ('bastard', 'muslim'), ('muslim', 'terrorist'), ('bastard', 'muslim', 'terrorist'), 'fuck', 'white', 'bitch', 'road', 'need', 'out', ('fuck', 'white'), ('white', 'bitch'), ('bitch', 'road'), ('road', 'need'), ('need', 'out'), ('fuck', 'white', 'bitch'), ('white', 'bitch', 'road'), ('bitch', 'road', 'need'), ('road', 'need', 'out'), 'immigr', 'fuck', 'terrorist', ('immigr', 'fuck'), ('fuck', 'terrorist'), ('immigr', 'fuck', 'terrorist'), 'mani', 'chink', 'london', ('mani', 'chink'), ('chink', 'london'), ('mani', 'chink', 'london'), 'hate', 'yellow', 'fucker', ('hate', 'yellow'), ('yellow', 'fucker'), ('hate', 'yellow', 'fucker'), 'neighbour', 'complain', 'shed', 'front', 'garden', 'who', 'neighbour', 'church', 'england', 'bunch', 'god', 'bother', 'cunt', ('neighbour', 'complain'), ('complain', 'shed'), ('shed', 'front'), ('front', 'garden'), ('garden', 'who'), ('who', 'neighbour'), ('neighbour', 'church'), ('church', 'england'), ('england', 'bunch'), ('bunch', 'god'), ('god', 'bother'), ('bother', 'cunt'), ('neighbour', 'complain', 'shed'), ('complain', 'shed', 'front'), ('shed', 'front', 'garden'), ('front', 'garden', 'who'), ('garden', 'who', 'neighbour'), ('who', 'neighbour', 'church'), ('neighbour', 'church', 'england'), ('church', 'england', 'bunch'), ('england', 'bunch', 'god'), ('bunch', 'god', 'bother'), ('god', 'bother', 'cunt'), 'paki', 'cunt', ('paki', 'cunt'), 'cunt', 'fuck', 'off', ('cunt', 'fuck'), ('fuck', 'off'), ('cunt', 'fuck', 'off'), 'nigger', 'everywher', 'day', 'make', 'britain', 'great', ('nigger', 'everywher'), ('everywher', 'day'), ('day', 'make'), ('make', 'britain'), ('britain', 'great'), ('nigger', 'everywher', 'day'), ('everywher', 'day', 'make'), ('day', 'make', 'britain'), ('make', 'britain', 'great'), 'fuck', 'jezani', 'cunt', 'cbb', ('fuck', 'jezani'), ('jezani', 'cunt'), ('cunt', 'cbb'), ('fuck', 'jezani', 'cunt'), ('jezani', 'cunt', 'cbb'), 'hate', 'bitch', ('hate', 'bitch'), 'hate', 'immigr', ('hate', 'immigr'), 'fuck', 'immigr', ('fuck', 'immigr'), 'leav', 'fuck', 'countri', 'you', 'white', ('leav', 'fuck'), ('fuck', 'countri'), ('countri', 'you'), ('you', 'white'), ('leav', 'fuck', 'countri'), ('fuck', 'countri', 'you'), ('countri', 'you', 'white'), 'bunch', 'paki', 'perv', ('bunch', 'paki'), ('paki', 'perv'), ('bunch', 'paki', 'perv'), 'bitch', 'fuck', 'fascist', 'fuck', 'liber', 'fuck', 'racist', 'fuck', 'traitor', 'fuck', 'petrolhead', 'fuck', 'treehugg', 'steve', 'you', 'steph', 'mate', ('fuck', 'fascist'), ('fascist', 'fuck'), ('fuck', 'liber'), ('liber', 'fuck'), ('fuck', 'racist'), ('racist', 'fuck'), ('fuck', 'traitor'), ('traitor', 'fuck'), ('fuck', 'petrolhead'), ('petrolhead', 'fuck'), ('fuck', 'treehugg'), ('treehugg', 'steve'), ('steve', 'you'), ('you', 'steph'), ('steph', 'mate'), ('fuck', 'fascist', 'fuck'), ('fascist', 'fuck', 'liber'), ('fuck', 'liber', 'fuck'), ('liber', 'fuck', 'racist'), ('fuck', 'racist', 'fuck'), ('racist', 'fuck', 'traitor'), ('fuck', 'traitor', 'fuck'), ('traitor', 'fuck', 'petrolhead'), ('fuck', 'petrolhead', 'fuck'), ('petrolhead', 'fuck', 'treehugg'), ('fuck', 'treehugg', 'steve'), ('treehugg', 'steve', 'you'), ('steve', 'you', 'steph'), ('you', 'steph', 'mate'), 'mani', 'wog', 'leav', 'countri', 'brexit', ('mani', 'wog'), ('wog', 'leav'), ('leav', 'countri'), ('countri', 'brexit'), ('mani', 'wog', 'leav'), ('wog', 'leav', 'countri'), ('leav', 'countri', 'brexit'), 'fuck', 'off', 'you', 'cunt', ('fuck', 'off'), ('off', 'you'), ('you', 'cunt'), ('fuck', 'off', 'you'), ('off', 'you', 'cunt'), 'polish', 'vermin', ('polish', 'vermin'), 'hate', 'immigr', ('hate', 'immigr'), 'fuck', 'off', 'you', 'scum', ('fuck', 'off'), ('off', 'you'), ('you', 'scum'), ('fuck', 'off', 'you'), ('off', 'you', 'scum'), 'fuck', 'off', 'home', 'you', 'foreign', 'bastard', ('fuck', 'off'), ('off', 'home'), ('home', 'you'), ('you', 'foreign'), ('foreign', 'bastard'), ('fuck', 'off', 'home'), ('off', 'home', 'you'), ('home', 'you', 'foreign'), ('you', 'foreign', 'bastard'), 'fuck', 'off', 'you', 'fuck', 'paki', 'bastard', ('fuck', 'off'), ('off', 'you'), ('you', 'fuck'), ('fuck', 'paki'), ('paki', 'bastard'), ('fuck', 'off', 'you'), ('off', 'you', 'fuck'), ('you', 'fuck', 'paki'), ('fuck', 'paki', 'bastard'), 'least', 'look', 'like', 'jefre', 'starr', 'faggot', ('least', 'look'), ('look', 'like'), ('like', 'jefre'), ('jefre', 'starr'), ('starr', 'faggot'), ('least', 'look', 'like'), ('look', 'like', 'jefre'), ('like', 'jefre', 'starr'), ('jefre', 'starr', 'faggot'), 'use', 'tie', 'end', 'nigger', 'leg', '2', 'differ', 'hors', 'beat', 'hors', 'spread', 'leg', 'break', 'smh', ('use', 'tie'), ('tie', 'end'), ('end', 'nigger'), ('nigger', 'leg'), ('leg', '2'), ('2', 'differ'), ('differ', 'hors'), ('hors', 'beat'), ('beat', 'hors'), ('hors', 'spread'), ('spread', 'leg'), ('leg', 'break'), ('break', 'smh'), ('use', 'tie', 'end'), ('tie', 'end', 'nigger'), ('end', 'nigger', 'leg'), ('nigger', 'leg', '2'), ('leg', '2', 'differ'), ('2', 'differ', 'hors'), ('differ', 'hors', 'beat'), ('hors', 'beat', 'hors'), ('beat', 'hors', 'spread'), ('hors', 'spread', 'leg'), ('spread', 'leg', 'break'), ('leg', 'break', 'smh'), 'you', 'even', 'countri', 'you', 'paki', ('you', 'even'), ('even', 'countri'), ('countri', 'you'), ('you', 'paki'), ('you', 'even', 'countri'), ('even', 'countri', 'you'), ('countri', 'you', 'paki'), 'thick', 'scottish', 'bastard', ('thick', 'scottish'), ('scottish', 'bastard'), ('thick', 'scottish', 'bastard'), 'fuck', 'terrorist', 'everywher', 'get', 'rid', 'them', 'bastard', 'muslim', ('fuck', 'terrorist'), ('terrorist', 'everywher'), ('everywher', 'get'), ('get', 'rid'), ('rid', 'them'), ('them', 'bastard'), ('bastard', 'muslim'), ('fuck', 'terrorist', 'everywher'), ('terrorist', 'everywher', 'get'), ('everywher', 'get', 'rid'), ('get', 'rid', 'them'), ('rid', 'them', 'bastard'), ('them', 'bastard', 'muslim'), 'fuck', 'paki', 'cunt', ('fuck', 'paki'), ('paki', 'cunt'), ('fuck', 'paki', 'cunt'), 'bastard', 'muslim', 'dog', ('bastard', 'muslim'), ('muslim', 'dog'), ('bastard', 'muslim', 'dog'), 'paki', 'fuck', 'off', 'pleas', ('paki', 'fuck'), ('fuck', 'off'), ('off', 'pleas'), ('paki', 'fuck', 'off'), ('fuck', 'off', 'pleas'), 'tire', 'polish', 'bitch', 'fuck', 'off', ('tire', 'polish'), ('polish', 'bitch'), ('bitch', 'fuck'), ('fuck', 'off'), ('tire', 'polish', 'bitch'), ('polish', 'bitch', 'fuck'), ('bitch', 'fuck', 'off'), 'polish', 'scum', ('polish', 'scum'), 'benjamin', 'fuck', 'faggot', ('benjamin', 'fuck'), ('fuck', 'faggot'), ('benjamin', 'fuck', 'faggot'), 'you', 'fuck', 'faggot', ('you', 'fuck'), ('fuck', 'faggot'), ('you', 'fuck', 'faggot'), 'man', 'call', 'black', 'bastard', 'go', 'back', 'countri', 'rude', ('man', 'call'), ('call', 'black'), ('black', 'bastard'), ('bastard', 'go'), ('go', 'back'), ('back', 'countri'), ('countri', 'rude'), ('man', 'call', 'black'), ('call', 'black', 'bastard'), ('black', 'bastard', 'go'), ('bastard', 'go', 'back'), ('go', 'back', 'countri'), ('back', 'countri', 'rude'), 'hate', 'faggot', 'like', 'you', ('hate', 'faggot'), ('faggot', 'like'), ('like', 'you'), ('hate', 'faggot', 'like'), ('faggot', 'like', 'you'), 'last', 'time', 'preston', 'anymor', 'inconsider', 'twat', 'm6m61', 'way', 'home', 'gon', 'na', 'cut', 'bitch', ('last', 'time'), ('time', 'preston'), ('preston', 'anymor'), ('anymor', 'inconsider'), ('inconsider', 'twat'), ('twat', 'm6m61'), ('m6m61', 'way'), ('way', 'home'), ('home', 'gon'), ('gon', 'na'), ('na', 'cut'), ('cut', 'bitch'), ('last', 'time', 'preston'), ('time', 'preston', 'anymor'), ('preston', 'anymor', 'inconsider'), ('anymor', 'inconsider', 'twat'), ('inconsider', 'twat', 'm6m61'), ('twat', 'm6m61', 'way'), ('m6m61', 'way', 'home'), ('way', 'home', 'gon'), ('home', 'gon', 'na'), ('gon', 'na', 'cut'), ('na', 'cut', 'bitch'), 'decid', 'get', 'client', 'leav', 'comment', 'white', 'board', 'much', 'love', 'battl', 'rope', ('decid', 'get'), ('get', 'client'), ('client', 'leav'), ('leav', 'comment'), ('comment', 'white'), ('white', 'board'), ('board', 'much'), ('much', 'love'), ('love', 'battl'), ('battl', 'rope'), ('decid', 'get', 'client'), ('get', 'client', 'leav'), ('client', 'leav', 'comment'), ('leav', 'comment', 'white'), ('comment', 'white', 'board'), ('white', 'board', 'much'), ('board', 'much', 'love'), ('much', 'love', 'battl'), ('love', 'battl', 'rope'), 'wld', 'like', '2', 'meet', 'j', 'bloer', 'cafe', 'clevli', 'you', 'understand', 'you', 'deserv', 'everyth', 'you', 'get', ('wld', 'like'), ('like', '2'), ('2', 'meet'), ('meet', 'j'), ('j', 'bloer'), ('bloer', 'cafe'), ('cafe', 'clevli'), ('clevli', 'you'), ('you', 'understand'), ('understand', 'you'), ('you', 'deserv'), ('deserv', 'everyth'), ('everyth', 'you'), ('you', 'get'), ('wld', 'like', '2'), ('like', '2', 'meet'), ('2', 'meet', 'j'), ('meet', 'j', 'bloer'), ('j', 'bloer', 'cafe'), ('bloer', 'cafe', 'clevli'), ('cafe', 'clevli', 'you'), ('clevli', 'you', 'understand'), ('you', 'understand', 'you'), ('understand', 'you', 'deserv'), ('you', 'deserv', 'everyth'), ('deserv', 'everyth', 'you'), ('everyth', 'you', 'get'), 'bomb', 'holi', 'fuck', ('bomb', 'holi'), ('holi', 'fuck'), ('bomb', 'holi', 'fuck'), 'men', 'sale', 'drop', 'dramat', 'sinc', 'simon', 'decid', 'go', 'au', 'natur', 'xfactor', ('men', 'sale'), ('sale', 'drop'), ('drop', 'dramat'), ('dramat', 'sinc'), ('sinc', 'simon'), ('simon', 'decid'), ('decid', 'go'), ('go', 'au'), ('au', 'natur'), ('natur', 'xfactor'), ('men', 'sale', 'drop'), ('sale', 'drop', 'dramat'), ('drop', 'dramat', 'sinc'), ('dramat', 'sinc', 'simon'), ('sinc', 'simon', 'decid'), ('simon', 'decid', 'go'), ('decid', 'go', 'au'), ('go', 'au', 'natur'), ('au', 'natur', 'xfactor'), 'crazi', 'car', 'crash', 'compil', 'pa', '321', ('crazi', 'car'), ('car', 'crash'), ('crash', 'compil'), ('compil', 'pa'), ('pa', '321'), ('crazi', 'car', 'crash'), ('car', 'crash', 'compil'), ('crash', 'compil', 'pa'), ('compil', 'pa', '321'), '10', 'off', 'dog', 'collar', 'lead', 'toy', 'weekend', 'pleasant', 'pet', 'dickson', 'road', 'blackpool', ('10', 'off'), ('off', 'dog'), ('dog', 'collar'), ('collar', 'lead'), ('lead', 'toy'), ('toy', 'weekend'), ('weekend', 'pleasant'), ('pleasant', 'pet'), ('pet', 'dickson'), ('dickson', 'road'), ('road', 'blackpool'), ('10', 'off', 'dog'), ('off', 'dog', 'collar'), ('dog', 'collar', 'lead'), ('collar', 'lead', 'toy'), ('lead', 'toy', 'weekend'), ('toy', 'weekend', 'pleasant'), ('weekend', 'pleasant', 'pet'), ('pleasant', 'pet', 'dickson'), ('pet', 'dickson', 'road'), ('dickson', 'road', 'blackpool'), 'baek', 'you', 'omg', ('baek', 'you'), ('you', 'omg'), ('baek', 'you', 'omg'), 'scare', 'father', 'christma', 'even', 'though', 'want', 'go', 'hous', 'xxxx', ('scare', 'father'), ('father', 'christma'), ('christma', 'even'), ('even', 'though'), ('though', 'want'), ('want', 'go'), ('go', 'hous'), ('hous', 'xxxx'), ('scare', 'father', 'christma'), ('father', 'christma', 'even'), ('christma', 'even', 'though'), ('even', 'though', 'want'), ('though', 'want', 'go'), ('want', 'go', 'hous'), ('go', 'hous', 'xxxx'), 'refer', 'sourc', 'you', 'crop', 'pass', 'off', 'hate', 'behaviour', ('refer', 'sourc'), ('sourc', 'you'), ('you', 'crop'), ('crop', 'pass'), ('pass', 'off'), ('off', 'hate'), ('hate', 'behaviour'), ('refer', 'sourc', 'you'), ('sourc', 'you', 'crop'), ('you', 'crop', 'pass'), ('crop', 'pass', 'off'), ('pass', 'off', 'hate'), ('off', 'hate', 'behaviour'), 'antiauster', 'toryscum', ('antiauster', 'toryscum'), 'countri', 'girl', 'johnni', 'oti', 'show', 'nowplay', 'sun', 'lancast', 'download', ('countri', 'girl'), ('girl', 'johnni'), ('johnni', 'oti'), ('oti', 'show'), ('show', 'nowplay'), ('nowplay', 'sun'), ('sun', 'lancast'), ('lancast', 'download'), ('countri', 'girl', 'johnni'), ('girl', 'johnni', 'oti'), ('johnni', 'oti', 'show'), ('oti', 'show', 'nowplay'), ('show', 'nowplay', 'sun'), ('nowplay', 'sun', 'lancast'), ('sun', 'lancast', 'download'), 'tire', 'oop', 'freudian', 'slit', ('oop', 'freudian'), ('freudian', 'slit'), ('oop', 'freudian', 'slit'), 'one', 'hour', 'go', 'lectur', 'end', 'januari', 'go', 'drag', 'freedom', ('one', 'hour'), ('hour', 'go'), ('go', 'lectur'), ('lectur', 'end'), ('end', 'januari'), ('januari', 'go'), ('go', 'drag'), ('drag', 'freedom'), ('one', 'hour', 'go'), ('hour', 'go', 'lectur'), ('go', 'lectur', 'end'), ('lectur', 'end', 'januari'), ('end', 'januari', 'go'), ('januari', 'go', 'drag'), ('go', 'drag', 'freedom'), 'want', 'work', 'citi', 'hire', 'jacksonvil', 'fl', 'click', 'detail', 'job', 'citicar', 'job', 'careerarc', ('want', 'work'), ('work', 'citi'), ('citi', 'hire'), ('hire', 'jacksonvil'), ('jacksonvil', 'fl'), ('fl', 'click'), ('click', 'detail'), ('detail', 'job'), ('job', 'citicar'), ('citicar', 'job'), ('job', 'careerarc'), ('want', 'work', 'citi'), ('work', 'citi', 'hire'), ('citi', 'hire', 'jacksonvil'), ('hire', 'jacksonvil', 'fl'), ('jacksonvil', 'fl', 'click'), ('fl', 'click', 'detail'), ('click', 'detail', 'job'), ('detail', 'job', 'citicar'), ('job', 'citicar', 'job'), ('citicar', 'job', 'careerarc'), 'welcom', 'back', 'manila', 'bangtan', 'btsinmanila', ('welcom', 'back'), ('back', 'manila'), ('manila', 'bangtan'), ('bangtan', 'btsinmanila'), ('welcom', 'back', 'manila'), ('back', 'manila', 'bangtan'), ('manila', 'bangtan', 'btsinmanila'), 'updat', 'databas', 'respect', 'uncoupl', 'record', 'onlin', 'emxzf', ('updat', 'databas'), ('databas', 'respect'), ('respect', 'uncoupl'), ('uncoupl', 'record'), ('record', 'onlin'), ('onlin', 'emxzf'), ('updat', 'databas', 'respect'), ('databas', 'respect', 'uncoupl'), ('respect', 'uncoupl', 'record'), ('uncoupl', 'record', 'onlin'), ('record', 'onlin', 'emxzf'), 'rev', 'william', 'barber', 'drop', 'mic', ('rev', 'william'), ('william', 'barber'), ('barber', 'drop'), ('drop', 'mic'), ('rev', 'william', 'barber'), ('william', 'barber', 'drop'), ('barber', 'drop', 'mic'), 'ex', 'broke', 'vs', ('ex', 'broke'), ('broke', 'vs'), ('ex', 'broke', 'vs'), 'fuck', 'qualiti', 'big', 'man', ('fuck', 'qualiti'), ('qualiti', 'big'), ('big', 'man'), ('fuck', 'qualiti', 'big'), ('qualiti', 'big', 'man'), 'excit', 'travel', 'back', 'home', 'daysprob', 'wont', 'look', 'like', 'though', ('excit', 'travel'), ('travel', 'back'), ('back', 'home'), ('home', 'daysprob'), ('daysprob', 'wont'), ('wont', 'look'), ('look', 'like'), ('like', 'though'), ('excit', 'travel', 'back'), ('travel', 'back', 'home'), ('back', 'home', 'daysprob'), ('home', 'daysprob', 'wont'), ('daysprob', 'wont', 'look'), ('wont', 'look', 'like'), ('look', 'like', 'though'), '6', 'lesson', 'learn', 'from', 'rais', '2', 'million', 'entrepreneur', ('6', 'lesson'), ('lesson', 'learn'), ('learn', 'from'), ('from', 'rais'), ('rais', '2'), ('2', 'million'), ('million', 'entrepreneur'), ('6', 'lesson', 'learn'), ('lesson', 'learn', 'from'), ('learn', 'from', 'rais'), ('from', 'rais', '2'), ('rais', '2', 'million'), ('2', 'million', 'entrepreneur'), 'littl', 'rhose', 'word', 'end', 'you', 'think', 'wrong', ('rhose', 'word'), ('word', 'end'), ('end', 'you'), ('you', 'think'), ('think', 'wrong'), ('rhose', 'word', 'end'), ('word', 'end', 'you'), ('end', 'you', 'think'), ('you', 'think', 'wrong'), 'get', 'you', 'out', 'hand', 'nuala', 'nowplay', 'sun', 'lancast', ('get', 'you'), ('you', 'out'), ('out', 'hand'), ('hand', 'nuala'), ('nuala', 'nowplay'), ('nowplay', 'sun'), ('sun', 'lancast'), ('get', 'you', 'out'), ('you', 'out', 'hand'), ('out', 'hand', 'nuala'), ('hand', 'nuala', 'nowplay'), ('nuala', 'nowplay', 'sun'), ('nowplay', 'sun', 'lancast'), 'look', 'video', 'fuck', 'long', 'yoooooo', 'greatest', 'thing', 'grace', 'internet', ('look', 'video'), ('video', 'fuck'), ('fuck', 'long'), ('long', 'yoooooo'), ('yoooooo', 'greatest'), ('greatest', 'thing'), ('thing', 'grace'), ('grace', 'internet'), ('look', 'video', 'fuck'), ('video', 'fuck', 'long'), ('fuck', 'long', 'yoooooo'), ('long', 'yoooooo', 'greatest'), ('yoooooo', 'greatest', 'thing'), ('greatest', 'thing', 'grace'), ('thing', 'grace', 'internet'), 'like', 'realiz', 'immigr', 'fact', 'bodi', '10', 'make', 'okay', 'justwond', ('like', 'realiz'), ('realiz', 'immigr'), ('immigr', 'fact'), ('fact', 'bodi'), ('bodi', '10'), ('10', 'make'), ('make', 'okay'), ('okay', 'justwond'), ('like', 'realiz', 'immigr'), ('realiz', 'immigr', 'fact'), ('immigr', 'fact', 'bodi'), ('fact', 'bodi', '10'), ('bodi', '10', 'make'), ('10', 'make', 'okay'), ('make', 'okay', 'justwond'), 'well', 'ye', 'mean', 'you', 'sta', 'off', 'say', 'third', 'leg', 'discov', 'truth', 'behind', 'littl', 'lie', 'hard', 'way', ('well', 'ye'), ('ye', 'mean'), ('mean', 'you'), ('you', 'sta'), ('sta', 'off'), ('off', 'say'), ('say', 'third'), ('third', 'leg'), ('leg', 'discov'), ('discov', 'truth'), ('truth', 'behind'), ('behind', 'littl'), ('littl', 'lie'), ('lie', 'hard'), ('hard', 'way'), ('well', 'ye', 'mean'), ('ye', 'mean', 'you'), ('mean', 'you', 'sta'), ('you', 'sta', 'off'), ('sta', 'off', 'say'), ('off', 'say', 'third'), ('say', 'third', 'leg'), ('third', 'leg', 'discov'), ('leg', 'discov', 'truth'), ('discov', 'truth', 'behind'), ('truth', 'behind', 'littl'), ('behind', 'littl', 'lie'), ('littl', 'lie', 'hard'), ('lie', 'hard', 'way'), 'you', 'expect', 'employ', 'photograph', ('you', 'expect'), ('expect', 'employ'), ('employ', 'photograph'), ('you', 'expect', 'employ'), ('expect', 'employ', 'photograph'), 'awkward', 'moment', 'you', 'arriv', 'town', 'five', 'hour', 'kill', 'kick', 'off', 'avfc', 'preston', ('awkward', 'moment'), ('moment', 'you'), ('you', 'arriv'), ('arriv', 'town'), ('town', 'five'), ('five', 'hour'), ('hour', 'kill'), ('kill', 'kick'), ('kick', 'off'), ('off', 'avfc'), ('avfc', 'preston'), ('awkward', 'moment', 'you'), ('moment', 'you', 'arriv'), ('you', 'arriv', 'town'), ('arriv', 'town', 'five'), ('town', 'five', 'hour'), ('five', 'hour', 'kill'), ('hour', 'kill', 'kick'), ('kill', 'kick', 'off'), ('kick', 'off', 'avfc'), ('off', 'avfc', 'preston'), 'nod', 'confirm', 'boy', 'true', 'realli', 'ask', 'eye', 'twinkl', 'said', 'would', 'accompani', ('nod', 'confirm'), ('confirm', 'boy'), ('boy', 'true'), ('true', 'realli'), ('realli', 'ask'), ('ask', 'eye'), ('eye', 'twinkl'), ('twinkl', 'said'), ('said', 'would'), ('would', 'accompani'), ('nod', 'confirm', 'boy'), ('confirm', 'boy', 'true'), ('boy', 'true', 'realli'), ('true', 'realli', 'ask'), ('realli', 'ask', 'eye'), ('ask', 'eye', 'twinkl'), ('eye', 'twinkl', 'said'), ('twinkl', 'said', 'would'), ('said', 'would', 'accompani'), 'take', 'immigr', 'poignantli', 'point', 'out', 'disgrac', 'moral', 'pygmi', 'paul', 'ryan', 'mitch', 'mcconnel', ('take', 'immigr'), ('immigr', 'poignantli'), ('poignantli', 'point'), ('point', 'out'), ('out', 'disgrac'), ('disgrac', 'moral'), ('moral', 'pygmi'), ('pygmi', 'paul'), ('paul', 'ryan'), ('ryan', 'mitch'), ('mitch', 'mcconnel'), ('take', 'immigr', 'poignantli'), ('immigr', 'poignantli', 'point'), ('poignantli', 'point', 'out'), ('point', 'out', 'disgrac'), ('out', 'disgrac', 'moral'), ('disgrac', 'moral', 'pygmi'), ('moral', 'pygmi', 'paul'), ('pygmi', 'paul', 'ryan'), ('paul', 'ryan', 'mitch'), ('ryan', 'mitch', 'mcconnel'), 'back', 'shithol', 'go', 'x', ('back', 'shithol'), ('shithol', 'go'), ('go', 'x'), ('back', 'shithol', 'go'), ('shithol', 'go', 'x'), 'thankyou', 'you', 'sock', 'give', 'extra', 'ankl', 'suppo', 'off', 'road', 'run', ('thankyou', 'you'), ('you', 'sock'), ('sock', 'give'), ('give', 'extra'), ('extra', 'ankl'), ('ankl', 'suppo'), ('suppo', 'off'), ('off', 'road'), ('road', 'run'), ('thankyou', 'you', 'sock'), ('you', 'sock', 'give'), ('sock', 'give', 'extra'), ('give', 'extra', 'ankl'), ('extra', 'ankl', 'suppo'), ('ankl', 'suppo', 'off'), ('suppo', 'off', 'road'), ('off', 'road', 'run'), 'white', 'hat', 'seo', 'vs', 'black', 'hat', 'seo', 'less', '100', 'word', ('white', 'hat'), ('hat', 'seo'), ('seo', 'vs'), ('vs', 'black'), ('black', 'hat'), ('hat', 'seo'), ('seo', 'less'), ('less', '100'), ('100', 'word'), ('white', 'hat', 'seo'), ('hat', 'seo', 'vs'), ('seo', 'vs', 'black'), ('vs', 'black', 'hat'), ('black', 'hat', 'seo'), ('hat', 'seo', 'less'), ('seo', 'less', '100'), ('less', '100', 'word'), 'coupon', 'go', 'fuck', 'woeful', ('coupon', 'go'), ('go', 'fuck'), ('fuck', 'woeful'), ('coupon', 'go', 'fuck'), ('go', 'fuck', 'woeful'), 'pic', 'preview', 'park', 'bo', 'gum', 'kim', 'yoo', 'jung', 'jinyoung', 'b1a4', 'di', 'drama', 'kb', 'moonlight', 'drawn', 'cloud', 'kwi', ('pic', 'preview'), ('preview', 'park'), ('park', 'bo'), ('bo', 'gum'), ('gum', 'kim'), ('kim', 'yoo'), ('yoo', 'jung'), ('jung', 'jinyoung'), ('jinyoung', 'b1a4'), ('b1a4', 'di'), ('di', 'drama'), ('drama', 'kb'), ('kb', 'moonlight'), ('moonlight', 'drawn'), ('drawn', 'cloud'), ('cloud', 'kwi'), ('pic', 'preview', 'park'), ('preview', 'park', 'bo'), ('park', 'bo', 'gum'), ('bo', 'gum', 'kim'), ('gum', 'kim', 'yoo'), ('kim', 'yoo', 'jung'), ('yoo', 'jung', 'jinyoung'), ('jung', 'jinyoung', 'b1a4'), ('jinyoung', 'b1a4', 'di'), ('b1a4', 'di', 'drama'), ('di', 'drama', 'kb'), ('drama', 'kb', 'moonlight'), ('kb', 'moonlight', 'drawn'), ('moonlight', 'drawn', 'cloud'), ('drawn', 'cloud', 'kwi'), 'off', 'bed', 'big', 'day', 'tomorrow', 'villa', 'home', 'dublin', 'away', 'pnefc', 'mayo4sam', ('off', 'bed'), ('bed', 'big'), ('big', 'day'), ('day', 'tomorrow'), ('tomorrow', 'villa'), ('villa', 'home'), ('home', 'dublin'), ('dublin', 'away'), ('away', 'pnefc'), ('pnefc', 'mayo4sam'), ('off', 'bed', 'big'), ('bed', 'big', 'day'), ('big', 'day', 'tomorrow'), ('day', 'tomorrow', 'villa'), ('tomorrow', 'villa', 'home'), ('villa', 'home', 'dublin'), ('home', 'dublin', 'away'), ('dublin', 'away', 'pnefc'), ('away', 'pnefc', 'mayo4sam'), 'hate', 'leav', 'guy', 'home', ('hate', 'leav'), ('leav', 'guy'), ('guy', 'home'), ('hate', 'leav', 'guy'), ('leav', 'guy', 'home'), 'get', 'distanc', 'two', 'address', 'devseo', 'blog', ('get', 'distanc'), ('distanc', 'two'), ('two', 'address'), ('address', 'devseo'), ('devseo', 'blog'), ('get', 'distanc', 'two'), ('distanc', 'two', 'address'), ('two', 'address', 'devseo'), ('address', 'devseo', 'blog'), 'write', 'margat', 'aug', '56', 'sponsor', ('write', 'margat'), ('margat', 'aug'), ('aug', '56'), ('56', 'sponsor'), ('write', 'margat', 'aug'), ('margat', 'aug', '56'), ('aug', '56', 'sponsor'), 'funni', 'hold', 'shi', 'chest', 'seen', 'strip', 'second', 'ago', 'looool', ('funni', 'hold'), ('hold', 'shi'), ('shi', 'chest'), ('chest', 'seen'), ('seen', 'strip'), ('strip', 'second'), ('second', 'ago'), ('ago', 'looool'), ('funni', 'hold', 'shi'), ('hold', 'shi', 'chest'), ('shi', 'chest', 'seen'), ('chest', 'seen', 'strip'), ('seen', 'strip', 'second'), ('strip', 'second', 'ago'), ('second', 'ago', 'looool'), 'morn', 'alarm', 'went', 'off', '0230', 'didnt', 'know', 'fuck', 'go', 'x', ('morn', 'alarm'), ('alarm', 'went'), ('went', 'off'), ('off', '0230'), ('0230', 'didnt'), ('didnt', 'know'), ('know', 'fuck'), ('fuck', 'go'), ('go', 'x'), ('morn', 'alarm', 'went'), ('alarm', 'went', 'off'), ('went', 'off', '0230'), ('off', '0230', 'didnt'), ('0230', 'didnt', 'know'), ('didnt', 'know', 'fuck'), ('know', 'fuck', 'go'), ('fuck', 'go', 'x'), 'offer', 'oppoun', 'pay', 'you', '50', 'get', 'back', 'featur', 'lost', ('offer', 'oppoun'), ('oppoun', 'pay'), ('pay', 'you'), ('you', '50'), ('50', 'get'), ('get', 'back'), ('back', 'featur'), ('featur', 'lost'), ('offer', 'oppoun', 'pay'), ('oppoun', 'pay', 'you'), ('pay', 'you', '50'), ('you', '50', 'get'), ('50', 'get', 'back'), ('get', 'back', 'featur'), ('back', 'featur', 'lost'), 'well', 'done', 'go', 'love', 'you', 'soooooooooooooooooooooooooooooooooooooooooooooooooooooooooooooooooooooo', 'much', ('well', 'done'), ('done', 'go'), ('go', 'love'), ('love', 'you'), ('you', 'soooooooooooooooooooooooooooooooooooooooooooooooooooooooooooooooooooooo'), ('soooooooooooooooooooooooooooooooooooooooooooooooooooooooooooooooooooooo', 'much'), ('well', 'done', 'go'), ('done', 'go', 'love'), ('go', 'love', 'you'), ('love', 'you', 'soooooooooooooooooooooooooooooooooooooooooooooooooooooooooooooooooooooo'), ('you', 'soooooooooooooooooooooooooooooooooooooooooooooooooooooooooooooooooooooo', 'much'), 'today', 'tame', 'bearwasnt', 'hard', 'you', 'polish', 'ego', 'bit', 'girl', 'like', 'think', 'ok', ('today', 'tame'), ('tame', 'bearwasnt'), ('bearwasnt', 'hard'), ('hard', 'you'), ('you', 'polish'), ('polish', 'ego'), ('ego', 'bit'), ('bit', 'girl'), ('girl', 'like'), ('like', 'think'), ('think', 'ok'), ('today', 'tame', 'bearwasnt'), ('tame', 'bearwasnt', 'hard'), ('bearwasnt', 'hard', 'you'), ('hard', 'you', 'polish'), ('you', 'polish', 'ego'), ('polish', 'ego', 'bit'), ('ego', 'bit', 'girl'), ('bit', 'girl', 'like'), ('girl', 'like', 'think'), ('like', 'think', 'ok'), 'point', 'moron', 'trump', 'say', 'hell', 'put', 'american', 'work', 'yet', 'get', 'visa', 'immigr', 'work', 'golf', 'cours', 'fl', ('point', 'moron'), ('moron', 'trump'), ('trump', 'say'), ('say', 'hell'), ('hell', 'put'), ('put', 'american'), ('american', 'work'), ('work', 'yet'), ('yet', 'get'), ('get', 'visa'), ('visa', 'immigr'), ('immigr', 'work'), ('work', 'golf'), ('golf', 'cours'), ('cours', 'fl'), ('point', 'moron', 'trump'), ('moron', 'trump', 'say'), ('trump', 'say', 'hell'), ('say', 'hell', 'put'), ('hell', 'put', 'american'), ('put', 'american', 'work'), ('american', 'work', 'yet'), ('work', 'yet', 'get'), ('yet', 'get', 'visa'), ('get', 'visa', 'immigr'), ('visa', 'immigr', 'work'), ('immigr', 'work', 'golf'), ('work', 'golf', 'cours'), ('golf', 'cours', 'fl'), 'bigger', 'ever', 'shoe', 'sale', '75', 'off', 'mani', 'shoe', 'gorgeou', ('bigger', 'ever'), ('ever', 'shoe'), ('shoe', 'sale'), ('sale', '75'), ('75', 'off'), ('off', 'mani'), ('mani', 'shoe'), ('shoe', 'gorgeou'), ('bigger', 'ever', 'shoe'), ('ever', 'shoe', 'sale'), ('shoe', 'sale', '75'), ('sale', '75', 'off'), ('75', 'off', 'mani'), ('off', 'mani', 'shoe'), ('mani', 'shoe', 'gorgeou'), 'unlucki', 'peopl', 'total', 'forgot', 'reflect', 'exist', 'photo', ('unlucki', 'peopl'), ('peopl', 'total'), ('total', 'forgot'), ('forgot', 'reflect'), ('reflect', 'exist'), ('exist', 'photo'), ('unlucki', 'peopl', 'total'), ('peopl', 'total', 'forgot'), ('total', 'forgot', 'reflect'), ('forgot', 'reflect', 'exist'), ('reflect', 'exist', 'photo'), 'go', 'home', 'oreo', 'drunk', ('go', 'home'), ('home', 'oreo'), ('oreo', 'drunk'), ('go', 'home', 'oreo'), ('home', 'oreo', 'drunk'), 'aim', 'messag', 'wafc', 'fan', 'happi', 'anoth', 'footbal', 'club', 'may', 'go', 'ie', 'bolton', ('aim', 'messag'), ('messag', 'wafc'), ('wafc', 'fan'), ('fan', 'happi'), ('happi', 'anoth'), ('anoth', 'footbal'), ('footbal', 'club'), ('club', 'may'), ('may', 'go'), ('go', 'ie'), ('ie', 'bolton'), ('aim', 'messag', 'wafc'), ('messag', 'wafc', 'fan'), ('wafc', 'fan', 'happi'), ('fan', 'happi', 'anoth'), ('happi', 'anoth', 'footbal'), ('anoth', 'footbal', 'club'), ('footbal', 'club', 'may'), ('club', 'may', 'go'), ('may', 'go', 'ie'), ('go', 'ie', 'bolton'), 'remind', 'prospect', 'arent', 'woh', 'nearli', 'much', 'you', 'think', ('remind', 'prospect'), ('prospect', 'arent'), ('arent', 'woh'), ('woh', 'nearli'), ('nearli', 'much'), ('much', 'you'), ('you', 'think'), ('remind', 'prospect', 'arent'), ('prospect', 'arent', 'woh'), ('arent', 'woh', 'nearli'), ('woh', 'nearli', 'much'), ('nearli', 'much', 'you'), ('much', 'you', 'think'), 'rohith', 'vemula', 'awaken', 'let', 'sacrific', 'go', 'vain', 'dalitsnotcow', 'muslimsnotcow', 'dalitmusl', ('rohith', 'vemula'), ('vemula', 'awaken'), ('awaken', 'let'), ('let', 'sacrific'), ('sacrific', 'go'), ('go', 'vain'), ('vain', 'dalitsnotcow'), ('dalitsnotcow', 'muslimsnotcow'), ('muslimsnotcow', 'dalitmusl'), ('rohith', 'vemula', 'awaken'), ('vemula', 'awaken', 'let'), ('awaken', 'let', 'sacrific'), ('let', 'sacrific', 'go'), ('sacrific', 'go', 'vain'), ('go', 'vain', 'dalitsnotcow'), ('vain', 'dalitsnotcow', 'muslimsnotcow'), ('dalitsnotcow', 'muslimsnotcow', 'dalitmusl'), 'cba', 'polish', 'custom', 'work', 'like', ('cba', 'polish'), ('polish', 'custom'), ('custom', 'work'), ('work', 'like'), ('cba', 'polish', 'custom'), ('polish', 'custom', 'work'), ('custom', 'work', 'like'), 'peopl', 'get', 'enough', 'level1', 'level', 'one', 'darwen', ('peopl', 'get'), ('get', 'enough'), ('enough', 'level1'), ('level1', 'level'), ('level', 'one'), ('one', 'darwen'), ('peopl', 'get', 'enough'), ('get', 'enough', 'level1'), ('enough', 'level1', 'level'), ('level1', 'level', 'one'), ('level', 'one', 'darwen'), 'realli', 'gerald', 'life', ('realli', 'gerald'), ('gerald', 'life'), ('realli', 'gerald', 'life'), 'kondobyjaymoni', '20', 'brazil', 'beauti', 'place', 'anticip', ('kondobyjaymoni', '20'), ('20', 'brazil'), ('brazil', 'beauti'), ('beauti', 'place'), ('place', 'anticip'), ('kondobyjaymoni', '20', 'brazil'), ('20', 'brazil', 'beauti'), ('brazil', 'beauti', 'place'), ('beauti', 'place', 'anticip'), 'breaktim', 'peopl', 'uncivil', ('peopl', 'uncivil'), 'peerfest15', 'learn', 'fantast', 'peer', 'suppo', 'project', 'around', 'countri', 'passion', 'build', ('peerfest15', 'learn'), ('learn', 'fantast'), ('fantast', 'peer'), ('peer', 'suppo'), ('suppo', 'project'), ('project', 'around'), ('around', 'countri'), ('countri', 'passion'), ('passion', 'build'), ('peerfest15', 'learn', 'fantast'), ('learn', 'fantast', 'peer'), ('fantast', 'peer', 'suppo'), ('peer', 'suppo', 'project'), ('suppo', 'project', 'around'), ('project', 'around', 'countri'), ('around', 'countri', 'passion'), ('countri', 'passion', 'build'), 'you', 'love', 'someon', 'tell', 'them', 'thing', 'right', 'time', 'right', 'place', 'long', ('you', 'love'), ('love', 'someon'), ('someon', 'tell'), ('tell', 'them'), ('them', 'thing'), ('thing', 'right'), ('right', 'time'), ('time', 'right'), ('right', 'place'), ('place', 'long'), ('you', 'love', 'someon'), ('love', 'someon', 'tell'), ('someon', 'tell', 'them'), ('tell', 'them', 'thing'), ('them', 'thing', 'right'), ('thing', 'right', 'time'), ('right', 'time', 'right'), ('time', 'right', 'place'), ('right', 'place', 'long'), 'live', 'webcam', ('live', 'webcam'), 'lyft', 'coupon', 'free', '50', 'ride', 'credit', 'lyft', 'exp', '222', 'coupon', ('lyft', 'coupon'), ('coupon', 'free'), ('free', '50'), ('50', 'ride'), ('ride', 'credit'), ('credit', 'lyft'), ('lyft', 'exp'), ('exp', '222'), ('222', 'coupon'), ('lyft', 'coupon', 'free'), ('coupon', 'free', '50'), ('free', '50', 'ride'), ('50', 'ride', 'credit'), ('ride', 'credit', 'lyft'), ('credit', 'lyft', 'exp'), ('lyft', 'exp', '222'), ('exp', '222', 'coupon'), 'thank', 'you', 'post', 'fine', 'exampl', 'braveri', 'inspir', ('thank', 'you'), ('you', 'post'), ('post', 'fine'), ('fine', 'exampl'), ('exampl', 'braveri'), ('braveri', 'inspir'), ('thank', 'you', 'post'), ('you', 'post', 'fine'), ('post', 'fine', 'exampl'), ('fine', 'exampl', 'braveri'), ('exampl', 'braveri', 'inspir'), 'ive', 'switch', 'off', 'still', 'work', ('ive', 'switch'), ('switch', 'off'), ('off', 'still'), ('still', 'work'), ('ive', 'switch', 'off'), ('switch', 'off', 'still'), ('off', 'still', 'work'), 'peopl', 'allow', 'post', 'facebook', '15', 'reason', ('peopl', 'allow'), ('allow', 'post'), ('post', 'facebook'), ('facebook', '15'), ('15', 'reason'), ('peopl', 'allow', 'post'), ('allow', 'post', 'facebook'), ('post', 'facebook', '15'), ('facebook', '15', 'reason'), 'weedl', 'pidgey', 'scum', 'eah', ('weedl', 'pidgey'), ('pidgey', 'scum'), ('scum', 'eah'), ('weedl', 'pidgey', 'scum'), ('pidgey', 'scum', 'eah'), 'accid', 'repo', 'i90', 'eb', 'w', '25th', 'st', 'shoulder', 'block', 'here', 'pictur', 'area', ('accid', 'repo'), ('repo', 'i90'), ('i90', 'eb'), ('eb', 'w'), ('w', '25th'), ('25th', 'st'), ('st', 'shoulder'), ('shoulder', 'block'), ('block', 'here'), ('here', 'pictur'), ('pictur', 'area'), ('accid', 'repo', 'i90'), ('repo', 'i90', 'eb'), ('i90', 'eb', 'w'), ('eb', 'w', '25th'), ('w', '25th', 'st'), ('25th', 'st', 'shoulder'), ('st', 'shoulder', 'block'), ('shoulder', 'block', 'here'), ('block', 'here', 'pictur'), ('here', 'pictur', 'area'), 'wordno', 'maniq', 'gel', 'polish', 'natur', 'nail', 'champagn', '10', 'off', 'nail', 'servic', 'januari', ('maniq', 'gel'), ('gel', 'polish'), ('polish', 'natur'), ('natur', 'nail'), ('nail', 'champagn'), ('champagn', '10'), ('10', 'off'), ('off', 'nail'), ('nail', 'servic'), ('servic', 'januari'), ('maniq', 'gel', 'polish'), ('gel', 'polish', 'natur'), ('polish', 'natur', 'nail'), ('natur', 'nail', 'champagn'), ('nail', 'champagn', '10'), ('champagn', '10', 'off'), ('10', 'off', 'nail'), ('off', 'nail', 'servic'), ('nail', 'servic', 'januari'), 'thing', 'get', 'better', 'howard', 'jone', 'nowplay', 'sun', 'lancast', 'download', ('thing', 'get'), ('get', 'better'), ('better', 'howard'), ('howard', 'jone'), ('jone', 'nowplay'), ('nowplay', 'sun'), ('sun', 'lancast'), ('lancast', 'download'), ('thing', 'get', 'better'), ('get', 'better', 'howard'), ('better', 'howard', 'jone'), ('howard', 'jone', 'nowplay'), ('jone', 'nowplay', 'sun'), ('nowplay', 'sun', 'lancast'), ('sun', 'lancast', 'download'), 'googl', 'adsens', 'mobil', 'text', 'ad', 'get', 'new', 'look', ('googl', 'adsens'), ('adsens', 'mobil'), ('mobil', 'text'), ('text', 'ad'), ('ad', 'get'), ('get', 'new'), ('new', 'look'), ('googl', 'adsens', 'mobil'), ('adsens', 'mobil', 'text'), ('mobil', 'text', 'ad'), ('text', 'ad', 'get'), ('ad', 'get', 'new'), ('get', 'new', 'look'), 'fresh', 'out', 'pack', 'bed', 'fuck', 'yeah', ('fresh', 'out'), ('out', 'pack'), ('pack', 'bed'), ('bed', 'fuck'), ('fuck', 'yeah'), ('fresh', 'out', 'pack'), ('out', 'pack', 'bed'), ('pack', 'bed', 'fuck'), ('bed', 'fuck', 'yeah'), 'men', 'hate', 'women', 'worldwid', 'south', 'korea', 'contend', 'gamerg', 'tshi', 'npr', ('men', 'hate'), ('hate', 'women'), ('women', 'worldwid'), ('worldwid', 'south'), ('south', 'korea'), ('korea', 'contend'), ('contend', 'gamerg'), ('gamerg', 'tshi'), ('tshi', 'npr'), ('men', 'hate', 'women'), ('hate', 'women', 'worldwid'), ('women', 'worldwid', 'south'), ('worldwid', 'south', 'korea'), ('south', 'korea', 'contend'), ('korea', 'contend', 'gamerg'), ('contend', 'gamerg', 'tshi'), ('gamerg', 'tshi', 'npr'), 'love', '70', 'polyest', 'suit', 'profil', 'you', 'go', 'far', 'noh', 'pier', 'exampl', ('love', '70'), ('70', 'polyest'), ('polyest', 'suit'), ('suit', 'profil'), ('profil', 'you'), ('you', 'go'), ('go', 'far'), ('far', 'noh'), ('noh', 'pier'), ('pier', 'exampl'), ('love', '70', 'polyest'), ('70', 'polyest', 'suit'), ('polyest', 'suit', 'profil'), ('suit', 'profil', 'you'), ('profil', 'you', 'go'), ('you', 'go', 'far'), ('go', 'far', 'noh'), ('far', 'noh', 'pier'), ('noh', 'pier', 'exampl'), 'specialist', 'intim', 'wax', 'guidenot', 'sure', 'much', 'take', 'off', 'mayb', 'much', 'leav', ('specialist', 'intim'), ('intim', 'wax'), ('wax', 'guidenot'), ('guidenot', 'sure'), ('sure', 'much'), ('much', 'take'), ('take', 'off'), ('off', 'mayb'), ('mayb', 'much'), ('much', 'leav'), ('specialist', 'intim', 'wax'), ('intim', 'wax', 'guidenot'), ('wax', 'guidenot', 'sure'), ('guidenot', 'sure', 'much'), ('sure', 'much', 'take'), ('much', 'take', 'off'), ('take', 'off', 'mayb'), ('off', 'mayb', 'much'), ('mayb', 'much', 'leav'), 'mani', 'lad', 'you', 'fight', 'off', 'suitabl', 'impress', 'number', 'may', 'convinc', 'lend', 'suppo', ('mani', 'lad'), ('lad', 'you'), ('you', 'fight'), ('fight', 'off'), ('off', 'suitabl'), ('suitabl', 'impress'), ('impress', 'number'), ('number', 'may'), ('may', 'convinc'), ('convinc', 'lend'), ('lend', 'suppo'), ('mani', 'lad', 'you'), ('lad', 'you', 'fight'), ('you', 'fight', 'off'), ('fight', 'off', 'suitabl'), ('off', 'suitabl', 'impress'), ('suitabl', 'impress', 'number'), ('impress', 'number', 'may'), ('number', 'may', 'convinc'), ('may', 'convinc', 'lend'), ('convinc', 'lend', 'suppo'), 'job', 'might', 'great', 'fit', 'you', 'senior', 'engin', 'engin', 'westgreenwich', 'ri', 'hire', 'careerarc', ('job', 'might'), ('might', 'great'), ('great', 'fit'), ('fit', 'you'), ('you', 'senior'), ('senior', 'engin'), ('engin', 'engin'), ('engin', 'westgreenwich'), ('westgreenwich', 'ri'), ('ri', 'hire'), ('hire', 'careerarc'), ('job', 'might', 'great'), ('might', 'great', 'fit'), ('great', 'fit', 'you'), ('fit', 'you', 'senior'), ('you', 'senior', 'engin'), ('senior', 'engin', 'engin'), ('engin', 'engin', 'westgreenwich'), ('engin', 'westgreenwich', 'ri'), ('westgreenwich', 'ri', 'hire'), ('ri', 'hire', 'careerarc'), 'good', 'news', 'tell', 'god', 'make', 'right', 'sight', 'accomplish', 'from', 'sta', 'finish', 'roman', '117', ('good', 'news'), ('news', 'tell'), ('tell', 'god'), ('god', 'make'), ('make', 'right'), ('right', 'sight'), ('sight', 'accomplish'), ('accomplish', 'from'), ('from', 'sta'), ('sta', 'finish'), ('finish', 'roman'), ('roman', '117'), ('good', 'news', 'tell'), ('news', 'tell', 'god'), ('tell', 'god', 'make'), ('god', 'make', 'right'), ('make', 'right', 'sight'), ('right', 'sight', 'accomplish'), ('sight', 'accomplish', 'from'), ('accomplish', 'from', 'sta'), ('from', 'sta', 'finish'), ('sta', 'finish', 'roman'), ('finish', 'roman', '117'), 'would', 'hate', 'see', 'countri', 'run', 'tori', 'brake', 'off', 'due', 'leav', 'eu', 'would', 'dictatorship', ('would', 'hate'), ('hate', 'see'), ('see', 'countri'), ('countri', 'run'), ('run', 'tori'), ('tori', 'brake'), ('brake', 'off'), ('off', 'due'), ('due', 'leav'), ('leav', 'eu'), ('eu', 'would'), ('would', 'dictatorship'), ('would', 'hate', 'see'), ('hate', 'see', 'countri'), ('see', 'countri', 'run'), ('countri', 'run', 'tori'), ('run', 'tori', 'brake'), ('tori', 'brake', 'off'), ('brake', 'off', 'due'), ('off', 'due', 'leav'), ('due', 'leav', 'eu'), ('leav', 'eu', 'would'), ('eu', 'would', 'dictatorship'), 'feel', 'mani', 'today', 'set', 'off', ('feel', 'mani'), ('mani', 'today'), ('today', 'set'), ('set', 'off'), ('feel', 'mani', 'today'), ('mani', 'today', 'set'), ('today', 'set', 'off'), 'go', 'holiday', '15', 'day', 'like', 'even', 'readi', ('go', 'holiday'), ('holiday', '15'), ('15', 'day'), ('day', 'like'), ('like', 'even'), ('even', 'readi'), ('go', 'holiday', '15'), ('holiday', '15', 'day'), ('15', 'day', 'like'), ('day', 'like', 'even'), ('like', 'even', 'readi'), 'callin', 'daddi', 'daddi', 'need', 'daddi', 'wont', 'you', 'daddi', 'daddi', 'come', 'make', 'rain', ('callin', 'daddi'), ('daddi', 'daddi'), ('daddi', 'need'), ('need', 'daddi'), ('daddi', 'wont'), ('wont', 'you'), ('you', 'daddi'), ('daddi', 'daddi'), ('daddi', 'come'), ('come', 'make'), ('make', 'rain'), ('callin', 'daddi', 'daddi'), ('daddi', 'daddi', 'need'), ('daddi', 'need', 'daddi'), ('need', 'daddi', 'wont'), ('daddi', 'wont', 'you'), ('wont', 'you', 'daddi'), ('you', 'daddi', 'daddi'), ('daddi', 'daddi', 'come'), ('daddi', 'come', 'make'), ('come', 'make', 'rain'), 'you', 'fan', 'even', 'like', 'respect', 'famili', 'prayforhay', ('you', 'fan'), ('fan', 'even'), ('even', 'like'), ('like', 'respect'), ('respect', 'famili'), ('famili', 'prayforhay'), ('you', 'fan', 'even'), ('fan', 'even', 'like'), ('even', 'like', 'respect'), ('like', 'respect', 'famili'), ('respect', 'famili', 'prayforhay'), 'cake', 'sale', 'kick', 'off', 'mani', 'delici', 'treat', ('cake', 'sale'), ('sale', 'kick'), ('kick', 'off'), ('off', 'mani'), ('mani', 'delici'), ('delici', 'treat'), ('cake', 'sale', 'kick'), ('sale', 'kick', 'off'), ('kick', 'off', 'mani'), ('off', 'mani', 'delici'), ('mani', 'delici', 'treat'), 'lol', 'fear', 'polic', 'die', ('lol', 'fear'), ('fear', 'polic'), ('polic', 'die'), ('lol', 'fear', 'polic'), ('fear', 'polic', 'die'), 'tess2016', 'you', 'need', 'prove', 'consist', 'time', ('tess2016', 'you'), ('you', 'need'), ('need', 'prove'), ('prove', 'consist'), ('consist', 'time'), ('tess2016', 'you', 'need'), ('you', 'need', 'prove'), ('need', 'prove', 'consist'), ('prove', 'consist', 'time'), 'one', 'ok', 'rock', ('one', 'ok'), ('ok', 'rock'), ('one', 'ok', 'rock'), 'pope', 'franci', 'visit', 'former', 'german', 'nazi', 'concentr', 'camp', 'auschwitzbirkenau', ('pope', 'franci'), ('franci', 'visit'), ('visit', 'former'), ('former', 'german'), ('german', 'nazi'), ('nazi', 'concentr'), ('concentr', 'camp'), ('camp', 'auschwitzbirkenau'), ('pope', 'franci', 'visit'), ('franci', 'visit', 'former'), ('visit', 'former', 'german'), ('former', 'german', 'nazi'), ('german', 'nazi', 'concentr'), ('nazi', 'concentr', 'camp'), ('concentr', 'camp', 'auschwitzbirkenau'), 'today', 'realiti', ('today', 'realiti'), 'follow', 'topstori', 'spain', 'economi', 'expand', '07', 'despit', 'polit', 'deadlock', 'forb', ('follow', 'topstori'), ('topstori', 'spain'), ('spain', 'economi'), ('economi', 'expand'), ('expand', '07'), ('07', 'despit'), ('despit', 'polit'), ('polit', 'deadlock'), ('deadlock', 'forb'), ('follow', 'topstori', 'spain'), ('topstori', 'spain', 'economi'), ('spain', 'economi', 'expand'), ('economi', 'expand', '07'), ('expand', '07', 'despit'), ('07', 'despit', 'polit'), ('despit', 'polit', 'deadlock'), ('polit', 'deadlock', 'forb'), 'cool', 'off', 'amaz', 'product', 'from', 'leav', 'condition', 'yet', ('cool', 'off'), ('off', 'amaz'), ('amaz', 'product'), ('product', 'from'), ('from', 'leav'), ('leav', 'condition'), ('condition', 'yet'), ('cool', 'off', 'amaz'), ('off', 'amaz', 'product'), ('amaz', 'product', 'from'), ('product', 'from', 'leav'), ('from', 'leav', 'condition'), ('leav', 'condition', 'yet'), 'oh', 'god', 'board', 'thank', 'got', 'given', 'bonu', 'day', 'off', 'way', 'leav', 'book', 'work', 'out', 'well', ('oh', 'god'), ('god', 'board'), ('board', 'thank'), ('thank', 'got'), ('got', 'given'), ('given', 'bonu'), ('bonu', 'day'), ('day', 'off'), ('off', 'way'), ('way', 'leav'), ('leav', 'book'), ('book', 'work'), ('work', 'out'), ('out', 'well'), ('oh', 'god', 'board'), ('god', 'board', 'thank'), ('board', 'thank', 'got'), ('thank', 'got', 'given'), ('got', 'given', 'bonu'), ('given', 'bonu', 'day'), ('bonu', 'day', 'off'), ('day', 'off', 'way'), ('off', 'way', 'leav'), ('way', 'leav', 'book'), ('leav', 'book', 'work'), ('book', 'work', 'out'), ('work', 'out', 'well'), 'right', 'bear', 'arm', 'kill', 'mani', 'peopl', 'you', 'usconstitut', ('right', 'bear'), ('bear', 'arm'), ('arm', 'kill'), ('kill', 'mani'), ('mani', 'peopl'), ('peopl', 'you'), ('you', 'usconstitut'), ('right', 'bear', 'arm'), ('bear', 'arm', 'kill'), ('arm', 'kill', 'mani'), ('kill', 'mani', 'peopl'), ('mani', 'peopl', 'you'), ('peopl', 'you', 'usconstitut'), 'saw', 'crow', 'gallop', 'across', 'road', 'mmkay', 'wut', '128514', ('saw', 'crow'), ('crow', 'gallop'), ('gallop', 'across'), ('across', 'road'), ('road', 'mmkay'), ('mmkay', 'wut'), ('wut', '128514'), ('saw', 'crow', 'gallop'), ('crow', 'gallop', 'across'), ('gallop', 'across', 'road'), ('across', 'road', 'mmkay'), ('road', 'mmkay', 'wut'), ('mmkay', 'wut', '128514'), 'spend', 'live', 'live', 'gangsta', 'paradis', ('spend', 'live'), ('live', 'live'), ('live', 'gangsta'), ('gangsta', 'paradis'), ('spend', 'live', 'live'), ('live', 'live', 'gangsta'), ('live', 'gangsta', 'paradis'), 'iphon', 'need', 'featur', 'incom', 'call', 'take', 'whole', 'screen', 'thing', 'ignor', 'phon', ('iphon', 'need'), ('need', 'featur'), ('featur', 'incom'), ('incom', 'call'), ('call', 'take'), ('take', 'whole'), ('whole', 'screen'), ('screen', 'thing'), ('thing', 'ignor'), ('ignor', 'phon'), ('iphon', 'need', 'featur'), ('need', 'featur', 'incom'), ('featur', 'incom', 'call'), ('incom', 'call', 'take'), ('call', 'take', 'whole'), ('take', 'whole', 'screen'), ('whole', 'screen', 'thing'), ('screen', 'thing', 'ignor'), ('thing', 'ignor', 'phon'), 'probabl', 'gon', 'na', 'recolorshad', 'head', 'crep', ('probabl', 'gon'), ('gon', 'na'), ('na', 'recolorshad'), ('recolorshad', 'head'), ('head', 'crep'), ('probabl', 'gon', 'na'), ('gon', 'na', 'recolorshad'), ('na', 'recolorshad', 'head'), ('recolorshad', 'head', 'crep'), 'fact', 'work', 'out', 'chanyeol', 'achiev', 'give', 'chill', ('fact', 'work'), ('work', 'out'), ('out', 'chanyeol'), ('chanyeol', 'achiev'), ('achiev', 'give'), ('give', 'chill'), ('fact', 'work', 'out'), ('work', 'out', 'chanyeol'), ('out', 'chanyeol', 'achiev'), ('chanyeol', 'achiev', 'give'), ('achiev', 'give', 'chill'), 'get', 'chelsea', 'ye', ('get', 'chelsea'), ('chelsea', 'ye'), ('get', 'chelsea', 'ye')]\n"
     ]
    }
   ],
   "source": [
    "print(vocab)"
   ]
  },
  {
   "cell_type": "markdown",
   "metadata": {},
   "source": [
    "Note: some of the tokens are duplicates. This is  because either (1) they are repeated within a tweet or (2) they are present in multiple tweets. \n",
    "\n",
    "Don't worry though, we'll get unique features out of it soon, before training the classifier! \n",
    "\n",
    "But first, let's look at how frequent each of the features of the vocabulary is in our dataset."
   ]
  },
  {
   "cell_type": "markdown",
   "metadata": {},
   "source": [
    "### Most frequent features"
   ]
  },
  {
   "cell_type": "markdown",
   "metadata": {},
   "source": [
    "Recall that features are tokens (unigrams) or combination of tokens (ngrams).\n",
    "\n",
    "Let's have a look at how frequent each feature is in the dataset. (_If you can't see the graph, try running the code chunk again_)."
   ]
  },
  {
   "cell_type": "code",
   "execution_count": 25,
   "metadata": {},
   "outputs": [
    {
     "data": {
      "text/plain": [
       "<Figure size 640x480 with 1 Axes>"
      ]
     },
     "metadata": {},
     "output_type": "display_data"
    },
    {
     "data": {
      "text/plain": [
       "<matplotlib.axes._subplots.AxesSubplot at 0x1a1cdbc510>"
      ]
     },
     "execution_count": 25,
     "metadata": {},
     "output_type": "execute_result"
    }
   ],
   "source": [
    "fd = nltk.FreqDist(vocab)\n",
    "fd.plot(20, cumulative=True)\n",
    "#fd.xlabel('Most common features')"
   ]
  },
  {
   "cell_type": "code",
   "execution_count": 26,
   "metadata": {},
   "outputs": [
    {
     "name": "stdout",
     "output_type": "stream",
     "text": [
      "[('fuck', 58), ('you', 54), ('off', 32), ('go', 20), ('hate', 17), ('paki', 15), (('fuck', 'off'), 15), ('bastard', 14), ('get', 14), ('bitch', 12), ('nigger', 12), ('immigr', 12), ('like', 11), ('polish', 10), ('cunt', 10), ('leav', 10), ('countri', 10), ('out', 9), ('back', 9), ('home', 9), ('faggot', 8), ('peopl', 8), ('terrorist', 8), ('muslim', 7), ('much', 7), ('mani', 7), ('work', 7), ('black', 6), (('off', 'you'), 6), (('fuck', 'off', 'you'), 6), ('road', 6), ('time', 5), ('job', 5), ('make', 5), ('even', 5), ('daddi', 5), (('you', 'fuck'), 4), ('brexit', 4), (('fuck', 'paki'), 4), ('shut', 4), ('them', 4), ('one', 4), ('take', 4), ('scum', 4), ('today', 4), ('white', 4), ('need', 4), ('day', 4), ('look', 4), ('love', 4)]\n"
     ]
    }
   ],
   "source": [
    "print(fd.most_common(50))"
   ]
  },
  {
   "cell_type": "markdown",
   "metadata": {},
   "source": [
    "Is that what you expected?"
   ]
  },
  {
   "cell_type": "markdown",
   "metadata": {},
   "source": [
    "### Feature selection"
   ]
  },
  {
   "cell_type": "markdown",
   "metadata": {},
   "source": [
    "We're now going to select a sample of this vocabulary of features. We only want to keep the features that truely matter in identifying hate speech.\n",
    "\n",
    "This step is important to reduce the  running time of our model as well as improve its accuracy."
   ]
  },
  {
   "cell_type": "markdown",
   "metadata": {},
   "source": [
    "#### Keeping the 50 most frequent words"
   ]
  },
  {
   "cell_type": "markdown",
   "metadata": {},
   "source": [
    "Some rare features are only present in one or two tweet. We know that these are not going to be very useful to teach the model to recognise hate speech.  \n",
    "\n",
    "Let's only keep the top 50 most frequent features in the dataset."
   ]
  },
  {
   "cell_type": "code",
   "execution_count": 27,
   "metadata": {},
   "outputs": [
    {
     "name": "stdout",
     "output_type": "stream",
     "text": [
      "Number of chosen features: 50/3261\n"
     ]
    }
   ],
   "source": [
    "def get_word_features(wordlist, n):\n",
    "    fd = nltk.FreqDist(wordlist)\n",
    "    \n",
    "    word_features = sorted(fd.items(), key=operator.itemgetter(1), reverse=True)[0:n] \n",
    "    word_features = [i[0] for i in word_features ]\n",
    "    return word_features\n",
    "\n",
    "# Only keep the top 50 most frequent words\n",
    "chosen_features = get_word_features(vocab, 50)\n",
    "print('Number of chosen features: {}/{}'.format(len(chosen_features), len(vocab)))"
   ]
  },
  {
   "cell_type": "code",
   "execution_count": 28,
   "metadata": {},
   "outputs": [
    {
     "name": "stdout",
     "output_type": "stream",
     "text": [
      "['fuck', 'you', 'off', 'go', 'hate', 'paki', ('fuck', 'off'), 'bastard', 'get', 'bitch', 'nigger', 'immigr', 'like', 'polish', 'cunt', 'leav', 'countri', 'out', 'back', 'home', 'faggot', 'peopl', 'terrorist', 'muslim', 'much', 'mani', 'work', 'black', ('off', 'you'), ('fuck', 'off', 'you'), 'road', 'time', 'job', 'make', 'even', 'daddi', ('you', 'fuck'), 'brexit', ('fuck', 'paki'), 'shut', 'them', 'one', 'take', 'scum', 'today', 'white', 'need', 'day', 'look', 'love']\n"
     ]
    }
   ],
   "source": [
    "print(chosen_features[0:50])"
   ]
  },
  {
   "cell_type": "markdown",
   "metadata": {},
   "source": [
    "### Create input data for classifier"
   ]
  },
  {
   "cell_type": "markdown",
   "metadata": {},
   "source": [
    "So far, we have chosen a sample of features that we think are important for the model to learn to identify hateful speech.\n",
    "\n",
    "However, at this stage the classfier won't be able to know which features are responsible for a tweet being labelled as 'hateful'. Is it because of the word 'road' or the word 'bastard' in that tweet?\n",
    "\n",
    "To be able to learn what counts as hateful and what doesn't, the classifier needs to know the 'hateful value' of each feature in the vocabulary.\n",
    "\n",
    "In short, we need to tell the model:\n",
    "- which features are typically present in hateful tweets and which are not,\n",
    "- which features are typically present in non-hateful tweets and which are not.\n",
    "\n",
    "This precious information is available in our dataset because it has been manually labelled. So far we have not used the 'class' column in our dataset. We are now going to make use of it!\n",
    "\n",
    "The idea is to tell the model: \n",
    "- for each hateful tweet: these are the features present, and the ones not present. \n",
    "- for each non-hateful tweet: these are the features present, and the ones not present."
   ]
  },
  {
   "cell_type": "markdown",
   "metadata": {},
   "source": [
    "Let's extract the features present in each tweet:"
   ]
  },
  {
   "cell_type": "code",
   "execution_count": 29,
   "metadata": {},
   "outputs": [],
   "source": [
    "def extract_features(document):\n",
    "    document_words = set(document)\n",
    "    feature_set = {}\n",
    "    for feature in chosen_features:\n",
    "        feature_set['contains({})'.format(feature)] = (feature in document_words)\n",
    "    return feature_set\n",
    "\n",
    "tweets = [tuple(x) for x in pre_processed_data.values]\n",
    "\n",
    "feature_set = nltk.classify.apply_features(extract_features, tweets)"
   ]
  },
  {
   "cell_type": "code",
   "execution_count": 30,
   "metadata": {},
   "outputs": [
    {
     "name": "stdout",
     "output_type": "stream",
     "text": [
      "Number of tweets in training_set: 201\n"
     ]
    }
   ],
   "source": [
    "print('Number of tweets in training_set: {}'.format(len(feature_set)))"
   ]
  },
  {
   "cell_type": "markdown",
   "metadata": {},
   "source": [
    "Lets' look at the first tweet. Notice at the end, we see that this is a hateful tweet (label = 1)."
   ]
  },
  {
   "cell_type": "code",
   "execution_count": 31,
   "metadata": {},
   "outputs": [
    {
     "name": "stdout",
     "output_type": "stream",
     "text": [
      "({'contains(fuck)': False, 'contains(you)': False, 'contains(off)': False, 'contains(go)': False, 'contains(hate)': False, 'contains(paki)': False, \"contains(('fuck', 'off'))\": False, 'contains(bastard)': False, 'contains(get)': False, 'contains(bitch)': True, 'contains(nigger)': False, 'contains(immigr)': False, 'contains(like)': False, 'contains(polish)': False, 'contains(cunt)': False, 'contains(leav)': False, 'contains(countri)': False, 'contains(out)': False, 'contains(back)': False, 'contains(home)': False, 'contains(faggot)': False, 'contains(peopl)': False, 'contains(terrorist)': False, 'contains(muslim)': False, 'contains(much)': False, 'contains(mani)': False, 'contains(work)': False, 'contains(black)': False, \"contains(('off', 'you'))\": False, \"contains(('fuck', 'off', 'you'))\": False, 'contains(road)': False, 'contains(time)': False, 'contains(job)': False, 'contains(make)': False, 'contains(even)': False, 'contains(daddi)': False, \"contains(('you', 'fuck'))\": False, 'contains(brexit)': False, \"contains(('fuck', 'paki'))\": False, 'contains(shut)': False, 'contains(them)': False, 'contains(one)': False, 'contains(take)': False, 'contains(scum)': False, 'contains(today)': False, 'contains(white)': False, 'contains(need)': False, 'contains(day)': False, 'contains(look)': False, 'contains(love)': False}, 1)\n"
     ]
    }
   ],
   "source": [
    "print(feature_set[0])"
   ]
  },
  {
   "cell_type": "markdown",
   "metadata": {},
   "source": [
    "The method is pretty simple. For each tweet, we are looping through our 50 chosen_features and setting a boolean to True if the tweet contains that feature, False otherwise. "
   ]
  },
  {
   "cell_type": "markdown",
   "metadata": {},
   "source": [
    "This format is what the classifier needs as input. It is a series of 0s and 1s (numerical) as opposed to text data that they cannot understand.\n",
    "\n",
    "We can now train the classifier with this training_set!"
   ]
  },
  {
   "cell_type": "markdown",
   "metadata": {},
   "source": [
    "_________________________________________"
   ]
  },
  {
   "cell_type": "markdown",
   "metadata": {},
   "source": [
    "## Part 3. Train the classifier"
   ]
  },
  {
   "cell_type": "markdown",
   "metadata": {},
   "source": [
    "### Split data into train vs test datasets"
   ]
  },
  {
   "cell_type": "markdown",
   "metadata": {},
   "source": [
    "We want to train the classifer and then test its classifying ability on a brand new dataset that it has never seen before. \n",
    "\n",
    "Generally, a 80/20 ratio is a fair split between training and testing set:\n",
    "- training dataset (80% of the data)\n",
    "- testing dataset (20% of the data)\n",
    "\n",
    "Sklearn provides a function called train_test_split to do this easily. Let's split our feature_set into train_data and test_data:"
   ]
  },
  {
   "cell_type": "code",
   "execution_count": 32,
   "metadata": {},
   "outputs": [
    {
     "name": "stdout",
     "output_type": "stream",
     "text": [
      "Number of tweets in train data: 160\n",
      "Number of tweets in test data: 41\n"
     ]
    }
   ],
   "source": [
    "from sklearn.model_selection import train_test_split\n",
    "train_data, test_data = train_test_split(feature_set, test_size=0.20, train_size=0.80)\n",
    "print('Number of tweets in train data: {}'.format(len(train_data)))\n",
    "print('Number of tweets in test data: {}'.format(len(test_data)))"
   ]
  },
  {
   "cell_type": "markdown",
   "metadata": {},
   "source": [
    "### Train the model"
   ]
  },
  {
   "cell_type": "markdown",
   "metadata": {},
   "source": [
    "There are many different types of model to use for classifying text data. The most common one is called Naive Bayesion Classifier and that is the one we are going to use here."
   ]
  },
  {
   "cell_type": "code",
   "execution_count": 33,
   "metadata": {},
   "outputs": [
    {
     "name": "stdout",
     "output_type": "stream",
     "text": [
      "Most Informative Features\n",
      "          contains(fuck) = True                1 : 0      =      6.7 : 1.0\n",
      "          contains(hate) = True                1 : 0      =      4.3 : 1.0\n",
      "          contains(leav) = True                0 : 1      =      3.9 : 1.0\n",
      "        contains(immigr) = True                1 : 0      =      3.2 : 1.0\n",
      "           contains(get) = True                0 : 1      =      2.9 : 1.0\n",
      "        contains(polish) = True                1 : 0      =      2.8 : 1.0\n",
      "         contains(black) = True                1 : 0      =      2.8 : 1.0\n",
      "          contains(much) = True                0 : 1      =      2.5 : 1.0\n",
      "         contains(today) = True                0 : 1      =      2.5 : 1.0\n",
      "          contains(look) = True                0 : 1      =      2.5 : 1.0\n"
     ]
    }
   ],
   "source": [
    "# Naive Bayesian\n",
    "classifier1 = nltk.NaiveBayesClassifier.train(train_data)\n",
    "# SHOW FEATURES\n",
    "classifier1.show_most_informative_features(10)\n",
    "\n",
    "# Save the model into a pickle file\n",
    "f = open('classifier.pickle', 'wb')\n",
    "pickle.dump(classifier1, f)\n",
    "f.close()"
   ]
  },
  {
   "cell_type": "markdown",
   "metadata": {},
   "source": [
    "That's it! The model has been trained on the train_data.\n",
    "\n",
    "We can see which features the model considers important to decide between hateful speech and non-hateful speech.\n",
    "\n",
    "- Column 3 shows the ratio of occurence of each informative feature in both categories (hate vs nonhate).\n",
    "- Column 2 shows the direction of the ratio (which label occurs more frequently). Hate is 1, non-hate is 0. The label on the left is the label most associated with the corresponding feature.\n",
    "\n",
    "For example, tweets containing the word 'immigrants' are <span style=\"color:red\">5.7 times</span> more likely to be hateful than not."
   ]
  },
  {
   "cell_type": "markdown",
   "metadata": {},
   "source": [
    "Now let's test the accuracy of our model on the test_data that we set aside earlier. These are tweets that the model has never seen before. We'll ask the model to classify them and see how its outcome compares with the true label of the tweet."
   ]
  },
  {
   "cell_type": "markdown",
   "metadata": {},
   "source": [
    "### Test the classifier"
   ]
  },
  {
   "cell_type": "code",
   "execution_count": 34,
   "metadata": {},
   "outputs": [
    {
     "data": {
      "text/plain": [
       "0.8536585365853658"
      ]
     },
     "execution_count": 34,
     "metadata": {},
     "output_type": "execute_result"
    }
   ],
   "source": [
    "accuracy =  nltk.classify.util.accuracy(classifier1, test_data)\n",
    "accuracy"
   ]
  },
  {
   "cell_type": "markdown",
   "metadata": {},
   "source": [
    "## Part 5. Use the classifier to identify hateful speech"
   ]
  },
  {
   "cell_type": "markdown",
   "metadata": {},
   "source": [
    "Now try our classifier on a new tweet of your choice. First we need to preprocess the tweet (clean, tokenize, stem and remove stopwords). Then we need to extract its features to look like the right input for the classifier."
   ]
  },
  {
   "cell_type": "code",
   "execution_count": 35,
   "metadata": {},
   "outputs": [],
   "source": [
    "testTweet = 'Hello world!'"
   ]
  },
  {
   "cell_type": "code",
   "execution_count": 36,
   "metadata": {},
   "outputs": [
    {
     "name": "stdout",
     "output_type": "stream",
     "text": [
      "Preprocessed tweet: ['hello', 'world']\n"
     ]
    }
   ],
   "source": [
    "# Prepare the tweet\n",
    "def preprocessTweet(tweet):\n",
    "    \n",
    "    # clean the tweet\n",
    "    tweet = cleanTweet(testTweet)\n",
    "    \n",
    "    # tokenize the cleaned tweet\n",
    "    tokenised_tweet = nltk.word_tokenize(tweet)\n",
    "    \n",
    "    # remove stop words\n",
    "    tokenised_tweet_stpwd = [item for item in tokenised_tweet if item not in stopWords]\n",
    "    \n",
    "    # stem\n",
    "    pre_processed_tweet = [ps.stem(word) for word in tokenised_tweet_stpwd]\n",
    "    \n",
    "    print('Preprocessed tweet: {}'.format(pre_processed_tweet))\n",
    "    \n",
    "    return pre_processed_tweet\n",
    "\n",
    "preprocessed_tweet = preprocessTweet(testTweet)"
   ]
  },
  {
   "cell_type": "code",
   "execution_count": 37,
   "metadata": {},
   "outputs": [
    {
     "name": "stdout",
     "output_type": "stream",
     "text": [
      "{'contains(fuck)': False, 'contains(you)': False, 'contains(off)': False, 'contains(go)': False, 'contains(hate)': False, 'contains(paki)': False, \"contains(('fuck', 'off'))\": False, 'contains(bastard)': False, 'contains(get)': False, 'contains(bitch)': False, 'contains(nigger)': False, 'contains(immigr)': False, 'contains(like)': False, 'contains(polish)': False, 'contains(cunt)': False, 'contains(leav)': False, 'contains(countri)': False, 'contains(out)': False, 'contains(back)': False, 'contains(home)': False, 'contains(faggot)': False, 'contains(peopl)': False, 'contains(terrorist)': False, 'contains(muslim)': False, 'contains(much)': False, 'contains(mani)': False, 'contains(work)': False, 'contains(black)': False, \"contains(('off', 'you'))\": False, \"contains(('fuck', 'off', 'you'))\": False, 'contains(road)': False, 'contains(time)': False, 'contains(job)': False, 'contains(make)': False, 'contains(even)': False, 'contains(daddi)': False, \"contains(('you', 'fuck'))\": False, 'contains(brexit)': False, \"contains(('fuck', 'paki'))\": False, 'contains(shut)': False, 'contains(them)': False, 'contains(one)': False, 'contains(take)': False, 'contains(scum)': False, 'contains(today)': False, 'contains(white)': False, 'contains(need)': False, 'contains(day)': False, 'contains(look)': False, 'contains(love)': False}\n"
     ]
    }
   ],
   "source": [
    "# extract features\n",
    "tweet_feature_set = extract_features(preprocessed_tweet) \n",
    "print(tweet_feature_set)"
   ]
  },
  {
   "cell_type": "code",
   "execution_count": 38,
   "metadata": {},
   "outputs": [
    {
     "name": "stdout",
     "output_type": "stream",
     "text": [
      "Not hateful\n"
     ]
    }
   ],
   "source": [
    "# Classify\n",
    "verdict = classifier1.classify(tweet_feature_set)\n",
    "\n",
    "if verdict == 0:\n",
    "    print('Not hateful')\n",
    "else:\n",
    "    print('Hateful')\n",
    "\n"
   ]
  },
  {
   "cell_type": "markdown",
   "metadata": {},
   "source": [
    "### Activity: try it!\n",
    "\n",
    "Make some of your own tweets and see whether or not they are hateful.\n",
    "\n",
    "Edit this code chunk:"
   ]
  },
  {
   "cell_type": "code",
   "execution_count": 39,
   "metadata": {},
   "outputs": [],
   "source": [
    "testTweet = \"This is a test of hatefullness\""
   ]
  },
  {
   "cell_type": "markdown",
   "metadata": {},
   "source": [
    "And then run this one:"
   ]
  },
  {
   "cell_type": "code",
   "execution_count": 41,
   "metadata": {},
   "outputs": [
    {
     "name": "stdout",
     "output_type": "stream",
     "text": [
      "Preprocessed tweet: ['test', 'hateful']\n",
      "Not hateful\n"
     ]
    }
   ],
   "source": [
    "preprocessed_tweet = preprocessTweet(testTweet)\n",
    "tweet_feature_set = extract_features(preprocessed_tweet) \n",
    "verdict = classifier1.classify(tweet_feature_set)\n",
    "\n",
    "if verdict == 0:\n",
    "    print('Not hateful')\n",
    "else:\n",
    "    print('Hateful with verdict '+str(verdict))"
   ]
  },
  {
   "cell_type": "code",
   "execution_count": null,
   "metadata": {},
   "outputs": [],
   "source": []
  }
 ],
 "metadata": {
  "kernelspec": {
   "display_name": "Python 3",
   "language": "python",
   "name": "python3"
  },
  "language_info": {
   "codemirror_mode": {
    "name": "ipython",
    "version": 3
   },
   "file_extension": ".py",
   "mimetype": "text/x-python",
   "name": "python",
   "nbconvert_exporter": "python",
   "pygments_lexer": "ipython3",
   "version": "3.7.4"
  }
 },
 "nbformat": 4,
 "nbformat_minor": 4
}
