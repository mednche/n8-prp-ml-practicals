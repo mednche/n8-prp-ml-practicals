{
 "cells": [
  {
   "cell_type": "markdown",
   "metadata": {},
   "source": [
    "# Hate speech classifier"
   ]
  },
  {
   "cell_type": "markdown",
   "metadata": {},
   "source": [
    "### Training a classifier to recognise hate speech on Twitter"
   ]
  },
  {
   "cell_type": "markdown",
   "metadata": {},
   "source": [
    "In this notebook, we are going to train a 'classifier' (a supervised machine learning algorithm) to recognise hate speech in a tweet. This is a technique of **Natural Language Processing (NLP)** similar to Sentiment Analysis.\n",
    "\n",
    "This requires two phases:\n",
    "- 1. **Train the classifier** (show the algorithm examples of both hateful and non-hateful tweets)\n",
    "- 2. **Test the accuracy of the classifier**\n",
    "\n"
   ]
  },
  {
   "cell_type": "markdown",
   "metadata": {},
   "source": [
    "First let's import the libraries we are going to need"
   ]
  },
  {
   "cell_type": "code",
   "execution_count": 1,
   "metadata": {},
   "outputs": [
    {
     "name": "stdout",
     "output_type": "stream",
     "text": [
      "The nltk version is 3.4.5.\n"
     ]
    },
    {
     "name": "stderr",
     "output_type": "stream",
     "text": [
      "[nltk_data] Downloading package stopwords to /Users/nick/nltk_data...\n",
      "[nltk_data]   Package stopwords is already up-to-date!\n"
     ]
    }
   ],
   "source": [
    "import os\n",
    "import pandas as pd\n",
    "import re\n",
    "import string\n",
    "import numpy as np\n",
    "import matplotlib\n",
    "import operator \n",
    "import pickle\n",
    "\n",
    "import nltk # nltk 3.4\n",
    "print('The nltk version is {}.'.format(nltk.__version__))\n",
    "nltk.download('stopwords')\n",
    "nltk.download('punkt')\n",
    "from nltk.corpus import stopwords\n",
    "from nltk.stem import PorterStemmer \n",
    "from nltk import ngrams\n",
    "\n",
    "from sklearn.utils import shuffle"
   ]
  },
  {
   "cell_type": "markdown",
   "metadata": {},
   "source": [
    "Tell python where it can find the data files (they're in a `data` sub-directory of the current folder)"
   ]
  },
  {
   "cell_type": "code",
   "execution_count": 8,
   "metadata": {},
   "outputs": [
    {
     "data": {
      "text/plain": [
       "'/Users/nick/gp/n8-prp-ml-practicals/Hate-speech-classifier/data'"
      ]
     },
     "execution_count": 8,
     "metadata": {},
     "output_type": "execute_result"
    }
   ],
   "source": [
    "#os.chdir(\"C:/Users/mednche/Desktop/Hate-speech-twitter-NLP/\")\n",
    "os.chdir(os.getcwd()+\"/data/\")\n",
    "os.getcwd()"
   ]
  },
  {
   "cell_type": "markdown",
   "metadata": {},
   "source": [
    "## Import pre-labeled Twitter dataset"
   ]
  },
  {
   "cell_type": "markdown",
   "metadata": {},
   "source": [
    "Let's import the dataset used to train and test the classifier"
   ]
  },
  {
   "cell_type": "code",
   "execution_count": 9,
   "metadata": {},
   "outputs": [
    {
     "data": {
      "text/plain": [
       "(310, 2)"
      ]
     },
     "execution_count": 9,
     "metadata": {},
     "output_type": "execute_result"
    }
   ],
   "source": [
    "data = pd.read_csv('TrainingTweets.csv', encoding='ISO-8859-1')\n",
    "data.shape"
   ]
  },
  {
   "cell_type": "markdown",
   "metadata": {},
   "source": [
    "'data' a Pandas dataframe. Let's see what it looks like. "
   ]
  },
  {
   "cell_type": "code",
   "execution_count": 15,
   "metadata": {},
   "outputs": [
    {
     "data": {
      "text/html": [
       "<div>\n",
       "<style scoped>\n",
       "    .dataframe tbody tr th:only-of-type {\n",
       "        vertical-align: middle;\n",
       "    }\n",
       "\n",
       "    .dataframe tbody tr th {\n",
       "        vertical-align: top;\n",
       "    }\n",
       "\n",
       "    .dataframe thead th {\n",
       "        text-align: right;\n",
       "    }\n",
       "</style>\n",
       "<table border=\"1\" class=\"dataframe\">\n",
       "  <thead>\n",
       "    <tr style=\"text-align: right;\">\n",
       "      <th></th>\n",
       "      <th>tweet</th>\n",
       "      <th>class</th>\n",
       "    </tr>\n",
       "  </thead>\n",
       "  <tbody>\n",
       "    <tr>\n",
       "      <th>305</th>\n",
       "      <td>well yes i mean you started off saying third l...</td>\n",
       "      <td>0</td>\n",
       "    </tr>\n",
       "    <tr>\n",
       "      <th>306</th>\n",
       "      <td>so my neighbours complained about my shed in t...</td>\n",
       "      <td>1</td>\n",
       "    </tr>\n",
       "    <tr>\n",
       "      <th>307</th>\n",
       "      <td>fucking fascist fucking liberal fucking racist...</td>\n",
       "      <td>1</td>\n",
       "    </tr>\n",
       "    <tr>\n",
       "      <th>308</th>\n",
       "      <td>fucking annoying when meat dairy and eggs are ...</td>\n",
       "      <td>0</td>\n",
       "    </tr>\n",
       "    <tr>\n",
       "      <th>309</th>\n",
       "      <td>i hate people i was wrong when i said 97.5 of ...</td>\n",
       "      <td>1</td>\n",
       "    </tr>\n",
       "  </tbody>\n",
       "</table>\n",
       "</div>"
      ],
      "text/plain": [
       "                                                 tweet  class\n",
       "305  well yes i mean you started off saying third l...      0\n",
       "306  so my neighbours complained about my shed in t...      1\n",
       "307  fucking fascist fucking liberal fucking racist...      1\n",
       "308  fucking annoying when meat dairy and eggs are ...      0\n",
       "309  i hate people i was wrong when i said 97.5 of ...      1"
      ]
     },
     "execution_count": 15,
     "metadata": {},
     "output_type": "execute_result"
    }
   ],
   "source": [
    "# Display the last 5 rows of the dataframe\n",
    "data.tail()"
   ]
  },
  {
   "cell_type": "markdown",
   "metadata": {},
   "source": [
    "Note: you can see that each tweet has already been manually labeled in the column 'class'.\n",
    "- 1 means hateful\n",
    "- 0 means non-hateful\n",
    "\n",
    "This label is essential for what we are going to do (supervised machine learning)."
   ]
  },
  {
   "cell_type": "markdown",
   "metadata": {},
   "source": [
    "##   Ensure balance in dataset"
   ]
  },
  {
   "cell_type": "markdown",
   "metadata": {},
   "source": [
    "Let's see how many hateful vs non-hateful tweets there are in the dataset"
   ]
  },
  {
   "cell_type": "code",
   "execution_count": 16,
   "metadata": {},
   "outputs": [
    {
     "name": "stdout",
     "output_type": "stream",
     "text": [
      "101 hateful tweets\n",
      "209 non-hateful tweets\n"
     ]
    }
   ],
   "source": [
    "hate_tweets = data[data[\"class\"] == 1]\n",
    "print(\"{} hateful tweets\".format(len(hate_tweets)))\n",
    "\n",
    "nonhate_tweets = data[data[\"class\"] == 0]\n",
    "print(\"{} non-hateful tweets\".format(len(nonhate_tweets)))"
   ]
  },
  {
   "cell_type": "code",
   "execution_count": 17,
   "metadata": {},
   "outputs": [
    {
     "data": {
      "text/html": [
       "<div>\n",
       "<style scoped>\n",
       "    .dataframe tbody tr th:only-of-type {\n",
       "        vertical-align: middle;\n",
       "    }\n",
       "\n",
       "    .dataframe tbody tr th {\n",
       "        vertical-align: top;\n",
       "    }\n",
       "\n",
       "    .dataframe thead th {\n",
       "        text-align: right;\n",
       "    }\n",
       "</style>\n",
       "<table border=\"1\" class=\"dataframe\">\n",
       "  <thead>\n",
       "    <tr style=\"text-align: right;\">\n",
       "      <th></th>\n",
       "      <th>tweet</th>\n",
       "      <th>class</th>\n",
       "    </tr>\n",
       "  </thead>\n",
       "  <tbody>\n",
       "    <tr>\n",
       "      <th>0</th>\n",
       "      <td>Muslims go to fucking home bye bye #brexit'</td>\n",
       "      <td>1</td>\n",
       "    </tr>\n",
       "    <tr>\n",
       "      <th>1</th>\n",
       "      <td>'Muslim scum terrorists'</td>\n",
       "      <td>1</td>\n",
       "    </tr>\n",
       "    <tr>\n",
       "      <th>2</th>\n",
       "      <td>'Go home you immigrant'</td>\n",
       "      <td>1</td>\n",
       "    </tr>\n",
       "    <tr>\n",
       "      <th>3</th>\n",
       "      <td>'Polish vermin'</td>\n",
       "      <td>1</td>\n",
       "    </tr>\n",
       "    <tr>\n",
       "      <th>4</th>\n",
       "      <td>'Polish bastard'</td>\n",
       "      <td>1</td>\n",
       "    </tr>\n",
       "  </tbody>\n",
       "</table>\n",
       "</div>"
      ],
      "text/plain": [
       "                                         tweet  class\n",
       "0  Muslims go to fucking home bye bye #brexit'      1\n",
       "1                     'Muslim scum terrorists'      1\n",
       "2                      'Go home you immigrant'      1\n",
       "3                              'Polish vermin'      1\n",
       "4                             'Polish bastard'      1"
      ]
     },
     "execution_count": 17,
     "metadata": {},
     "output_type": "execute_result"
    }
   ],
   "source": [
    "hate_tweets.head()"
   ]
  },
  {
   "cell_type": "code",
   "execution_count": 18,
   "metadata": {},
   "outputs": [
    {
     "data": {
      "text/html": [
       "<div>\n",
       "<style scoped>\n",
       "    .dataframe tbody tr th:only-of-type {\n",
       "        vertical-align: middle;\n",
       "    }\n",
       "\n",
       "    .dataframe tbody tr th {\n",
       "        vertical-align: top;\n",
       "    }\n",
       "\n",
       "    .dataframe thead th {\n",
       "        text-align: right;\n",
       "    }\n",
       "</style>\n",
       "<table border=\"1\" class=\"dataframe\">\n",
       "  <thead>\n",
       "    <tr style=\"text-align: right;\">\n",
       "      <th></th>\n",
       "      <th>tweet</th>\n",
       "      <th>class</th>\n",
       "    </tr>\n",
       "  </thead>\n",
       "  <tbody>\n",
       "    <tr>\n",
       "      <th>59</th>\n",
       "      <td>'@16po @realDonaldTrump I don\\'t_ terrorism is...</td>\n",
       "      <td>0</td>\n",
       "    </tr>\n",
       "    <tr>\n",
       "      <th>60</th>\n",
       "      <td>'I am absolutely dreading tomorrow. I hate it ...</td>\n",
       "      <td>0</td>\n",
       "    </tr>\n",
       "    <tr>\n",
       "      <th>61</th>\n",
       "      <td>'RT @washingtonpost: The Rev. William Barber d...</td>\n",
       "      <td>0</td>\n",
       "    </tr>\n",
       "    <tr>\n",
       "      <th>62</th>\n",
       "      <td>'RT @RedP1llReport: David Icke_ Political Corr...</td>\n",
       "      <td>0</td>\n",
       "    </tr>\n",
       "    <tr>\n",
       "      <th>63</th>\n",
       "      <td>'My best RTs this week came from: @SkimmySkinn...</td>\n",
       "      <td>0</td>\n",
       "    </tr>\n",
       "  </tbody>\n",
       "</table>\n",
       "</div>"
      ],
      "text/plain": [
       "                                                tweet  class\n",
       "59  '@16po @realDonaldTrump I don\\'t_ terrorism is...      0\n",
       "60  'I am absolutely dreading tomorrow. I hate it ...      0\n",
       "61  'RT @washingtonpost: The Rev. William Barber d...      0\n",
       "62  'RT @RedP1llReport: David Icke_ Political Corr...      0\n",
       "63  'My best RTs this week came from: @SkimmySkinn...      0"
      ]
     },
     "execution_count": 18,
     "metadata": {},
     "output_type": "execute_result"
    }
   ],
   "source": [
    "nonhate_tweets.head()"
   ]
  },
  {
   "cell_type": "markdown",
   "metadata": {},
   "source": [
    "There seems to be twice as many non-hateful tweets. This might affect the way the algorithm learns. We need to make the dataset balanced."
   ]
  },
  {
   "cell_type": "markdown",
   "metadata": {},
   "source": [
    "####  Select as many hateful as non-hateful tweets for an equal dataset"
   ]
  },
  {
   "cell_type": "code",
   "execution_count": 19,
   "metadata": {},
   "outputs": [
    {
     "name": "stdout",
     "output_type": "stream",
     "text": [
      "Number of tweets in balanced dataset: 202\n"
     ]
    }
   ],
   "source": [
    "num = min(len(hate_tweets), len(nonhate_tweets))\n",
    "\n",
    "# shuffle the table of hateful and non hateful tweets\n",
    "hate_tweets = shuffle(hate_tweets)\n",
    "nonhate_tweets = shuffle(nonhate_tweets)\n",
    "\n",
    "data_balanced = hate_tweets[0:num].append(nonhate_tweets[0:num], ignore_index=True)\n",
    "\n",
    "print('Number of tweets in balanced dataset: {}'.format(len(data_balanced)))"
   ]
  },
  {
   "cell_type": "code",
   "execution_count": 20,
   "metadata": {},
   "outputs": [
    {
     "data": {
      "text/html": [
       "<div>\n",
       "<style scoped>\n",
       "    .dataframe tbody tr th:only-of-type {\n",
       "        vertical-align: middle;\n",
       "    }\n",
       "\n",
       "    .dataframe tbody tr th {\n",
       "        vertical-align: top;\n",
       "    }\n",
       "\n",
       "    .dataframe thead th {\n",
       "        text-align: right;\n",
       "    }\n",
       "</style>\n",
       "<table border=\"1\" class=\"dataframe\">\n",
       "  <thead>\n",
       "    <tr style=\"text-align: right;\">\n",
       "      <th></th>\n",
       "      <th>tweet</th>\n",
       "      <th>class</th>\n",
       "    </tr>\n",
       "  </thead>\n",
       "  <tbody>\n",
       "    <tr>\n",
       "      <th>0</th>\n",
       "      <td>fucking fascist fucking liberal fucking racist...</td>\n",
       "      <td>1</td>\n",
       "    </tr>\n",
       "    <tr>\n",
       "      <th>1</th>\n",
       "      <td>'All the coloured fuckers can leave the country'</td>\n",
       "      <td>1</td>\n",
       "    </tr>\n",
       "    <tr>\n",
       "      <th>2</th>\n",
       "      <td>fuck u jezanie u cunts cbb</td>\n",
       "      <td>1</td>\n",
       "    </tr>\n",
       "    <tr>\n",
       "      <th>3</th>\n",
       "      <td>'That fucking white bitch down the road needs ...</td>\n",
       "      <td>1</td>\n",
       "    </tr>\n",
       "    <tr>\n",
       "      <th>4</th>\n",
       "      <td>\"you're just a black nigger\"</td>\n",
       "      <td>1</td>\n",
       "    </tr>\n",
       "  </tbody>\n",
       "</table>\n",
       "</div>"
      ],
      "text/plain": [
       "                                               tweet  class\n",
       "0  fucking fascist fucking liberal fucking racist...      1\n",
       "1   'All the coloured fuckers can leave the country'      1\n",
       "2                         fuck u jezanie u cunts cbb      1\n",
       "3  'That fucking white bitch down the road needs ...      1\n",
       "4                       \"you're just a black nigger\"      1"
      ]
     },
     "execution_count": 20,
     "metadata": {},
     "output_type": "execute_result"
    }
   ],
   "source": [
    "data_balanced.head()"
   ]
  },
  {
   "cell_type": "markdown",
   "metadata": {},
   "source": [
    "## Part I. Preprocessing"
   ]
  },
  {
   "cell_type": "markdown",
   "metadata": {},
   "source": [
    "In this part we'll perform some preprocessing on the column 'tweet'. It will do things like turn the text all into lowercase, get rid of urls, remove usernames, etc. Have a look at the comments in the code below to see precisely what it's doing."
   ]
  },
  {
   "cell_type": "markdown",
   "metadata": {},
   "source": [
    "### Clean tweets"
   ]
  },
  {
   "cell_type": "code",
   "execution_count": 21,
   "metadata": {},
   "outputs": [],
   "source": [
    "def cleanTweet(tweet):\n",
    "    #Convert to lower case\n",
    "    tweet = tweet.lower()\n",
    "    #Convert www.* or https?://* to ''\n",
    "    tweet = re.sub('((www\\.[^\\s]+)|(https?://[^\\s]+))','',tweet)\n",
    "    #Remove the RT before the @user \n",
    "    tweet = re.sub('rt','',tweet) \n",
    "    #Replace #word with word\n",
    "    tweet = re.sub(r'#([^\\s]+)', r'\\1', tweet)\n",
    "    #Remove @username\n",
    "    tweet = re.sub('@[^\\s]+','',tweet) \n",
    "    #Remove additional white spaces\n",
    "    tweet = re.sub('[\\s]+', ' ', tweet)\n",
    "    #Remove non ASCII characters (emojies)\n",
    "    tweet= re.sub(r'[^\\x00-\\x7F]+','', tweet)\n",
    "    #Remove punctuation \n",
    "    tweet = \"\".join(l for l in tweet if l not in string.punctuation)\n",
    "    #Trim\n",
    "    tweet = tweet.strip('\\'\"')\n",
    "    #Remove beginning and end space\n",
    "    tweet = tweet.strip()\n",
    "\n",
    "    \n",
    "    return tweet\n",
    "\n",
    "#  apply cleaning function to each tweet of the pandas dataframe\n",
    "data_balanced['tweet'] = data_balanced['tweet'].apply(cleanTweet)"
   ]
  },
  {
   "cell_type": "code",
   "execution_count": 22,
   "metadata": {},
   "outputs": [
    {
     "data": {
      "text/html": [
       "<div>\n",
       "<style scoped>\n",
       "    .dataframe tbody tr th:only-of-type {\n",
       "        vertical-align: middle;\n",
       "    }\n",
       "\n",
       "    .dataframe tbody tr th {\n",
       "        vertical-align: top;\n",
       "    }\n",
       "\n",
       "    .dataframe thead th {\n",
       "        text-align: right;\n",
       "    }\n",
       "</style>\n",
       "<table border=\"1\" class=\"dataframe\">\n",
       "  <thead>\n",
       "    <tr style=\"text-align: right;\">\n",
       "      <th></th>\n",
       "      <th>tweet</th>\n",
       "      <th>class</th>\n",
       "    </tr>\n",
       "  </thead>\n",
       "  <tbody>\n",
       "    <tr>\n",
       "      <th>0</th>\n",
       "      <td>fucking fascist fucking liberal fucking racist...</td>\n",
       "      <td>1</td>\n",
       "    </tr>\n",
       "    <tr>\n",
       "      <th>1</th>\n",
       "      <td>all the coloured fuckers can leave the country</td>\n",
       "      <td>1</td>\n",
       "    </tr>\n",
       "    <tr>\n",
       "      <th>2</th>\n",
       "      <td>fuck u jezanie u cunts cbb</td>\n",
       "      <td>1</td>\n",
       "    </tr>\n",
       "    <tr>\n",
       "      <th>3</th>\n",
       "      <td>that fucking white bitch down the road needs t...</td>\n",
       "      <td>1</td>\n",
       "    </tr>\n",
       "    <tr>\n",
       "      <th>4</th>\n",
       "      <td>youre just a black nigger</td>\n",
       "      <td>1</td>\n",
       "    </tr>\n",
       "  </tbody>\n",
       "</table>\n",
       "</div>"
      ],
      "text/plain": [
       "                                               tweet  class\n",
       "0  fucking fascist fucking liberal fucking racist...      1\n",
       "1     all the coloured fuckers can leave the country      1\n",
       "2                         fuck u jezanie u cunts cbb      1\n",
       "3  that fucking white bitch down the road needs t...      1\n",
       "4                          youre just a black nigger      1"
      ]
     },
     "execution_count": 22,
     "metadata": {},
     "output_type": "execute_result"
    }
   ],
   "source": [
    "data_balanced.head()"
   ]
  },
  {
   "cell_type": "markdown",
   "metadata": {},
   "source": [
    "### Delete empty tweets"
   ]
  },
  {
   "cell_type": "code",
   "execution_count": 23,
   "metadata": {},
   "outputs": [],
   "source": [
    "# replace empty tweets ('') by NA\n",
    "data_balanced['tweet'].replace('', np.nan, inplace=True)\n",
    "# Delete all NA rows\n",
    "data_balanced.dropna(subset=['tweet'], inplace=True)"
   ]
  },
  {
   "cell_type": "markdown",
   "metadata": {},
   "source": [
    "Note: How many empty tweets were removed in the process? (Hint: use the shape attribute of the pandas dataframe)"
   ]
  },
  {
   "cell_type": "markdown",
   "metadata": {},
   "source": [
    "###  Tokenise"
   ]
  },
  {
   "cell_type": "markdown",
   "metadata": {},
   "source": [
    "At the moment, the text of each tweet is a string. We would like to separate each word in that string so the model can 'read' them separately. \n",
    "\n",
    "In NLP, this is called 'tokenising': each tweet (intially a string of text) is chopped into a list of tokens (i.e. a list of words)"
   ]
  },
  {
   "cell_type": "code",
   "execution_count": 26,
   "metadata": {},
   "outputs": [],
   "source": [
    "data_tokenised = data_balanced.copy()\n",
    "\n",
    "data_tokenised['tweet'] = data_tokenised['tweet'].apply(nltk.word_tokenize)"
   ]
  },
  {
   "cell_type": "code",
   "execution_count": 27,
   "metadata": {},
   "outputs": [
    {
     "data": {
      "text/html": [
       "<div>\n",
       "<style scoped>\n",
       "    .dataframe tbody tr th:only-of-type {\n",
       "        vertical-align: middle;\n",
       "    }\n",
       "\n",
       "    .dataframe tbody tr th {\n",
       "        vertical-align: top;\n",
       "    }\n",
       "\n",
       "    .dataframe thead th {\n",
       "        text-align: right;\n",
       "    }\n",
       "</style>\n",
       "<table border=\"1\" class=\"dataframe\">\n",
       "  <thead>\n",
       "    <tr style=\"text-align: right;\">\n",
       "      <th></th>\n",
       "      <th>tweet</th>\n",
       "      <th>class</th>\n",
       "    </tr>\n",
       "  </thead>\n",
       "  <tbody>\n",
       "    <tr>\n",
       "      <th>0</th>\n",
       "      <td>[fucking, fascist, fucking, liberal, fucking, ...</td>\n",
       "      <td>1</td>\n",
       "    </tr>\n",
       "    <tr>\n",
       "      <th>1</th>\n",
       "      <td>[all, the, coloured, fuckers, can, leave, the,...</td>\n",
       "      <td>1</td>\n",
       "    </tr>\n",
       "    <tr>\n",
       "      <th>2</th>\n",
       "      <td>[fuck, u, jezanie, u, cunts, cbb]</td>\n",
       "      <td>1</td>\n",
       "    </tr>\n",
       "    <tr>\n",
       "      <th>3</th>\n",
       "      <td>[that, fucking, white, bitch, down, the, road,...</td>\n",
       "      <td>1</td>\n",
       "    </tr>\n",
       "    <tr>\n",
       "      <th>4</th>\n",
       "      <td>[youre, just, a, black, nigger]</td>\n",
       "      <td>1</td>\n",
       "    </tr>\n",
       "  </tbody>\n",
       "</table>\n",
       "</div>"
      ],
      "text/plain": [
       "                                               tweet  class\n",
       "0  [fucking, fascist, fucking, liberal, fucking, ...      1\n",
       "1  [all, the, coloured, fuckers, can, leave, the,...      1\n",
       "2                  [fuck, u, jezanie, u, cunts, cbb]      1\n",
       "3  [that, fucking, white, bitch, down, the, road,...      1\n",
       "4                    [youre, just, a, black, nigger]      1"
      ]
     },
     "execution_count": 27,
     "metadata": {},
     "output_type": "execute_result"
    }
   ],
   "source": [
    "data_tokenised.head()"
   ]
  },
  {
   "cell_type": "markdown",
   "metadata": {},
   "source": [
    "Note: you can see that there are many words in the tweets that don't bring any meaning such as 'it', 'i', 'of' 'to' etc. These are called stopwords and need to be removed so that the classifier can focus on words that matter when telling the difference between hate and non-hate."
   ]
  },
  {
   "cell_type": "markdown",
   "metadata": {},
   "source": [
    "### Remove stopwords"
   ]
  },
  {
   "cell_type": "markdown",
   "metadata": {},
   "source": [
    "####  Import English stopwords"
   ]
  },
  {
   "cell_type": "code",
   "execution_count": 28,
   "metadata": {},
   "outputs": [
    {
     "name": "stdout",
     "output_type": "stream",
     "text": [
      "{'between', 'as', 'herself', 'down', 'where', 'above', 'been', 'do', 'then', \"haven't\", 'further', \"aren't\", 'wasn', 'here', 'just', 'same', 'not', 'needn', 'isn', 'nor', 'll', \"wouldn't\", 'he', 'itself', 'until', 'me', \"mightn't\", \"wasn't\", 'very', 'each', 'haven', 'so', 'don', 'into', 'can', \"that'll\", 'below', 'or', \"you're\", \"should've\", 'why', 's', 'than', 'is', 'she', 'while', 'themselves', 'of', 'at', \"you'd\", 'by', 'his', 'have', 'during', 'when', 'himself', 'it', 'how', 't', \"you'll\", 'under', 'few', 'we', 'whom', 'my', 'an', 'up', \"hadn't\", 'yours', 'over', 'theirs', 'him', \"shan't\", 'i', 'did', \"you've\", 'most', 'off', \"she's\", 'o', 'any', \"couldn't\", 'too', 'own', 'wouldn', 'were', 'was', 'ourselves', 'having', 'they', 'on', 'out', 'other', 'about', 'couldn', 'some', \"mustn't\", \"isn't\", 'that', 'hasn', 'your', 'before', 'has', 'which', 'doesn', 'with', 'be', 'but', 'am', \"shouldn't\", 'mightn', 'because', 'won', 'ma', 'once', \"won't\", 'those', \"hasn't\", 'if', 've', 're', 'doing', 'these', 'yourselves', 'its', \"it's\", 'are', 'will', 'after', 'yourself', \"didn't\", 'shouldn', 'their', 'mustn', 'for', 'both', 'ain', 'who', 'and', 'her', 'what', 'should', 'd', \"weren't\", 'there', 'y', 'does', 'against', 'a', 'the', 'm', \"needn't\", 'being', 'had', \"doesn't\", \"don't\", 'ours', 'hers', 'them', 'weren', 'myself', 'to', 'in', 'more', 'again', 'you', 'such', 'only', 'now', 'aren', 'shan', 'this', 'our', 'through', 'no', 'from', 'all', 'hadn', 'didn'}\n"
     ]
    }
   ],
   "source": [
    "stops = set(stopwords.words('english'))\n",
    "print(stops)"
   ]
  },
  {
   "cell_type": "markdown",
   "metadata": {},
   "source": [
    "Some of these generic English stopwords could actually be useful in our context of hatespeech. For example 'them', 'out', 'off' could all be part of sentences like 'f**k off'. We will take these out of the list of stopwords. Also, we'll add some words to the stopword list based on some common spelling errors we observed in the tweets ('youre', 'dont', 'us')."
   ]
  },
  {
   "cell_type": "code",
   "execution_count": 29,
   "metadata": {},
   "outputs": [
    {
     "name": "stdout",
     "output_type": "stream",
     "text": [
      "['a', 'about', 'above', 'after', 'again', 'against', 'ain', 'aint', 'all', 'am', 'amp', 'an', 'and', 'any', 'are', 'aren', \"aren't\", 'as', 'at', 'be', 'because', 'been', 'before', 'being', 'below', 'between', 'both', 'but', 'by', 'can', 'cant', 'couldn', \"couldn't\", 'd', 'did', 'didn', \"didn't\", 'do', 'does', 'doesn', \"doesn't\", 'doesnt', 'doing', 'don', \"don't\", 'dont', 'down', 'during', 'each', 'few', 'for', 'further', 'gonna', 'had', 'hadn', \"hadn't\", 'has', 'hasn', \"hasn't\", 'have', 'haven', \"haven't\", 'having', 'he', 'her', 'here', 'hers', 'herself', 'hes', 'him', 'himself', 'his', 'how', 'https', 'i', 'if', 'im', 'in', 'into', 'is', 'isn', \"isn't\", 'it', \"it's\", 'its', 'itself', 'just', 'll', 'm', 'ma', 'me', 'mightn', \"mightn't\", 'more', 'most', 'mustn', \"mustn't\", 'my', 'myself', 'needn', \"needn't\", 'no', 'nor', 'not', 'now', 'o', 'of', 'on', 'once', 'only', 'or', 'other', 'our', 'ours', 'ourselves', 'over', 'own', 'r', 're', 's', 'shan', \"shan't\", 'she', \"she's\", 'should', \"should've\", 'shouldn', \"shouldn't\", 'shouldnt', 'so', 'some', 'such', 't', 'than', 'that', \"that'll\", 'thats', 'the', 'their', 'theirs', 'then', 'there', 'theres', 'these', 'they', 'this', 'those', 'through', 'to', 'too', 'u', 'under', 'until', 'up', 'ur', 'us', 've', 'very', 'was', 'wasn', \"wasn't\", 'we', 'were', 'weren', \"weren't\", 'what', 'when', 'where', 'which', 'while', 'who', 'whom', 'why', 'will', 'with', 'won', \"won't\", 'wouldn', \"wouldn't\", 'wudnt', 'ww', 'y', 'ya', \"you'd\", \"you'll\", \"you're\", \"you're\", \"you've\", 'your', 'youre', 'yours', 'yourselves']\n"
     ]
    }
   ],
   "source": [
    "# Remove these from stopwords\n",
    "item_to_delete = ['you', 'out', 'off', 'them', 'themselves', 'yourself', 'from', 'same']\n",
    "stopWords = [e for e in stops if e not in item_to_delete]\n",
    "\n",
    "# Add these to stopwords\n",
    "item_to_add = [\"youre\", \"r\", \"you're\", \"us\", \"doesnt\", \"im\", \"hes\", \"u\", \"ya\", \"ww\", \n",
    "               \"dont\", \"https\", \"aint\", \"theres\", \"shouldnt\", \"thats\", \"amp\", \"wudnt\", \n",
    "               \"gonna\", \"ur\", \"cant\"]\n",
    "for e in item_to_add:\n",
    "    stopWords.append(e)\n",
    "\n",
    "print(sorted(stopWords))"
   ]
  },
  {
   "cell_type": "markdown",
   "metadata": {},
   "source": [
    "#### Remove stopwords from tweets"
   ]
  },
  {
   "cell_type": "markdown",
   "metadata": {},
   "source": [
    "Now it's time to remove these stopwords from the tweets of our dataset"
   ]
  },
  {
   "cell_type": "code",
   "execution_count": 30,
   "metadata": {},
   "outputs": [],
   "source": [
    "# make a copy of the processed data so far\n",
    "data_tokenised_stpwd = data_tokenised.copy()\n",
    "\n",
    "# Apply function that removes stopwords.\n",
    "data_tokenised_stpwd['tweet'] = data_tokenised_stpwd['tweet'].apply(\n",
    "    lambda x: [item for item in x if item not in stopWords])"
   ]
  },
  {
   "cell_type": "code",
   "execution_count": 31,
   "metadata": {},
   "outputs": [
    {
     "data": {
      "text/html": [
       "<div>\n",
       "<style scoped>\n",
       "    .dataframe tbody tr th:only-of-type {\n",
       "        vertical-align: middle;\n",
       "    }\n",
       "\n",
       "    .dataframe tbody tr th {\n",
       "        vertical-align: top;\n",
       "    }\n",
       "\n",
       "    .dataframe thead th {\n",
       "        text-align: right;\n",
       "    }\n",
       "</style>\n",
       "<table border=\"1\" class=\"dataframe\">\n",
       "  <thead>\n",
       "    <tr style=\"text-align: right;\">\n",
       "      <th></th>\n",
       "      <th>tweet</th>\n",
       "      <th>class</th>\n",
       "    </tr>\n",
       "  </thead>\n",
       "  <tbody>\n",
       "    <tr>\n",
       "      <th>0</th>\n",
       "      <td>[fucking, fascist, fucking, liberal, fucking, ...</td>\n",
       "      <td>1</td>\n",
       "    </tr>\n",
       "    <tr>\n",
       "      <th>1</th>\n",
       "      <td>[coloured, fuckers, leave, country]</td>\n",
       "      <td>1</td>\n",
       "    </tr>\n",
       "    <tr>\n",
       "      <th>2</th>\n",
       "      <td>[fuck, jezanie, cunts, cbb]</td>\n",
       "      <td>1</td>\n",
       "    </tr>\n",
       "    <tr>\n",
       "      <th>3</th>\n",
       "      <td>[fucking, white, bitch, road, needs, out]</td>\n",
       "      <td>1</td>\n",
       "    </tr>\n",
       "    <tr>\n",
       "      <th>4</th>\n",
       "      <td>[black, nigger]</td>\n",
       "      <td>1</td>\n",
       "    </tr>\n",
       "  </tbody>\n",
       "</table>\n",
       "</div>"
      ],
      "text/plain": [
       "                                               tweet  class\n",
       "0  [fucking, fascist, fucking, liberal, fucking, ...      1\n",
       "1                [coloured, fuckers, leave, country]      1\n",
       "2                        [fuck, jezanie, cunts, cbb]      1\n",
       "3          [fucking, white, bitch, road, needs, out]      1\n",
       "4                                    [black, nigger]      1"
      ]
     },
     "execution_count": 31,
     "metadata": {},
     "output_type": "execute_result"
    }
   ],
   "source": [
    "data_tokenised_stpwd.head()"
   ]
  },
  {
   "cell_type": "markdown",
   "metadata": {},
   "source": [
    "Compare this list of tokens to the one we had prior to removing the stopwords."
   ]
  },
  {
   "cell_type": "markdown",
   "metadata": {},
   "source": [
    "### Stemming"
   ]
  },
  {
   "cell_type": "markdown",
   "metadata": {},
   "source": [
    "In NLP, stemming is the process of turning words back into their stem, base or root form.\n",
    "\n",
    "Examples:\n",
    "- 'cats' --> 'cat'\n",
    "- 'fishing', 'fished' --> 'fish'\n",
    "\n",
    "This step is important so the classifier understands that the singular and the plural form of a noun carry a similar meaning."
   ]
  },
  {
   "cell_type": "code",
   "execution_count": 32,
   "metadata": {},
   "outputs": [],
   "source": [
    "# make a copy of the processed data so far\n",
    "pre_processed_data = data_tokenised_stpwd.copy()\n",
    "\n",
    "ps = PorterStemmer() \n",
    "pre_processed_data['tweet'] = pre_processed_data['tweet'].apply(\n",
    "    lambda x: [ps.stem(word) for word in x])"
   ]
  },
  {
   "cell_type": "code",
   "execution_count": 33,
   "metadata": {},
   "outputs": [
    {
     "data": {
      "text/plain": [
       "0    [fuck, fascist, fuck, liber, fuck, racist, fuc...\n",
       "1                      [colour, fucker, leav, countri]\n",
       "2                            [fuck, jezani, cunt, cbb]\n",
       "3                [fuck, white, bitch, road, need, out]\n",
       "4                                      [black, nigger]\n",
       "Name: tweet, dtype: object"
      ]
     },
     "execution_count": 33,
     "metadata": {},
     "output_type": "execute_result"
    }
   ],
   "source": [
    "pre_processed_data['tweet'].head()"
   ]
  },
  {
   "cell_type": "markdown",
   "metadata": {},
   "source": [
    "This is the end of the pre-processing of the 'tweet' column of the dataset. We now have tweets that have been cleaned, stemmed and tokenised."
   ]
  },
  {
   "cell_type": "markdown",
   "metadata": {},
   "source": [
    "For the model to learn anything, we need to give it a set of criteria to use in deciding whether a tweet is hateful or not. This kind of criteria is known as **feature**. We can define one or more feature(s) to train our classifier.\n",
    "\n",
    "In Part 2., we'll see how to convert the words into features so that we can feed it to a classifier for training or inference."
   ]
  },
  {
   "cell_type": "markdown",
   "metadata": {},
   "source": [
    "____________________________________________________________"
   ]
  },
  {
   "cell_type": "markdown",
   "metadata": {},
   "source": [
    "## Part 2. Prepare the data to train the classifier"
   ]
  },
  {
   "cell_type": "markdown",
   "metadata": {},
   "source": [
    "###### What feature shall we give to the model?\n",
    "\n",
    "We could give it a list of key words but text cannot be used by machine learning models. They expect their input to be numeric. So we need to transform words into numeric features in a meaningful way. \n",
    "\n",
    "To do so, we are going to set a list of words/features (called vocabulary) and provide the classifier with boolean values indicating whether each feature of the vocabulary is present or not.\n",
    "\n",
    "It will look something like this:\n",
    "- 'bastard' : True (present)\n",
    "- 'road' : False (absent)\n",
    "- etc..."
   ]
  },
  {
   "cell_type": "markdown",
   "metadata": {},
   "source": [
    "### Vocabulary of features"
   ]
  },
  {
   "cell_type": "markdown",
   "metadata": {},
   "source": [
    "Let's begin by creating a vocabulary of features: a set of all words in the dataset"
   ]
  },
  {
   "cell_type": "code",
   "execution_count": 34,
   "metadata": {},
   "outputs": [
    {
     "name": "stdout",
     "output_type": "stream",
     "text": [
      "Vocabulary size: 1235\n"
     ]
    }
   ],
   "source": [
    "vocab = [word for tweet in pre_processed_data['tweet'] for word in tweet]\n",
    "print('Vocabulary size: {}'.format(len(vocab)))"
   ]
  },
  {
   "cell_type": "code",
   "execution_count": 41,
   "metadata": {
    "scrolled": true
   },
   "outputs": [
    {
     "name": "stdout",
     "output_type": "stream",
     "text": [
      "['bastard', 'muslim', 'terrorist', 'get', 'out', 'countri', 'you', 'fuck', 'foreign', 'go', 'burn', 'hell', 'bitch', 'mani', 'wog', 'leav', 'countri', 'brexit', 'fuck', 'paki', 'hate', 'immigr', 'fuck', 'anyon', 'british', 'diy', 'paki', 'polish', 'scum', 'you', 'muslim', 'prick', 'scottish', 'bastard', 'get', 'rid', 'them', 'along', 'europ', 'racist', 'sexist', 'perv', 'clearli', 'want', 'fuck', 'daughter', 'disgust', 'polish', 'bastard', 'hate', 'yellow', 'fucker', 'nigger', 'shut', 'fuck', 'tire', 'polish', 'bitch', 'fuck', 'off', 'fuck', 'hate', 'you', 'nigger', 'bruh', 'diy', 'terrorist', 'religion', 'fuck', 'joke', 'you', 'go', 'around', 'scream', 'allah', 'akbar', 'terrorist', 'shit', 'diy', 'faggot', 'fuck', 'paki', 'cunt', 'local', 'mosqu', 'let', 'terrorist', 'out', 'fuck', 'off', 'back', 'poland', 'man', 'call', 'black', 'bastard', 'go', 'back', 'countri', 'rude', 'fuck', 'off', 'back', 'europ', 'you', 'job', 'steal', 'immigr', 'fuck', 'off', 'home', 'you', 'foreign', 'bastard', 'black', 'bitch', 'next', 'shut', 'fuck', 'off', 'you', 'fuck', 'paki', 'bastard', 'neighbour', 'complain', 'shed', 'front', 'garden', 'who', 'neighbour', 'church', 'england', 'bunch', 'god', 'bother', 'cunt', 'paki', 'cunt', 'wear', 'veil', 'fuck', 'off', 'myriah', 'chavcentr', 'chav', 'central', 'fuck', 'off', 'immigr', 'brexit', 'fuck', 'white', 'bitch', 'road', 'need', 'out', 'stupid', 'bitch', 'you', 'even', 'countri', 'you', 'paki', 'polish', 'bitch', 'fuck', 'polish', 'alien', 'come', 'take', 'job', 'unaccept', 'fuck', 'sand', 'monkey', 'fuck', 'off', 'you', 'back', 'paki', 'bastard', 'fuck', 'off', 'you', 'cunt', 'polish', 'vermin', 'bastard', 'muslim', 'dog', 'muslim', 'go', 'fuck', 'home', 'bye', 'bye', 'brexit', 'bastard', 'wog', 'road', 'annoy', 'you', 'fuck', 'irish', 'cow', 'fuck', 'chink', 'saw', 'graffiti', 'train', 'today', 'said', 'fuck', 'off', 'home', 'you', 'black', 'slagfound', 'pretti', 'funni', 'thick', 'scottish', 'bastard', 'neighbour', 'call', 'paki', 'peopl', 'respect', 'benjamin', 'fuck', 'faggot', 'hate', 'peopl', 'wrong', 'said', '975', 'peopl', 'cunt', 'much', 'much', 'higher', 'fuck', 'off', 'you', 'cunt', 'fuck', 'immigr', 'muslim', 'terrorist', 'same', 'fuck', 'off', 'you', 'scum', 'least', 'look', 'like', 'jefre', 'starr', 'faggot', 'fuck', 'jezani', 'cunt', 'cbb', 'black', 'nigger', 'kill', 'you', 'you', 'paki', 'bastard', 'attent', 'seek', 'bitch', 'hate', 'immigr', 'brexit', 'time', 'fuck', 'off', 'you', 'polish', 'alien', 'colour', 'fucker', 'leav', 'countri', 'hate', 'faggot', 'like', 'you', 'mani', 'chink', 'london', 'cheat', 'fuck', 'stupid', 'ass', 'prick', 'hate', 'nigger', 'hate', 'faggot', 'hate', 'spicskkk', 'ralli', 'bitch', 'good', 'night', 'fag', 'fagett', 'femal', 'version', 'fag', 'like', 'fagett', 'make', 'femal', 'hate', 'you', 'fuck', 'you', 'nigger', 'sheboon', 'hope', 'you', 'strung', 'like', 'nigger', 'whitepow', '1488', 'fuck', 'bitch', 'go', 'fuck', 'yourself', 'you', 'cunt', 'fuck', 'faggot', 'sit', 'cinema', 'next', 'come', 'out', 'you', 'black', 'bastard', 'depo', 'bastard', 'immigr', 'keep', 'britain', 'british', 'use', 'tie', 'end', 'nigger', 'leg', '2', 'differ', 'hors', 'beat', 'hors', 'spread', 'leg', 'break', 'smh', 'bunch', 'paki', 'perv', 'muslim', 'scum', 'terrorist', 'you', 'ass', 'prick', 'least', 'nigger', 'lmfao', 'nigger', 'road', 'better', 'stop', 'shout', 'go', 'round', 'shut', 'them', 'last', 'time', 'preston', 'anymor', 'inconsider', 'twat', 'm6m61', 'way', 'home', 'gon', 'na', 'cut', 'bitch', 'immigr', 'fuck', 'terrorist', 'sli', 'bitch', 'cunt', 'fuck', 'off', 'fuck', 'hate', 'allah', 'lover', 'enough', 'fuck', 'paki', 'man', 'time', 'leav', 'europ', 'you', 'fuck', 'faggot', 'local', 'paki', 'shop', 'disgust', 'even', 'allow', 'countri', 'nigger', 'everywher', 'day', 'make', 'britain', 'great', 'paki', 'fuck', 'off', 'pleas', 'hate', 'immigr', 'fuck', 'dyke', 'go', 'home', 'you', 'immigr', 'shut', 'nigger', 'whore', 'hope', 'get', 'rape', 'one', 'anim', 'might', 'chang', 'tune', 'leav', 'fuck', 'countri', 'you', 'white', 'smelli', 'paki', 'fuck', 'nigger', 'fuck', 'fascist', 'fuck', 'liber', 'fuck', 'racist', 'fuck', 'traitor', 'fuck', 'petrolhead', 'fuck', 'treehugg', 'steve', 'you', 'steph', 'mate', 'fat', 'littl', 'wanker', 'you', 'problem', 'say', 'face', 'behind', 'back', 'faggot', 'fuck', 'terrorist', 'everywher', 'get', 'rid', 'them', 'bastard', 'muslim', 'hate', 'bitch', 'paki', 'cunt', 'come', 'home', 'off', 'xxx', 'moroccan', 'peopl', 'give', 'fuck', 'bout', 'live', 'cross', 'fuck', 'highway', 'good', 'news', 'tell', 'god', 'make', 'right', 'sight', 'accomplish', 'from', 'sta', 'finish', 'roman', '117', 'sho', 'outreach', 'email', 'get', 'you', 'link', 'you', 'expect', 'employ', 'photograph', 'retweet', 'gazet', 'kk', 'baskn', 'oran', 'akp', 'de', 'fethullahyd', 'a4b', '36', 'hoursdishoomincinema', 'lyft', 'coupon', 'free', '50', 'ride', 'credit', 'lyft', 'exp', '222', 'coupon', 'one', 'hour', 'go', 'lectur', 'end', 'januari', 'go', 'drag', 'freedom', 'figur', 'shit', 'out', 'morn', 'alarm', 'went', 'off', '0230', 'didnt', 'know', 'fuck', 'go', 'x', 'sat', '6', 'get', 'spark', 'straight', 'out', 'men', 'hate', 'women', 'worldwid', 'south', 'korea', 'contend', 'gamerg', 'tshi', 'npr', 'pic', 'preview', 'park', 'bo', 'gum', 'kim', 'yoo', 'jung', 'jinyoung', 'b1a4', 'di', 'drama', 'kb', 'moonlight', 'drawn', 'cloud', 'kwi', 'make', 'browni', 'like', 'realiz', 'immigr', 'fact', 'bodi', '10', 'make', 'okay', 'justwond', 'bit', 'left', 'field', 'id', 'go', 'marshal', 'cardiff', 'januari', 'solid', 'intern', 'keeper', 'mother', 'juandaearli', 'caller', 'learn', 'hate', 'polit', 'correctnessbut', 'love', 'common', 'decencyampcommon', 'sens', 'win', 'loos', 'draw', 'get', 'sent', 'off', 'absolut', 'knobhead', 'sea', 'shepherd', 'conserv', 'societi', 'terrorist', 'organizationwh', 'cba', 'polish', 'custom', 'work', 'like', 'david', 'duke', 'wouldnt', 'republican', 'vote', 'new', 'reason', 'tlot', 'amagi', 'tcot', 'frontmen', 'go', 'freddi', 'mercuri', 'immens', 'american', 'give', 'citizenship', 'time', 'high', 'immigr', 'appli', 'mostli', 'latino', 'tess2016', 'you', 'need', 'prove', 'consist', 'time', 'back', 'shithol', 'go', 'x', 'get', 'antialias', 'font', 'from', 'googl', 'font', 'devseo', 'blog', 'breaktim', 'live', 'webcam', 'health', 'famili', 'breastfeed', 'prematur', 'babi', 'boost', 'iq', 'later', 'life', 'research', 'find', 'go', 'holiday', '15', 'day', 'like', 'even', 'readi', 'black', 'countri', 'man', 'pleas', 'best', 'week', 'came', 'from', 'thanksal', 'get', 'you', 'out', 'hand', 'nuala', 'nowplay', 'sun', 'lancast', 'keep', 'see', 'ad', 'crisp', 'cover', 'gold', 'glitteri', 'star', 'you', 'get', 'them', 'mamp', 'cleveleysno', 'count', 'till', 'bryan', 'new', 'ep', '39', 'day', 'go', 'go', 'preorder', 'proud', 'out', 'fine', 'tomorrow', 'love', 'you', 'school', 'sta', 'refer', 'sourc', 'you', 'crop', 'pass', 'off', 'hate', 'behaviour', 'get', 'antiauster', 'toryscum', 'ex', 'broke', 'vs', 'lilli', 'tri', 'climb', 'tree', 'bird', 'complet', 'fail', 'oh', 'god', '128514', 'get', 'chelsea', 'ye', 'earn', 'mplusreward', 'pick', 'line', 'ive', 'heard', 'brexit', 'debat', 'american', 'made', 'stat', 'mud', 'sling', 'fed', 'hate', 'divis', 'compani', 'still', 'hasnt', 'kick', 'off', 'see', 'firefli', 'squid', 'japan', 'right', 'bear', 'arm', 'kill', 'mani', 'peopl', 'you', 'usconstitut', 'maniq', 'gel', 'polish', 'natur', 'nail', 'violet', '102', '10', 'off', 'nail', 'bigger', 'ever', 'shoe', 'sale', '75', 'off', 'mani', 'shoe', 'gorgeou', 'hello', 'goodonight', 'everyon', 'special', 'number', '1', 'station', 'tv', 'indonesia', 'pleas', 'invit', 'come', 'nono', 'yo', 'organic', 'el', 'horario', 'meejooor', 'que', 'te', 'haya', 'quedado', 'asii', 'seminari', 'bore', 'out', 'fuck', 'mind', 'help', 'callin', 'daddi', 'daddi', 'need', 'daddi', 'wont', 'you', 'daddi', 'daddi', 'come', 'make', 'rain', 'baek', 'you', 'omg', 'news', 'review', 'car', 'review', 'sd', 'v', 'fpace', 'rr', 'porsch', 'macan', 'iphon', 'need', 'featur', 'incom', 'call', 'take', 'whole', 'screen', 'thing', 'ignor', 'phon', 'pope', 'wrap', 'proimmigr', 'messag', 'polish', 'flag', 'crux', 'cover', 'thing', 'cathol', 'crux', 'cover', 'th', 'hate', 'wake', 'earli', 'morn', 'unlucki', 'peopl', 'total', 'forgot', 'reflect', 'exist', 'photo', 'go', 'home', 'oreo', 'drunk', 'thing', 'get', 'better', 'howard', 'jone', 'nowplay', 'sun', 'lancast', 'download', 'let', 'world', 'chang', 'smile', 'let', 'smile', 'chang', 'world', 'heaoverh', 'kenchan', 'onbsc2016', 'you', 'love', 'someon', 'tell', 'them', 'thing', 'right', 'time', 'right', 'place', 'long', 'point', 'moron', 'trump', 'say', 'hell', 'put', 'american', 'work', 'yet', 'get', 'visa', 'immigr', 'work', 'golf', 'cours', 'fl', 'fuckin', 'get', 'awkward', 'moment', 'you', 'arriv', 'town', 'five', 'hour', 'kill', 'kick', 'off', 'avfc', 'preston', 'construct', 'i86', 'direct', 'from', 'town', 'ellicott', 'town', 'poland', 'line', 'exit', '14', 'ny', '62', 'frewsburg', 'road', 'scum', 'game', 'throne', 'univers', 'tire', 'fact', 'work', 'out', 'chanyeol', 'achiev', 'give', 'chill', 'offer', 'oppoun', 'pay', 'you', '50', 'get', 'back', 'featur', 'lost', 'weedl', 'pidgey', 'scum', 'eah', 'one', 'ok', 'rock', 'thankx', 'lot', 'wonder', 'tipshealthtipsbymsgil', 'sure', 'follow', 'pope', 'franci', 'visit', 'former', 'german', 'nazi', 'concentr', 'camp', 'auschwitzbirkenau', 'take', 'immigr', 'poignantli', 'point', 'out', 'disgrac', 'moral', 'pygmi', 'paul', 'ryan', 'mitch', 'mcconnel', 'maniq', 'gel', 'polish', 'natur', 'nail', 'champagn', '10', 'off', 'nail', 'servic', 'januari', 'lighter', 'note', 'sky', 'pundit', 'get', 'cloth', 'budget', 'from', 'asda', 'dodgysuit', 'technolog', 'decis', 'leader', 'hold', 'let', 'go', 'feel', 'mani', 'today', 'set', 'off', 'thank', 'you', 'post', 'fine', 'exampl', 'braveri', 'inspir', 'want', 'work', 'citi', 'hire', 'jacksonvil', 'fl', 'click', 'detail', 'job', 'citicar', 'job', 'careerarc', 'five', 'way', 'get', 'leg', 'competit', 'seo', 'refere', 'tonight', 'winter', 'garden', 'blackpool', 'hope', 'good', 'competit', 'fight', 'boxer', 'go', 'home', 'safe', 'healthi', 'follow', 'topstori', 'spain', 'economi', 'expand', '07', 'despit', 'polit', 'deadlock', 'forb', 'updat', 'databas', 'respect', 'uncoupl', 'record', 'onlin', 'emxzf', 'cake', 'sale', 'kick', 'off', 'mani', 'delici', 'treat', 'innov', 'from', 'cwt', 'reduc', 'personalis', 'travel', 'cost', 'wld', 'like', '2', 'meet', 'j', 'bloer', 'cafe', 'clevli', 'you', 'understand', 'you', 'deserv', 'everyth', 'you', 'get', 'white', 'hat', 'seo', 'vs', 'black', 'hat', 'seo', 'less', '100', 'word', 'spend', 'live', 'live', 'gangsta', 'paradis', 'never', 'never', 'accept', 'alway', 'repo', 'racist', 'islamophob', 'hate', 'crime', 'alwaysalway', 'merri', 'achrostmad', 'villa', 'countri', 'hous', 'hotel', 'wrea', 'green', 'thank', 'you', 'fuck', 'annoy', 'meat', 'dairi', 'egg', 'tourou', 'anim', 'id', 'love', 'follow', 'paleo', 'diet', 'danger', 'vegan', 'realli', 'enjoy', 'box', 'tonight', 'great', 'fight', 'joshuawhyt', 'let', 'get', 'readi', 'rumbl', 'joshua', 'forget', 'robot']\n"
     ]
    }
   ],
   "source": [
    "print(vocab)"
   ]
  },
  {
   "cell_type": "markdown",
   "metadata": {},
   "source": [
    "This vocabulary contains a list of all unique words in our pre-processed tweets. You'll notice some of the words don't look very english. It's because they are the stem of the initial word (recall the stemming process)."
   ]
  },
  {
   "cell_type": "markdown",
   "metadata": {},
   "source": [
    "The notion of hate in the English language is more complex than just the presence of a word. Sometimes it's the combination of 2 or more words that becomes hateful. For example 'shut up', 'f**k off' or 'send them home'. \n",
    "\n",
    "In NLP, these combinations of 2 or more words are called ngrams:\n",
    "- bigram: ('back', 'off')\n",
    "- trigram: ('send', 'them', 'home')\n",
    "\n",
    "We need to add bigrams and trigrams to our vocabulary of features alongside single words/features."
   ]
  },
  {
   "cell_type": "code",
   "execution_count": 35,
   "metadata": {},
   "outputs": [
    {
     "name": "stdout",
     "output_type": "stream",
     "text": [
      "Vocabulary size: 3115\n"
     ]
    }
   ],
   "source": [
    "def get_vocabulary(tweets):\n",
    "    all_words = []\n",
    "    for word_list in tweets:\n",
    "        # unigrams\n",
    "        all_words.extend(word_list)\n",
    "        \n",
    "        # bigrams\n",
    "        bigrams = list(ngrams(word_list, 2))\n",
    "        \n",
    "        #trigrams \n",
    "        trigrams = list(ngrams(word_list, 3))\n",
    "        \n",
    "        all_words.extend(bigrams)\n",
    "        all_words.extend(trigrams)\n",
    "    \n",
    "    return all_words\n",
    "\n",
    "vocab = get_vocabulary(pre_processed_data['tweet'])\n",
    "print('Vocabulary size: {}'.format(len(vocab)))"
   ]
  },
  {
   "cell_type": "code",
   "execution_count": 43,
   "metadata": {
    "scrolled": true
   },
   "outputs": [
    {
     "name": "stdout",
     "output_type": "stream",
     "text": [
      "['bastard', 'muslim', 'terrorist', 'get', 'out', 'countri', 'you', 'fuck', 'foreign', 'go', 'burn', 'hell', 'bitch', 'mani', 'wog', 'leav', 'countri', 'brexit', 'fuck', 'paki', 'hate', 'immigr', 'fuck', 'anyon', 'british', 'diy', 'paki', 'polish', 'scum', 'you', 'muslim', 'prick', 'scottish', 'bastard', 'get', 'rid', 'them', 'along', 'europ', 'racist', 'sexist', 'perv', 'clearli', 'want', 'fuck', 'daughter', 'disgust', 'polish', 'bastard', 'hate', 'yellow', 'fucker', 'nigger', 'shut', 'fuck', 'tire', 'polish', 'bitch', 'fuck', 'off', 'fuck', 'hate', 'you', 'nigger', 'bruh', 'diy', 'terrorist', 'religion', 'fuck', 'joke', 'you', 'go', 'around', 'scream', 'allah', 'akbar', 'terrorist', 'shit', 'diy', 'faggot', 'fuck', 'paki', 'cunt', 'local', 'mosqu', 'let', 'terrorist', 'out', 'fuck', 'off', 'back', 'poland', 'man', 'call', 'black', 'bastard', 'go', 'back', 'countri', 'rude', 'fuck', 'off', 'back', 'europ', 'you', 'job', 'steal', 'immigr', 'fuck', 'off', 'home', 'you', 'foreign', 'bastard', 'black', 'bitch', 'next', 'shut', 'fuck', 'off', 'you', 'fuck', 'paki', 'bastard', 'neighbour', 'complain', 'shed', 'front', 'garden', 'who', 'neighbour', 'church', 'england', 'bunch', 'god', 'bother', 'cunt', 'paki', 'cunt', 'wear', 'veil', 'fuck', 'off', 'myriah', 'chavcentr', 'chav', 'central', 'fuck', 'off', 'immigr', 'brexit', 'fuck', 'white', 'bitch', 'road', 'need', 'out', 'stupid', 'bitch', 'you', 'even', 'countri', 'you', 'paki', 'polish', 'bitch', 'fuck', 'polish', 'alien', 'come', 'take', 'job', 'unaccept', 'fuck', 'sand', 'monkey', 'fuck', 'off', 'you', 'back', 'paki', 'bastard', 'fuck', 'off', 'you', 'cunt', 'polish', 'vermin', 'bastard', 'muslim', 'dog', 'muslim', 'go', 'fuck', 'home', 'bye', 'bye', 'brexit', 'bastard', 'wog', 'road', 'annoy', 'you', 'fuck', 'irish', 'cow', 'fuck', 'chink', 'saw', 'graffiti', 'train', 'today', 'said', 'fuck', 'off', 'home', 'you', 'black', 'slagfound', 'pretti', 'funni', 'thick', 'scottish', 'bastard', 'neighbour', 'call', 'paki', 'peopl', 'respect', 'benjamin', 'fuck', 'faggot', 'hate', 'peopl', 'wrong', 'said', '975', 'peopl', 'cunt', 'much', 'much', 'higher', 'fuck', 'off', 'you', 'cunt', 'fuck', 'immigr', 'muslim', 'terrorist', 'same', 'fuck', 'off', 'you', 'scum', 'least', 'look', 'like', 'jefre', 'starr', 'faggot', 'fuck', 'jezani', 'cunt', 'cbb', 'black', 'nigger', 'kill', 'you', 'you', 'paki', 'bastard', 'attent', 'seek', 'bitch', 'hate', 'immigr', 'brexit', 'time', 'fuck', 'off', 'you', 'polish', 'alien', 'colour', 'fucker', 'leav', 'countri', 'hate', 'faggot', 'like', 'you', 'mani', 'chink', 'london', 'cheat', 'fuck', 'stupid', 'ass', 'prick', 'hate', 'nigger', 'hate', 'faggot', 'hate', 'spicskkk', 'ralli', 'bitch', 'good', 'night', 'fag', 'fagett', 'femal', 'version', 'fag', 'like', 'fagett', 'make', 'femal', 'hate', 'you', 'fuck', 'you', 'nigger', 'sheboon', 'hope', 'you', 'strung', 'like', 'nigger', 'whitepow', '1488', 'fuck', 'bitch', 'go', 'fuck', 'yourself', 'you', 'cunt', 'fuck', 'faggot', 'sit', 'cinema', 'next', 'come', 'out', 'you', 'black', 'bastard', 'depo', 'bastard', 'immigr', 'keep', 'britain', 'british', 'use', 'tie', 'end', 'nigger', 'leg', '2', 'differ', 'hors', 'beat', 'hors', 'spread', 'leg', 'break', 'smh', 'bunch', 'paki', 'perv', 'muslim', 'scum', 'terrorist', 'you', 'ass', 'prick', 'least', 'nigger', 'lmfao', 'nigger', 'road', 'better', 'stop', 'shout', 'go', 'round', 'shut', 'them', 'last', 'time', 'preston', 'anymor', 'inconsider', 'twat', 'm6m61', 'way', 'home', 'gon', 'na', 'cut', 'bitch', 'immigr', 'fuck', 'terrorist', 'sli', 'bitch', 'cunt', 'fuck', 'off', 'fuck', 'hate', 'allah', 'lover', 'enough', 'fuck', 'paki', 'man', 'time', 'leav', 'europ', 'you', 'fuck', 'faggot', 'local', 'paki', 'shop', 'disgust', 'even', 'allow', 'countri', 'nigger', 'everywher', 'day', 'make', 'britain', 'great', 'paki', 'fuck', 'off', 'pleas', 'hate', 'immigr', 'fuck', 'dyke', 'go', 'home', 'you', 'immigr', 'shut', 'nigger', 'whore', 'hope', 'get', 'rape', 'one', 'anim', 'might', 'chang', 'tune', 'leav', 'fuck', 'countri', 'you', 'white', 'smelli', 'paki', 'fuck', 'nigger', 'fuck', 'fascist', 'fuck', 'liber', 'fuck', 'racist', 'fuck', 'traitor', 'fuck', 'petrolhead', 'fuck', 'treehugg', 'steve', 'you', 'steph', 'mate', 'fat', 'littl', 'wanker', 'you', 'problem', 'say', 'face', 'behind', 'back', 'faggot', 'fuck', 'terrorist', 'everywher', 'get', 'rid', 'them', 'bastard', 'muslim', 'hate', 'bitch', 'paki', 'cunt', 'come', 'home', 'off', 'xxx', 'moroccan', 'peopl', 'give', 'fuck', 'bout', 'live', 'cross', 'fuck', 'highway', 'good', 'news', 'tell', 'god', 'make', 'right', 'sight', 'accomplish', 'from', 'sta', 'finish', 'roman', '117', 'sho', 'outreach', 'email', 'get', 'you', 'link', 'you', 'expect', 'employ', 'photograph', 'retweet', 'gazet', 'kk', 'baskn', 'oran', 'akp', 'de', 'fethullahyd', 'a4b', '36', 'hoursdishoomincinema', 'lyft', 'coupon', 'free', '50', 'ride', 'credit', 'lyft', 'exp', '222', 'coupon', 'one', 'hour', 'go', 'lectur', 'end', 'januari', 'go', 'drag', 'freedom', 'figur', 'shit', 'out', 'morn', 'alarm', 'went', 'off', '0230', 'didnt', 'know', 'fuck', 'go', 'x', 'sat', '6', 'get', 'spark', 'straight', 'out', 'men', 'hate', 'women', 'worldwid', 'south', 'korea', 'contend', 'gamerg', 'tshi', 'npr', 'pic', 'preview', 'park', 'bo', 'gum', 'kim', 'yoo', 'jung', 'jinyoung', 'b1a4', 'di', 'drama', 'kb', 'moonlight', 'drawn', 'cloud', 'kwi', 'make', 'browni', 'like', 'realiz', 'immigr', 'fact', 'bodi', '10', 'make', 'okay', 'justwond', 'bit', 'left', 'field', 'id', 'go', 'marshal', 'cardiff', 'januari', 'solid', 'intern', 'keeper', 'mother', 'juandaearli', 'caller', 'learn', 'hate', 'polit', 'correctnessbut', 'love', 'common', 'decencyampcommon', 'sens', 'win', 'loos', 'draw', 'get', 'sent', 'off', 'absolut', 'knobhead', 'sea', 'shepherd', 'conserv', 'societi', 'terrorist', 'organizationwh', 'cba', 'polish', 'custom', 'work', 'like', 'david', 'duke', 'wouldnt', 'republican', 'vote', 'new', 'reason', 'tlot', 'amagi', 'tcot', 'frontmen', 'go', 'freddi', 'mercuri', 'immens', 'american', 'give', 'citizenship', 'time', 'high', 'immigr', 'appli', 'mostli', 'latino', 'tess2016', 'you', 'need', 'prove', 'consist', 'time', 'back', 'shithol', 'go', 'x', 'get', 'antialias', 'font', 'from', 'googl', 'font', 'devseo', 'blog', 'breaktim', 'live', 'webcam', 'health', 'famili', 'breastfeed', 'prematur', 'babi', 'boost', 'iq', 'later', 'life', 'research', 'find', 'go', 'holiday', '15', 'day', 'like', 'even', 'readi', 'black', 'countri', 'man', 'pleas', 'best', 'week', 'came', 'from', 'thanksal', 'get', 'you', 'out', 'hand', 'nuala', 'nowplay', 'sun', 'lancast', 'keep', 'see', 'ad', 'crisp', 'cover', 'gold', 'glitteri', 'star', 'you', 'get', 'them', 'mamp', 'cleveleysno', 'count', 'till', 'bryan', 'new', 'ep', '39', 'day', 'go', 'go', 'preorder', 'proud', 'out', 'fine', 'tomorrow', 'love', 'you', 'school', 'sta', 'refer', 'sourc', 'you', 'crop', 'pass', 'off', 'hate', 'behaviour', 'get', 'antiauster', 'toryscum', 'ex', 'broke', 'vs', 'lilli', 'tri', 'climb', 'tree', 'bird', 'complet', 'fail', 'oh', 'god', '128514', 'get', 'chelsea', 'ye', 'earn', 'mplusreward', 'pick', 'line', 'ive', 'heard', 'brexit', 'debat', 'american', 'made', 'stat', 'mud', 'sling', 'fed', 'hate', 'divis', 'compani', 'still', 'hasnt', 'kick', 'off', 'see', 'firefli', 'squid', 'japan', 'right', 'bear', 'arm', 'kill', 'mani', 'peopl', 'you', 'usconstitut', 'maniq', 'gel', 'polish', 'natur', 'nail', 'violet', '102', '10', 'off', 'nail', 'bigger', 'ever', 'shoe', 'sale', '75', 'off', 'mani', 'shoe', 'gorgeou', 'hello', 'goodonight', 'everyon', 'special', 'number', '1', 'station', 'tv', 'indonesia', 'pleas', 'invit', 'come', 'nono', 'yo', 'organic', 'el', 'horario', 'meejooor', 'que', 'te', 'haya', 'quedado', 'asii', 'seminari', 'bore', 'out', 'fuck', 'mind', 'help', 'callin', 'daddi', 'daddi', 'need', 'daddi', 'wont', 'you', 'daddi', 'daddi', 'come', 'make', 'rain', 'baek', 'you', 'omg', 'news', 'review', 'car', 'review', 'sd', 'v', 'fpace', 'rr', 'porsch', 'macan', 'iphon', 'need', 'featur', 'incom', 'call', 'take', 'whole', 'screen', 'thing', 'ignor', 'phon', 'pope', 'wrap', 'proimmigr', 'messag', 'polish', 'flag', 'crux', 'cover', 'thing', 'cathol', 'crux', 'cover', 'th', 'hate', 'wake', 'earli', 'morn', 'unlucki', 'peopl', 'total', 'forgot', 'reflect', 'exist', 'photo', 'go', 'home', 'oreo', 'drunk', 'thing', 'get', 'better', 'howard', 'jone', 'nowplay', 'sun', 'lancast', 'download', 'let', 'world', 'chang', 'smile', 'let', 'smile', 'chang', 'world', 'heaoverh', 'kenchan', 'onbsc2016', 'you', 'love', 'someon', 'tell', 'them', 'thing', 'right', 'time', 'right', 'place', 'long', 'point', 'moron', 'trump', 'say', 'hell', 'put', 'american', 'work', 'yet', 'get', 'visa', 'immigr', 'work', 'golf', 'cours', 'fl', 'fuckin', 'get', 'awkward', 'moment', 'you', 'arriv', 'town', 'five', 'hour', 'kill', 'kick', 'off', 'avfc', 'preston', 'construct', 'i86', 'direct', 'from', 'town', 'ellicott', 'town', 'poland', 'line', 'exit', '14', 'ny', '62', 'frewsburg', 'road', 'scum', 'game', 'throne', 'univers', 'tire', 'fact', 'work', 'out', 'chanyeol', 'achiev', 'give', 'chill', 'offer', 'oppoun', 'pay', 'you', '50', 'get', 'back', 'featur', 'lost', 'weedl', 'pidgey', 'scum', 'eah', 'one', 'ok', 'rock', 'thankx', 'lot', 'wonder', 'tipshealthtipsbymsgil', 'sure', 'follow', 'pope', 'franci', 'visit', 'former', 'german', 'nazi', 'concentr', 'camp', 'auschwitzbirkenau', 'take', 'immigr', 'poignantli', 'point', 'out', 'disgrac', 'moral', 'pygmi', 'paul', 'ryan', 'mitch', 'mcconnel', 'maniq', 'gel', 'polish', 'natur', 'nail', 'champagn', '10', 'off', 'nail', 'servic', 'januari', 'lighter', 'note', 'sky', 'pundit', 'get', 'cloth', 'budget', 'from', 'asda', 'dodgysuit', 'technolog', 'decis', 'leader', 'hold', 'let', 'go', 'feel', 'mani', 'today', 'set', 'off', 'thank', 'you', 'post', 'fine', 'exampl', 'braveri', 'inspir', 'want', 'work', 'citi', 'hire', 'jacksonvil', 'fl', 'click', 'detail', 'job', 'citicar', 'job', 'careerarc', 'five', 'way', 'get', 'leg', 'competit', 'seo', 'refere', 'tonight', 'winter', 'garden', 'blackpool', 'hope', 'good', 'competit', 'fight', 'boxer', 'go', 'home', 'safe', 'healthi', 'follow', 'topstori', 'spain', 'economi', 'expand', '07', 'despit', 'polit', 'deadlock', 'forb', 'updat', 'databas', 'respect', 'uncoupl', 'record', 'onlin', 'emxzf', 'cake', 'sale', 'kick', 'off', 'mani', 'delici', 'treat', 'innov', 'from', 'cwt', 'reduc', 'personalis', 'travel', 'cost', 'wld', 'like', '2', 'meet', 'j', 'bloer', 'cafe', 'clevli', 'you', 'understand', 'you', 'deserv', 'everyth', 'you', 'get', 'white', 'hat', 'seo', 'vs', 'black', 'hat', 'seo', 'less', '100', 'word', 'spend', 'live', 'live', 'gangsta', 'paradis', 'never', 'never', 'accept', 'alway', 'repo', 'racist', 'islamophob', 'hate', 'crime', 'alwaysalway', 'merri', 'achrostmad', 'villa', 'countri', 'hous', 'hotel', 'wrea', 'green', 'thank', 'you', 'fuck', 'annoy', 'meat', 'dairi', 'egg', 'tourou', 'anim', 'id', 'love', 'follow', 'paleo', 'diet', 'danger', 'vegan', 'realli', 'enjoy', 'box', 'tonight', 'great', 'fight', 'joshuawhyt', 'let', 'get', 'readi', 'rumbl', 'joshua', 'forget', 'robot']\n"
     ]
    }
   ],
   "source": [
    "print(vocab)"
   ]
  },
  {
   "cell_type": "markdown",
   "metadata": {},
   "source": [
    "Note: some of the tokens are duplicates. This is  because either (1) they are repeated within a tweet or (2) they are present in multiple tweets. \n",
    "\n",
    "Don't worry though, we'll get unique features out of it soon, before training the classifier! \n",
    "\n",
    "But first, let's look at how frequent each of the features of the vocabulary is in our dataset."
   ]
  },
  {
   "cell_type": "markdown",
   "metadata": {},
   "source": [
    "### Most frequent features"
   ]
  },
  {
   "cell_type": "markdown",
   "metadata": {},
   "source": [
    "Recall that features are tokens (unigrams) or combination of tokens (ngrams).\n",
    "\n",
    "Let's have a look at how frequent each feature is in the dataset. (_If you can't see the graph, try running the code chunk again_)."
   ]
  },
  {
   "cell_type": "code",
   "execution_count": 38,
   "metadata": {},
   "outputs": [
    {
     "data": {
      "image/png": "[encoded data removed]",
      "text/plain": [
       "<Figure size 432x288 with 1 Axes>"
      ]
     },
     "metadata": {
      "needs_background": "light"
     },
     "output_type": "display_data"
    },
    {
     "data": {
      "text/plain": [
       "<matplotlib.axes._subplots.AxesSubplot at 0x1a239e3d90>"
      ]
     },
     "execution_count": 38,
     "metadata": {},
     "output_type": "execute_result"
    }
   ],
   "source": [
    "fd = nltk.FreqDist(vocab)\n",
    "fd.plot(20, cumulative=True)\n",
    "#fd.xlabel('Most common features')"
   ]
  },
  {
   "cell_type": "code",
   "execution_count": 50,
   "metadata": {},
   "outputs": [
    {
     "name": "stdout",
     "output_type": "stream",
     "text": [
      "[('fuck', 63), ('you', 44), ('off', 29), ('go', 20), ('hate', 19), (('fuck', 'off'), 16), ('get', 16), ('paki', 15), ('bastard', 14), ('bitch', 13), ('nigger', 12), ('countri', 11), ('immigr', 11), ('cunt', 10), ('polish', 10), ('home', 10), ('out', 9), ('terrorist', 9), ('leav', 8), ('muslim', 8), ('faggot', 8), ('like', 7), ('back', 7), ('road', 6), ('black', 6), (('off', 'you'), 6), (('fuck', 'off', 'you'), 6), ('come', 6), ('brexit', 5), ('them', 5), ('let', 5), ('mani', 5), ('peopl', 5), ('enough', 5), ('from', 5), ('work', 5), ('daddi', 5), (('fuck', 'paki'), 4), ('make', 4), ('shut', 4), (('you', 'fuck'), 4), ('scum', 4), ('way', 4), ('even', 4), ('one', 4), ('give', 4), ('nail', 4), ('racist', 3), ('white', 3), ('need', 3)]\n"
     ]
    }
   ],
   "source": [
    "print(fd.most_common(50))"
   ]
  },
  {
   "cell_type": "markdown",
   "metadata": {},
   "source": [
    "Is that what you expected?"
   ]
  },
  {
   "cell_type": "markdown",
   "metadata": {},
   "source": [
    "### Feature selection"
   ]
  },
  {
   "cell_type": "markdown",
   "metadata": {},
   "source": [
    "We're now going to select a sample of this vocabulary of features. We only want to keep the features that truely matter in identifying hate speech.\n",
    "\n",
    "This step is important to reduce the  running time of our model as well as improve its accuracy."
   ]
  },
  {
   "cell_type": "markdown",
   "metadata": {},
   "source": [
    "#### Keeping the 50 most frequent words"
   ]
  },
  {
   "cell_type": "markdown",
   "metadata": {},
   "source": [
    "Some rare features are only present in one or two tweet. We know that these are not going to be very useful to teach the model to recognise hate speech.  \n",
    "\n",
    "Let's only keep the top 50 most frequent features in the dataset."
   ]
  },
  {
   "cell_type": "code",
   "execution_count": 51,
   "metadata": {},
   "outputs": [
    {
     "name": "stdout",
     "output_type": "stream",
     "text": [
      "Number of chosen features: 50/3115\n"
     ]
    }
   ],
   "source": [
    "def get_word_features(wordlist, n):\n",
    "    fd = nltk.FreqDist(wordlist)\n",
    "    \n",
    "    word_features = sorted(fd.items(), key=operator.itemgetter(1), reverse=True)[0:n] \n",
    "    word_features = [i[0] for i in word_features ]\n",
    "    return word_features\n",
    "\n",
    "# Only keep the top 50 most frequent words\n",
    "chosen_features = get_word_features(vocab, 50)\n",
    "print('Number of chosen features: {}/{}'.format(len(chosen_features), len(vocab)))"
   ]
  },
  {
   "cell_type": "code",
   "execution_count": 52,
   "metadata": {},
   "outputs": [
    {
     "name": "stdout",
     "output_type": "stream",
     "text": [
      "['fuck', 'you', 'off', 'go', 'hate', ('fuck', 'off'), 'get', 'paki', 'bastard', 'bitch', 'nigger', 'countri', 'immigr', 'cunt', 'polish', 'home', 'out', 'terrorist', 'leav', 'muslim', 'faggot', 'like', 'back', 'road', 'black', ('off', 'you'), ('fuck', 'off', 'you'), 'come', 'brexit', 'them', 'let', 'mani', 'peopl', 'enough', 'from', 'work', 'daddi', ('fuck', 'paki'), 'make', 'shut', ('you', 'fuck'), 'scum', 'way', 'even', 'one', 'give', 'nail', 'racist', 'white', 'need']\n"
     ]
    }
   ],
   "source": [
    "print(chosen_features[0:50])"
   ]
  },
  {
   "cell_type": "markdown",
   "metadata": {},
   "source": [
    "### Create input data for classifier"
   ]
  },
  {
   "cell_type": "markdown",
   "metadata": {},
   "source": [
    "So far, we have chosen a sample of features that we think are important for the model to learn to identify hateful speech.\n",
    "\n",
    "However, at this stage the classfier won't be able to know which features are responsible for a tweet being labelled as 'hateful'. Is it because of the word 'road' or the word 'bastard' in that tweet?\n",
    "\n",
    "To be able to learn what counts as hateful and what doesn't, the classifier needs to know the 'hateful value' of each feature in the vocabulary.\n",
    "\n",
    "In short, we need to tell the model:\n",
    "- which features are typically present in hateful tweets and which are not,\n",
    "- which features are typically present in non-hateful tweets and which are not.\n",
    "\n",
    "This precious information is available in our dataset because it has been manually labelled. So far we have not used the 'class' column in our dataset. We are now going to make use of it!\n",
    "\n",
    "The idea is to tell the model: \n",
    "- for each hateful tweet: these are the features present, and the ones not present. \n",
    "- for each non-hateful tweet: these are the features present, and the ones not present."
   ]
  },
  {
   "cell_type": "markdown",
   "metadata": {},
   "source": [
    "Let's extract the features present in each tweet:"
   ]
  },
  {
   "cell_type": "code",
   "execution_count": 53,
   "metadata": {},
   "outputs": [],
   "source": [
    "def extract_features(document):\n",
    "    document_words = set(document)\n",
    "    feature_set = {}\n",
    "    for feature in chosen_features:\n",
    "        feature_set['contains({})'.format(feature)] = (feature in document_words)\n",
    "    return feature_set\n",
    "\n",
    "tweets = [tuple(x) for x in pre_processed_data.values]\n",
    "\n",
    "feature_set = nltk.classify.apply_features(extract_features, tweets)"
   ]
  },
  {
   "cell_type": "code",
   "execution_count": 54,
   "metadata": {},
   "outputs": [
    {
     "name": "stdout",
     "output_type": "stream",
     "text": [
      "Number of tweets in training_set: 198\n"
     ]
    }
   ],
   "source": [
    "print('Number of tweets in training_set: {}'.format(len(feature_set)))"
   ]
  },
  {
   "cell_type": "markdown",
   "metadata": {},
   "source": [
    "Lets' look at the first tweet. Notice at the end, we see that this is a hateful tweet (label = 1)."
   ]
  },
  {
   "cell_type": "code",
   "execution_count": 55,
   "metadata": {},
   "outputs": [
    {
     "name": "stdout",
     "output_type": "stream",
     "text": [
      "({'contains(fuck)': True, 'contains(you)': True, 'contains(off)': False, 'contains(go)': False, 'contains(hate)': False, \"contains(('fuck', 'off'))\": False, 'contains(get)': False, 'contains(paki)': False, 'contains(bastard)': False, 'contains(bitch)': False, 'contains(nigger)': False, 'contains(countri)': False, 'contains(immigr)': False, 'contains(cunt)': False, 'contains(polish)': False, 'contains(home)': False, 'contains(out)': False, 'contains(terrorist)': False, 'contains(leav)': False, 'contains(muslim)': False, 'contains(faggot)': False, 'contains(like)': False, 'contains(back)': False, 'contains(road)': False, 'contains(black)': False, \"contains(('off', 'you'))\": False, \"contains(('fuck', 'off', 'you'))\": False, 'contains(come)': False, 'contains(brexit)': False, 'contains(them)': False, 'contains(let)': False, 'contains(mani)': False, 'contains(peopl)': False, 'contains(enough)': False, 'contains(from)': False, 'contains(work)': False, 'contains(daddi)': False, \"contains(('fuck', 'paki'))\": False, 'contains(make)': False, 'contains(shut)': False, \"contains(('you', 'fuck'))\": False, 'contains(scum)': False, 'contains(way)': False, 'contains(even)': False, 'contains(one)': False, 'contains(give)': False, 'contains(nail)': False, 'contains(racist)': True, 'contains(white)': False, 'contains(need)': False}, 1)\n"
     ]
    }
   ],
   "source": [
    "print(feature_set[0])"
   ]
  },
  {
   "cell_type": "markdown",
   "metadata": {},
   "source": [
    "The method is pretty simple. For each tweet, we are looping through our 50 chosen_features and setting a boolean to True if the tweet contains that feature, False otherwise. "
   ]
  },
  {
   "cell_type": "markdown",
   "metadata": {},
   "source": [
    "This format is what the classifier needs as input. It is a series of 0s and 1s (numerical) as opposed to text data that they cannot understand.\n",
    "\n",
    "We can now train the classifier with this training_set!"
   ]
  },
  {
   "cell_type": "markdown",
   "metadata": {},
   "source": [
    "_________________________________________"
   ]
  },
  {
   "cell_type": "markdown",
   "metadata": {},
   "source": [
    "## Part 3. Train the classifier"
   ]
  },
  {
   "cell_type": "markdown",
   "metadata": {},
   "source": [
    "### Split data into train vs test datasets"
   ]
  },
  {
   "cell_type": "markdown",
   "metadata": {},
   "source": [
    "We want to train the classifer and then test its classifying ability on a brand new dataset that it has never seen before. \n",
    "\n",
    "Generally, a 80/20 ratio is a fair split between training and testing set:\n",
    "- training dataset (80% of the data)\n",
    "- testing dataset (20% of the data)\n",
    "\n",
    "Sklearn provides a function called train_test_split to do this easily. Let's split our feature_set into train_data and test_data:"
   ]
  },
  {
   "cell_type": "code",
   "execution_count": 56,
   "metadata": {},
   "outputs": [
    {
     "name": "stdout",
     "output_type": "stream",
     "text": [
      "Number of tweets in train data: 158\n",
      "Number of tweets in test data: 40\n"
     ]
    }
   ],
   "source": [
    "from sklearn.model_selection import train_test_split\n",
    "train_data, test_data = train_test_split(feature_set, test_size=0.20, train_size=0.80)\n",
    "print('Number of tweets in train data: {}'.format(len(train_data)))\n",
    "print('Number of tweets in test data: {}'.format(len(test_data)))"
   ]
  },
  {
   "cell_type": "markdown",
   "metadata": {},
   "source": [
    "### Train the model"
   ]
  },
  {
   "cell_type": "markdown",
   "metadata": {},
   "source": [
    "There are many different types of model to use for classifying text data. The most common one is called Naive Bayesion Classifier and that is the one we are going to use here."
   ]
  },
  {
   "cell_type": "code",
   "execution_count": 57,
   "metadata": {},
   "outputs": [
    {
     "name": "stdout",
     "output_type": "stream",
     "text": [
      "Most Informative Features\n",
      "         contains(bitch) = True                1 : 0      =      7.2 : 1.0\n",
      "          contains(fuck) = True                1 : 0      =      5.3 : 1.0\n",
      "           contains(get) = True                0 : 1      =      4.9 : 1.0\n",
      "        contains(muslim) = True                1 : 0      =      4.4 : 1.0\n",
      "     contains(terrorist) = True                1 : 0      =      4.4 : 1.0\n",
      "        contains(immigr) = True                1 : 0      =      3.1 : 1.0\n",
      "         contains(black) = True                1 : 0      =      3.1 : 1.0\n",
      "           contains(let) = True                0 : 1      =      2.9 : 1.0\n",
      "           contains(you) = True                1 : 0      =      2.4 : 1.0\n",
      "           contains(one) = True                0 : 1      =      2.3 : 1.0\n"
     ]
    }
   ],
   "source": [
    "# Naive Bayesian\n",
    "classifier1 = nltk.NaiveBayesClassifier.train(train_data)\n",
    "# SHOW FEATURES\n",
    "classifier1.show_most_informative_features(10)\n",
    "\n",
    "# Save the model into a pickle file\n",
    "f = open('classifier.pickle', 'wb')\n",
    "pickle.dump(classifier1, f)\n",
    "f.close()"
   ]
  },
  {
   "cell_type": "markdown",
   "metadata": {},
   "source": [
    "That's it! The model has been trained on the train_data.\n",
    "\n",
    "We can see which features the model considers important to decide between hateful speech and non-hateful speech.\n",
    "\n",
    "- Column 3 shows the ratio of occurence of each informative feature in both categories (hate vs nonhate).\n",
    "- Column 2 shows the direction of the ratio (which label occurs more frequently). Hate is 1, non-hate is 0. The label on the left is the label most associated with the corresponding feature.\n",
    "\n",
    "For example, tweets containing the word 'immigrants' are <span style=\"color:red\">5.7 times</span> more likely to be hateful than not."
   ]
  },
  {
   "cell_type": "markdown",
   "metadata": {},
   "source": [
    "Now let's test the accuracy of our model on the test_data that we set aside earlier. These are tweets that the model has never seen before. We'll ask the model to classify them and see how its outcome compares with the true label of the tweet."
   ]
  },
  {
   "cell_type": "markdown",
   "metadata": {},
   "source": [
    "### Test the classifier"
   ]
  },
  {
   "cell_type": "code",
   "execution_count": 58,
   "metadata": {},
   "outputs": [
    {
     "data": {
      "text/plain": [
       "0.825"
      ]
     },
     "execution_count": 58,
     "metadata": {},
     "output_type": "execute_result"
    }
   ],
   "source": [
    "accuracy =  nltk.classify.util.accuracy(classifier1, test_data)\n",
    "accuracy"
   ]
  },
  {
   "cell_type": "markdown",
   "metadata": {},
   "source": [
    "## Part 5. Use the classifier to identify hateful speech"
   ]
  },
  {
   "cell_type": "markdown",
   "metadata": {},
   "source": [
    "Now try our classifier on a new tweet of your choice. First we need to preprocess the tweet (clean, tokenize, stem and remove stopwords). Then we need to extract its features to look like the right input for the classifier."
   ]
  },
  {
   "cell_type": "code",
   "execution_count": 59,
   "metadata": {},
   "outputs": [],
   "source": [
    "testTweet = 'Hello world!'"
   ]
  },
  {
   "cell_type": "code",
   "execution_count": 60,
   "metadata": {},
   "outputs": [
    {
     "name": "stdout",
     "output_type": "stream",
     "text": [
      "Preprocessed tweet: ['hello', 'world']\n"
     ]
    }
   ],
   "source": [
    "# Prepare the tweet\n",
    "def preprocessTweet(tweet):\n",
    "    \n",
    "    # clean the tweet\n",
    "    tweet = cleanTweet(testTweet)\n",
    "    \n",
    "    # tokenize the cleaned tweet\n",
    "    tokenised_tweet = nltk.word_tokenize(tweet)\n",
    "    \n",
    "    # remove stop words\n",
    "    tokenised_tweet_stpwd = [item for item in tokenised_tweet if item not in stopWords]\n",
    "    \n",
    "    # stem\n",
    "    pre_processed_tweet = [ps.stem(word) for word in tokenised_tweet_stpwd]\n",
    "    \n",
    "    print('Preprocessed tweet: {}'.format(pre_processed_tweet))\n",
    "    \n",
    "    return pre_processed_tweet\n",
    "\n",
    "preprocessed_tweet = preprocessTweet(testTweet)"
   ]
  },
  {
   "cell_type": "code",
   "execution_count": 61,
   "metadata": {},
   "outputs": [
    {
     "name": "stdout",
     "output_type": "stream",
     "text": [
      "{'contains(fuck)': False, 'contains(you)': False, 'contains(off)': False, 'contains(go)': False, 'contains(hate)': False, \"contains(('fuck', 'off'))\": False, 'contains(get)': False, 'contains(paki)': False, 'contains(bastard)': False, 'contains(bitch)': False, 'contains(nigger)': False, 'contains(countri)': False, 'contains(immigr)': False, 'contains(cunt)': False, 'contains(polish)': False, 'contains(home)': False, 'contains(out)': False, 'contains(terrorist)': False, 'contains(leav)': False, 'contains(muslim)': False, 'contains(faggot)': False, 'contains(like)': False, 'contains(back)': False, 'contains(road)': False, 'contains(black)': False, \"contains(('off', 'you'))\": False, \"contains(('fuck', 'off', 'you'))\": False, 'contains(come)': False, 'contains(brexit)': False, 'contains(them)': False, 'contains(let)': False, 'contains(mani)': False, 'contains(peopl)': False, 'contains(enough)': False, 'contains(from)': False, 'contains(work)': False, 'contains(daddi)': False, \"contains(('fuck', 'paki'))\": False, 'contains(make)': False, 'contains(shut)': False, \"contains(('you', 'fuck'))\": False, 'contains(scum)': False, 'contains(way)': False, 'contains(even)': False, 'contains(one)': False, 'contains(give)': False, 'contains(nail)': False, 'contains(racist)': False, 'contains(white)': False, 'contains(need)': False}\n"
     ]
    }
   ],
   "source": [
    "# extract features\n",
    "tweet_feature_set = extract_features(preprocessed_tweet) \n",
    "print(tweet_feature_set)"
   ]
  },
  {
   "cell_type": "code",
   "execution_count": 62,
   "metadata": {},
   "outputs": [
    {
     "name": "stdout",
     "output_type": "stream",
     "text": [
      "Not hateful\n"
     ]
    }
   ],
   "source": [
    "# Classify\n",
    "verdict = classifier1.classify(tweet_feature_set)\n",
    "\n",
    "if verdict == 0:\n",
    "    print('Not hateful')\n",
    "else:\n",
    "    print('Hateful')\n",
    "\n"
   ]
  },
  {
   "cell_type": "markdown",
   "metadata": {},
   "source": [
    "### Activity: try it!\n",
    "\n",
    "Make some of your own tweets and see whether or not they are hateful"
   ]
  },
  {
   "cell_type": "code",
   "execution_count": 67,
   "metadata": {},
   "outputs": [],
   "source": [
    "testTweet = \"This is a test of hatefullness\""
   ]
  },
  {
   "cell_type": "code",
   "execution_count": 68,
   "metadata": {},
   "outputs": [
    {
     "name": "stdout",
     "output_type": "stream",
     "text": [
      "Preprocessed tweet: ['test', 'hateful']\n",
      "Not hateful\n"
     ]
    }
   ],
   "source": [
    "preprocessed_tweet = preprocessTweet(testTweet)\n",
    "tweet_feature_set = extract_features(preprocessed_tweet) \n",
    "verdict = classifier1.classify(tweet_feature_set)\n",
    "\n",
    "if verdict == 0:\n",
    "    print('Not hateful')\n",
    "else:\n",
    "    print('Hateful with verdict '+str(verdict))"
   ]
  }
 ],
 "metadata": {
  "kernelspec": {
   "display_name": "Python 3",
   "language": "python",
   "name": "python3"
  },
  "language_info": {
   "codemirror_mode": {
    "name": "ipython",
    "version": 3
   },
   "file_extension": ".py",
   "mimetype": "text/x-python",
   "name": "python",
   "nbconvert_exporter": "python",
   "pygments_lexer": "ipython3",
   "version": "3.7.4"
  }
 },
 "nbformat": 4,
 "nbformat_minor": 4
}
